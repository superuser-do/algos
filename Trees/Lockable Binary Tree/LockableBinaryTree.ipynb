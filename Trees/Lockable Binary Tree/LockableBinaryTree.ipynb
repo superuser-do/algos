{
 "cells": [
  {
   "cell_type": "code",
   "execution_count": 1,
   "metadata": {},
   "outputs": [],
   "source": [
    "class LockingBinaryTreeNode(object):\n",
    "    def __init__(self, val, left=None, right=None, parent=None):\n",
    "        self.val = val\n",
    "        self.left = left\n",
    "        self.right = right\n",
    "        self.parent = parent\n",
    "        self.locked_decendants_count = 0\n",
    "    \n",
    "    def _can_lock_or_unlock(self):\n",
    "        if self.locked_decendants_count > 0:\n",
    "            return False\n",
    "        \n",
    "        cur = self.parent\n",
    "        while cur:\n",
    "            if cur._is_locked:\n",
    "                return False\n",
    "            cur = cur.parent\n",
    "        return True\n",
    "\n",
    "    def is_locked(self):\n",
    "        return self._is_locked\n",
    "\n",
    "    def lock(self):\n",
    "        if self._can_lock_or_unlock():\n",
    "            # Not locked, so update is_locked and increment count in all ancesotrs\n",
    "            self._is_locked = True\n",
    "            \n",
    "            cur = self.parent\n",
    "            while cur:\n",
    "                cur.locked_decendants_count += 1\n",
    "                cur = cur.parent\n",
    "            return True\n",
    "        else:\n",
    "            return False\n",
    "\n",
    "    def unlock(self):\n",
    "        if self._can_lock_or_unlock:\n",
    "            self._is_locked = False\n",
    "        \n",
    "            # Update count in all ancestors\n",
    "            cur = self.parent\n",
    "            while cur:\n",
    "                cur.locked_decendants_count -= 1\n",
    "                cur = cur.parent\n",
    "            return True\n",
    "        else:\n",
    "            return False\n",
    "    "
   ]
  },
  {
   "cell_type": "code",
   "execution_count": null,
   "metadata": {},
   "outputs": [],
   "source": []
  }
 ],
 "metadata": {
  "kernelspec": {
   "display_name": "Python 3.8.1 64-bit ('3.8.1')",
   "language": "python",
   "name": "python3"
  },
  "language_info": {
   "codemirror_mode": {
    "name": "ipython",
    "version": 3
   },
   "file_extension": ".py",
   "mimetype": "text/x-python",
   "name": "python",
   "nbconvert_exporter": "python",
   "pygments_lexer": "ipython3",
   "version": "3.8.1"
  },
  "orig_nbformat": 4,
  "vscode": {
   "interpreter": {
    "hash": "375f31c95a1f71fff43a8c15a66b494e52edd6575b524e15991f1100f99ee6b3"
   }
  }
 },
 "nbformat": 4,
 "nbformat_minor": 2
}
