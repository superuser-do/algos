{
 "cells": [
  {
   "cell_type": "code",
   "execution_count": 1,
   "metadata": {},
   "outputs": [],
   "source": [
    "import heapq"
   ]
  },
  {
   "cell_type": "code",
   "execution_count": 2,
   "metadata": {},
   "outputs": [],
   "source": [
    "def lastStoneWeight(stones):\n",
    "    # Make all stones negative. We want to do this *in place*, to keep the\n",
    "    # space complexity of the algorithm at O(1)\n",
    "    for i in range(len(stones)):\n",
    "        stones[i] *= -1\n",
    "    \n",
    "    # Heapify all the stones\n",
    "    heapq.heapify(stones)\n",
    "\n",
    "    # While there is more than one stone left, remove the two\n",
    "    # largest, smash them together, and insert the result\n",
    "    # back into the heap if it is non-zero.\n",
    "    while len(stones) > 1:\n",
    "        stone_1 = heapq.heappop(stones)\n",
    "        stone_2 = heapq.heappop(stones)\n",
    "        if stone_1 != stone_2:\n",
    "            heapq.heappush(stones, stone_1 - stone_2)\n",
    "\n",
    "     # Check if there is a stone left to return. Convert it back\n",
    "    # to positive.\n",
    "    return -heapq.heappop(stones) if stones else 0        "
   ]
  },
  {
   "cell_type": "code",
   "execution_count": 3,
   "metadata": {},
   "outputs": [
    {
     "data": {
      "text/plain": [
       "1"
      ]
     },
     "execution_count": 3,
     "metadata": {},
     "output_type": "execute_result"
    }
   ],
   "source": [
    "lastStoneWeight([2,7,4,1,8,1])"
   ]
  },
  {
   "cell_type": "code",
   "execution_count": 4,
   "metadata": {},
   "outputs": [
    {
     "data": {
      "text/plain": [
       "1"
      ]
     },
     "execution_count": 4,
     "metadata": {},
     "output_type": "execute_result"
    }
   ],
   "source": [
    "lastStoneWeight([1])"
   ]
  },
  {
   "cell_type": "code",
   "execution_count": null,
   "metadata": {},
   "outputs": [],
   "source": []
  }
 ],
 "metadata": {
  "kernelspec": {
   "display_name": "Python 3.8.1 64-bit ('3.8.1')",
   "language": "python",
   "name": "python3"
  },
  "language_info": {
   "codemirror_mode": {
    "name": "ipython",
    "version": 3
   },
   "file_extension": ".py",
   "mimetype": "text/x-python",
   "name": "python",
   "nbconvert_exporter": "python",
   "pygments_lexer": "ipython3",
   "version": "3.8.1"
  },
  "orig_nbformat": 4,
  "vscode": {
   "interpreter": {
    "hash": "375f31c95a1f71fff43a8c15a66b494e52edd6575b524e15991f1100f99ee6b3"
   }
  }
 },
 "nbformat": 4,
 "nbformat_minor": 2
}
