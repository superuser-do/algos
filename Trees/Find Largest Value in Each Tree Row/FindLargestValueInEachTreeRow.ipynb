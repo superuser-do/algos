{
 "cells": [
  {
   "cell_type": "code",
   "execution_count": 2,
   "metadata": {},
   "outputs": [],
   "source": [
    "import os, sys\n",
    "sys.path.append(os.path.dirname(os.path.dirname(os.path.abspath(\"\"))))\n",
    "from Helpers import *\n",
    "from collections import deque"
   ]
  },
  {
   "cell_type": "code",
   "execution_count": 3,
   "metadata": {},
   "outputs": [],
   "source": [
    "def largestValues(root):\n",
    "    result = []\n",
    "    q = deque([root])\n",
    "    if root:\n",
    "        while q:\n",
    "            current_max = float(\"-inf\")\n",
    "            for _ in range(len(q)):\n",
    "                current = q.popleft()\n",
    "                current_max = max(current_max, current.value)\n",
    "                if current.left:\n",
    "                    q.append(current.left)\n",
    "                if current.right:\n",
    "                    q.append(current.right)\n",
    "            result.append(current_max)\n",
    "    return result"
   ]
  },
  {
   "cell_type": "code",
   "execution_count": null,
   "metadata": {},
   "outputs": [],
   "source": []
  },
  {
   "cell_type": "code",
   "execution_count": 4,
   "metadata": {},
   "outputs": [],
   "source": [
    "def largestValues(root):\n",
    "    result = []\n",
    "    def dfs(node, level):\n",
    "        if node:\n",
    "            if len(result) - 1 < level:\n",
    "                result.append(node.value)\n",
    "            else:\n",
    "                result[level] = max(node.value, result[level])\n",
    "        dfs(node.left, level + 1)\n",
    "        dfs(node.right,level + 1)\n",
    "\n",
    "    dfs(root, 0)\n",
    "    return result"
   ]
  },
  {
   "cell_type": "code",
   "execution_count": null,
   "metadata": {},
   "outputs": [],
   "source": []
  }
 ],
 "metadata": {
  "kernelspec": {
   "display_name": "Python 3.8.1 64-bit ('3.8.1')",
   "language": "python",
   "name": "python3"
  },
  "language_info": {
   "codemirror_mode": {
    "name": "ipython",
    "version": 3
   },
   "file_extension": ".py",
   "mimetype": "text/x-python",
   "name": "python",
   "nbconvert_exporter": "python",
   "pygments_lexer": "ipython3",
   "version": "3.8.1"
  },
  "orig_nbformat": 4,
  "vscode": {
   "interpreter": {
    "hash": "375f31c95a1f71fff43a8c15a66b494e52edd6575b524e15991f1100f99ee6b3"
   }
  }
 },
 "nbformat": 4,
 "nbformat_minor": 2
}
