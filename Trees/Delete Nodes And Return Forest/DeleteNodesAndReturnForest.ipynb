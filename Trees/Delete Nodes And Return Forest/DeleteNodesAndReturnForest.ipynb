{
 "cells": [
  {
   "cell_type": "code",
   "execution_count": 1,
   "metadata": {},
   "outputs": [],
   "source": [
    "import os, sys\n",
    "sys.path.append(os.path.dirname(os.path.dirname(os.path.abspath(\"\"))))\n",
    "from Helpers import *"
   ]
  },
  {
   "cell_type": "code",
   "execution_count": 34,
   "metadata": {},
   "outputs": [],
   "source": [
    "def del_nodes(root, to_delete):\n",
    "    remaining = []\n",
    "\n",
    "    def delete(node):\n",
    "        if not node:\n",
    "            return None\n",
    "        node.left = delete(node.left)\n",
    "        node.right = delete(node.right)\n",
    "\n",
    "        if node.value in to_delete:\n",
    "            if node.left:\n",
    "                remaining.append(node.left)\n",
    "            if node.right:\n",
    "                remaining.append(node.right)\n",
    "            return None\n",
    "        return node\n",
    "\n",
    "    node = delete(root)\n",
    "    if node:\n",
    "        remaining.append(node)\n",
    "\n",
    "    return remaining"
   ]
  },
  {
   "cell_type": "code",
   "execution_count": 35,
   "metadata": {},
   "outputs": [
    {
     "data": {
      "text/plain": [
       "[<Helpers.TreeNode at 0x1095b74c0>,\n",
       " <Helpers.TreeNode at 0x1095b71f0>,\n",
       " <Helpers.TreeNode at 0x1095b72e0>,\n",
       " <Helpers.TreeNode at 0x1095b76d0>,\n",
       " <Helpers.TreeNode at 0x109544700>]"
      ]
     },
     "execution_count": 35,
     "metadata": {},
     "output_type": "execute_result"
    }
   ],
   "source": [
    "del_nodes(arrayToTree([1,2,3,4,5,6,7]), [3,5])"
   ]
  },
  {
   "cell_type": "code",
   "execution_count": null,
   "metadata": {},
   "outputs": [],
   "source": []
  }
 ],
 "metadata": {
  "kernelspec": {
   "display_name": "Python 3.8.1 64-bit ('3.8.1')",
   "language": "python",
   "name": "python3"
  },
  "language_info": {
   "codemirror_mode": {
    "name": "ipython",
    "version": 3
   },
   "file_extension": ".py",
   "mimetype": "text/x-python",
   "name": "python",
   "nbconvert_exporter": "python",
   "pygments_lexer": "ipython3",
   "version": "3.8.1"
  },
  "orig_nbformat": 4,
  "vscode": {
   "interpreter": {
    "hash": "375f31c95a1f71fff43a8c15a66b494e52edd6575b524e15991f1100f99ee6b3"
   }
  }
 },
 "nbformat": 4,
 "nbformat_minor": 2
}
