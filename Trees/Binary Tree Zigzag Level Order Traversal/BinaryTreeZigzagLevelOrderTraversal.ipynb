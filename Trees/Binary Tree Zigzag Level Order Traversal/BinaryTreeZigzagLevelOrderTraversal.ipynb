{
 "cells": [
  {
   "cell_type": "code",
   "execution_count": 1,
   "metadata": {},
   "outputs": [],
   "source": [
    "import os, sys\n",
    "sys.path.append(os.path.dirname(os.path.dirname(os.path.abspath(\"\"))))\n",
    "from Helpers import *"
   ]
  },
  {
   "cell_type": "code",
   "execution_count": 4,
   "metadata": {},
   "outputs": [],
   "source": [
    "def zigzagLevelOrder(root):\n",
    "    if not root:\n",
    "        return []\n",
    "    stack1 = [root]\n",
    "    stack2 = []\n",
    "    level = []\n",
    "    result = []\n",
    "    \n",
    "    while stack1 or stack2:\n",
    "        while stack1:\n",
    "            root = stack1.pop()\n",
    "            level.append(root.value)\n",
    "            if root.left:\n",
    "                stack2.append(root.left)\n",
    "            if root.right:\n",
    "                stack2.append(root.right)\n",
    "        result.append(level)\n",
    "        level = []\n",
    "        \n",
    "        while stack2:\n",
    "            root = stack2.pop()\n",
    "            level.append(root.value)\n",
    "            if root.right:\n",
    "                stack1.append(root.right)\n",
    "            if root.left:\n",
    "                stack1.append(root.left)\n",
    "        if level != []:\n",
    "            result.append(level)\n",
    "            level = []\n",
    "    return result\n"
   ]
  },
  {
   "cell_type": "code",
   "execution_count": 5,
   "metadata": {},
   "outputs": [
    {
     "data": {
      "text/plain": [
       "[[3], [20, 5], [15, 7]]"
      ]
     },
     "execution_count": 5,
     "metadata": {},
     "output_type": "execute_result"
    }
   ],
   "source": [
    "tree = TreeNode(3, TreeNode(5), TreeNode(20, TreeNode(15), TreeNode(7)))\n",
    "zigzagLevelOrder(tree)"
   ]
  },
  {
   "cell_type": "code",
   "execution_count": 6,
   "metadata": {},
   "outputs": [],
   "source": [
    "def zigzagLevelOrder(root):\n",
    "    result = []\n",
    "    def dfs(node, level, result):\n",
    "        if not node:\n",
    "            return\n",
    "        if len(result) <= level:\n",
    "            result += [[]]\n",
    "        dfs(node.left, level + 1, result)\n",
    "        dfs(node.right, level + 1, result)\n",
    "        if level % 2 == 0:\n",
    "            result[level].append(node.value)\n",
    "        else:\n",
    "            result[level].insert(0, node.value)\n",
    "\n",
    "    dfs(root, 0, result)\n",
    "    return result"
   ]
  },
  {
   "cell_type": "code",
   "execution_count": 7,
   "metadata": {},
   "outputs": [
    {
     "data": {
      "text/plain": [
       "[[3], [20, 5], [15, 7]]"
      ]
     },
     "execution_count": 7,
     "metadata": {},
     "output_type": "execute_result"
    }
   ],
   "source": [
    "tree = TreeNode(3, TreeNode(5), TreeNode(20, TreeNode(15), TreeNode(7)))\n",
    "zigzagLevelOrder(tree)"
   ]
  },
  {
   "cell_type": "code",
   "execution_count": null,
   "metadata": {},
   "outputs": [],
   "source": []
  }
 ],
 "metadata": {
  "kernelspec": {
   "display_name": "Python 3.8.1 64-bit ('3.8.1')",
   "language": "python",
   "name": "python3"
  },
  "language_info": {
   "codemirror_mode": {
    "name": "ipython",
    "version": 3
   },
   "file_extension": ".py",
   "mimetype": "text/x-python",
   "name": "python",
   "nbconvert_exporter": "python",
   "pygments_lexer": "ipython3",
   "version": "3.8.1"
  },
  "orig_nbformat": 4,
  "vscode": {
   "interpreter": {
    "hash": "375f31c95a1f71fff43a8c15a66b494e52edd6575b524e15991f1100f99ee6b3"
   }
  }
 },
 "nbformat": 4,
 "nbformat_minor": 2
}
