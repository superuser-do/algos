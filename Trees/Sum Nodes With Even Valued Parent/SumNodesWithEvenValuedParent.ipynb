{
 "cells": [
  {
   "cell_type": "code",
   "execution_count": 1,
   "metadata": {},
   "outputs": [],
   "source": [
    "import os, sys\n",
    "sys.path.append(os.path.dirname(os.path.dirname(os.path.abspath(\"\"))))\n",
    "from Helpers import *"
   ]
  },
  {
   "cell_type": "code",
   "execution_count": 6,
   "metadata": {},
   "outputs": [],
   "source": [
    "def sumNodesWithEvenParent(root):\n",
    "    if not root:\n",
    "        return 0\n",
    "\n",
    "    total = [0]\n",
    "\n",
    "    def dfs(node, parentValue = None):\n",
    "        if not node:\n",
    "            return\n",
    "        if parentValue and parentValue % 2  == 0:\n",
    "            total[0] += node.value\n",
    "        \n",
    "        dfs(node.left, node.value)\n",
    "        dfs(node.right, node.value)\n",
    "\n",
    "    dfs(root)\n",
    "    return total[0]"
   ]
  },
  {
   "cell_type": "code",
   "execution_count": 4,
   "metadata": {},
   "outputs": [
    {
     "data": {
      "text/plain": [
       "0"
      ]
     },
     "execution_count": 4,
     "metadata": {},
     "output_type": "execute_result"
    }
   ],
   "source": [
    "sumNodesWithEvenParent(None)"
   ]
  },
  {
   "cell_type": "code",
   "execution_count": 7,
   "metadata": {},
   "outputs": [
    {
     "data": {
      "text/plain": [
       "19"
      ]
     },
     "execution_count": 7,
     "metadata": {},
     "output_type": "execute_result"
    }
   ],
   "source": [
    "root = TreeNode(6,\n",
    "  TreeNode(7,\n",
    "     TreeNode(2),\n",
    "     TreeNode(7)\n",
    "  ),\n",
    "  TreeNode(8,\n",
    "      TreeNode(1),\n",
    "      TreeNode(3)\n",
    "  )\n",
    ")\n",
    "sumNodesWithEvenParent(root)"
   ]
  },
  {
   "cell_type": "code",
   "execution_count": null,
   "metadata": {},
   "outputs": [],
   "source": []
  }
 ],
 "metadata": {
  "kernelspec": {
   "display_name": "Python 3.8.1 64-bit ('3.8.1')",
   "language": "python",
   "name": "python3"
  },
  "language_info": {
   "codemirror_mode": {
    "name": "ipython",
    "version": 3
   },
   "file_extension": ".py",
   "mimetype": "text/x-python",
   "name": "python",
   "nbconvert_exporter": "python",
   "pygments_lexer": "ipython3",
   "version": "3.8.1"
  },
  "orig_nbformat": 4,
  "vscode": {
   "interpreter": {
    "hash": "375f31c95a1f71fff43a8c15a66b494e52edd6575b524e15991f1100f99ee6b3"
   }
  }
 },
 "nbformat": 4,
 "nbformat_minor": 2
}
