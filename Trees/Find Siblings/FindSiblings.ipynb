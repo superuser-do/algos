{
 "cells": [
  {
   "cell_type": "code",
   "execution_count": 1,
   "metadata": {},
   "outputs": [],
   "source": [
    "import os, sys\n",
    "sys.path.append(os.path.dirname(os.path.dirname(os.path.abspath(\"\"))))\n",
    "from Helpers import *"
   ]
  },
  {
   "cell_type": "code",
   "execution_count": 2,
   "metadata": {},
   "outputs": [],
   "source": [
    "def findSiblingNodes(root):\n",
    "    siblings = []\n",
    "    \n",
    "    def dfs(node):\n",
    "        if not node:\n",
    "            return\n",
    "        if node.left and node.right:\n",
    "            siblings.append(node.left)\n",
    "            siblings.append(node.right)\n",
    "        dfs(node.left)\n",
    "        dfs(node.right)\n",
    "\n",
    "    dfs(root)\n",
    "    for node in siblings:\n",
    "        print(node.value)\n",
    "    return siblings"
   ]
  },
  {
   "cell_type": "code",
   "execution_count": 3,
   "metadata": {},
   "outputs": [
    {
     "name": "stdout",
     "output_type": "stream",
     "text": [
      "2\n",
      "3\n"
     ]
    },
    {
     "data": {
      "text/plain": [
       "[<Helpers.TreeNode at 0x10e7a3370>, <Helpers.TreeNode at 0x10e7a31c0>]"
      ]
     },
     "execution_count": 3,
     "metadata": {},
     "output_type": "execute_result"
    }
   ],
   "source": [
    "tree = TreeNode(1)\n",
    "tree.left = TreeNode(2)\n",
    "tree.right = TreeNode(3)\n",
    "tree.left.right = TreeNode(4)\n",
    "findSiblingNodes(tree)"
   ]
  },
  {
   "cell_type": "code",
   "execution_count": 4,
   "metadata": {},
   "outputs": [
    {
     "name": "stdout",
     "output_type": "stream",
     "text": [
      "3\n",
      "4\n"
     ]
    },
    {
     "data": {
      "text/plain": [
       "[<Helpers.TreeNode at 0x10f488a00>, <Helpers.TreeNode at 0x10f488af0>]"
      ]
     },
     "execution_count": 4,
     "metadata": {},
     "output_type": "execute_result"
    }
   ],
   "source": [
    "tree = TreeNode(12)\n",
    "tree.left = TreeNode(3)\n",
    "tree.right = TreeNode(4)\n",
    "tree.left.left = TreeNode(1)\n",
    "tree.left.left.left = TreeNode(6)\n",
    "findSiblingNodes(tree)"
   ]
  },
  {
   "cell_type": "code",
   "execution_count": 5,
   "metadata": {},
   "outputs": [
    {
     "name": "stdout",
     "output_type": "stream",
     "text": [
      "3\n",
      "4\n",
      "9\n",
      "7\n"
     ]
    },
    {
     "data": {
      "text/plain": [
       "[<Helpers.TreeNode at 0x10e7a3040>,\n",
       " <Helpers.TreeNode at 0x10f488b50>,\n",
       " <Helpers.TreeNode at 0x10e7a32e0>,\n",
       " <Helpers.TreeNode at 0x10e7a3670>]"
      ]
     },
     "execution_count": 5,
     "metadata": {},
     "output_type": "execute_result"
    }
   ],
   "source": [
    "tree = TreeNode(12)\n",
    "tree.left = TreeNode(3)\n",
    "tree.right = TreeNode(4)\n",
    "tree.left.left = TreeNode(1)\n",
    "tree.left.left.left = TreeNode(6)\n",
    "tree.left.left.left.left = TreeNode(9)\n",
    "tree.left.left.left.right = TreeNode(7)\n",
    "findSiblingNodes(tree)\n"
   ]
  },
  {
   "cell_type": "code",
   "execution_count": null,
   "metadata": {},
   "outputs": [],
   "source": [
    "\n"
   ]
  }
 ],
 "metadata": {
  "kernelspec": {
   "display_name": "Python 3.8.1 64-bit ('3.8.1')",
   "language": "python",
   "name": "python3"
  },
  "language_info": {
   "codemirror_mode": {
    "name": "ipython",
    "version": 3
   },
   "file_extension": ".py",
   "mimetype": "text/x-python",
   "name": "python",
   "nbconvert_exporter": "python",
   "pygments_lexer": "ipython3",
   "version": "3.8.1"
  },
  "orig_nbformat": 4,
  "vscode": {
   "interpreter": {
    "hash": "375f31c95a1f71fff43a8c15a66b494e52edd6575b524e15991f1100f99ee6b3"
   }
  }
 },
 "nbformat": 4,
 "nbformat_minor": 2
}
