{
 "cells": [
  {
   "cell_type": "code",
   "execution_count": 1,
   "metadata": {},
   "outputs": [],
   "source": [
    "def minTransfers(transactions):\n",
    "    totals = dict()\n",
    "\n",
    "    for lender, borrower, amount in transactions:\n",
    "        totals[lender] = totals.get(lender, 0) - amount\n",
    "        totals[borrower] = totals.get(borrower, 0) + amount\n",
    "    \n",
    "    debts = [totals[id] for id in totals if totals[id]] # indexed by person id.\n",
    "\n",
    "    def backtrack(id):\n",
    "        while id < len(debts) and debts[id] == 0:\n",
    "            id += 1\n",
    "        \n",
    "        if id == len(debts):\n",
    "            return 0\n",
    "\n",
    "        min_transaction_count = sys.maxsize\n",
    "        for i in range(id+1, len(debts)):\n",
    "            # Can we lower the number of transactions by \"canceling out\" another balance?\n",
    "            if debts[i] * debts[id] < 0:\n",
    "                debts[i] += debts[id]\n",
    "                min_transaction_count = min(min_transaction_count, backtrack(id+1) + 1)\n",
    "                debts[i] -= debts[id] # Reset array to test other payment options\n",
    "        return min_transaction_count\n",
    "\n",
    "    return backtrack(0)"
   ]
  },
  {
   "cell_type": "code",
   "execution_count": 2,
   "metadata": {},
   "outputs": [
    {
     "data": {
      "text/plain": [
       "2"
      ]
     },
     "execution_count": 2,
     "metadata": {},
     "output_type": "execute_result"
    }
   ],
   "source": [
    "minTransfers([[0,1,10],[2,0,5]])"
   ]
  },
  {
   "cell_type": "code",
   "execution_count": null,
   "metadata": {},
   "outputs": [],
   "source": []
  }
 ],
 "metadata": {
  "kernelspec": {
   "display_name": "Python 3.8.1 64-bit ('3.8.1')",
   "language": "python",
   "name": "python3"
  },
  "language_info": {
   "name": "python",
   "version": "3.8.1"
  },
  "orig_nbformat": 4,
  "vscode": {
   "interpreter": {
    "hash": "375f31c95a1f71fff43a8c15a66b494e52edd6575b524e15991f1100f99ee6b3"
   }
  }
 },
 "nbformat": 4,
 "nbformat_minor": 2
}
