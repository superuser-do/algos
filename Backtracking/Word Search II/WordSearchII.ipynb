{
 "cells": [
  {
   "cell_type": "code",
   "execution_count": 1,
   "metadata": {},
   "outputs": [],
   "source": [
    "class TrieNode:\n",
    "    def __init__(self):\n",
    "        self.children = {}\n",
    "        self.isWord = False\n",
    "\n",
    "    def addWord(self, word):\n",
    "        curr = self\n",
    "        for c in word:\n",
    "            if c not in curr.children:\n",
    "                curr.children[c] = TrieNode()\n",
    "            curr = curr.children[c]\n",
    "        curr.isWord = True"
   ]
  },
  {
   "cell_type": "code",
   "execution_count": 12,
   "metadata": {},
   "outputs": [],
   "source": [
    "def findWords(board, words):\n",
    "    root = TrieNode()\n",
    "    for w in words:\n",
    "        root.addWord(w)\n",
    "\n",
    "    ROWS, COLS = len(board), len(board[0])\n",
    "    result, visited = set(), set()\n",
    "\n",
    "    def dfs(row, col, node, word):\n",
    "        if (row < 0 or col < 0 or\n",
    "            row == ROWS or col == COLS or\n",
    "            (row, col) in visited or board[row][col] not in node.children):\n",
    "            return\n",
    "\n",
    "        visited.add((row, col))\n",
    "        node = node.children[board[row][col]]\n",
    "        word += board[row][col]\n",
    "        if node.isWord:\n",
    "            result.add(word)\n",
    "        print(visited, result)\n",
    "        dfs(row - 1, col, node, word)\n",
    "        dfs(row + 1, col, node, word)\n",
    "        dfs(row, col - 1, node, word)\n",
    "        dfs(row, col + 1, node, word)\n",
    "\n",
    "        visited.remove((row, col))\n",
    "\n",
    "    for row in range(ROWS):\n",
    "        for col in range(COLS):\n",
    "            dfs(row, col, root, \"\")\n",
    "\n",
    "    return list(result)"
   ]
  },
  {
   "cell_type": "code",
   "execution_count": 13,
   "metadata": {},
   "outputs": [
    {
     "name": "stdout",
     "output_type": "stream",
     "text": [
      "{(0, 0)} set()\n",
      "{(0, 1), (0, 0)} set()\n",
      "{(0, 1), (1, 1), (0, 0)} set()\n",
      "{(0, 1), (1, 1), (2, 1), (0, 0)} {'oath'}\n",
      "{(1, 0)} {'oath'}\n",
      "{(1, 3)} {'oath'}\n",
      "{(1, 2), (1, 3)} {'oath'}\n",
      "{(1, 1), (1, 2), (1, 3)} {'oath', 'eat'}\n",
      "{(2, 3)} {'oath', 'eat'}\n"
     ]
    },
    {
     "data": {
      "text/plain": [
       "['oath', 'eat']"
      ]
     },
     "execution_count": 13,
     "metadata": {},
     "output_type": "execute_result"
    }
   ],
   "source": [
    "board = [[\"o\",\"a\",\"a\",\"n\"],[\"e\",\"t\",\"a\",\"e\"],[\"i\",\"h\",\"k\",\"r\"],[\"i\",\"f\",\"l\",\"v\"]]\n",
    "words = [\"oath\",\"pea\",\"eat\",\"rain\"]\n",
    "findWords(board, words)"
   ]
  },
  {
   "cell_type": "code",
   "execution_count": 11,
   "metadata": {},
   "outputs": [
    {
     "data": {
      "text/plain": [
       "[]"
      ]
     },
     "execution_count": 11,
     "metadata": {},
     "output_type": "execute_result"
    }
   ],
   "source": [
    "board = [[\"a\",\"b\"],[\"c\",\"d\"]]\n",
    "words = [\"abcb\"]\n",
    "findWords(board, words)"
   ]
  },
  {
   "cell_type": "code",
   "execution_count": null,
   "metadata": {},
   "outputs": [],
   "source": []
  }
 ],
 "metadata": {
  "kernelspec": {
   "display_name": "Python 3.8.1 64-bit ('3.8.1')",
   "language": "python",
   "name": "python3"
  },
  "language_info": {
   "codemirror_mode": {
    "name": "ipython",
    "version": 3
   },
   "file_extension": ".py",
   "mimetype": "text/x-python",
   "name": "python",
   "nbconvert_exporter": "python",
   "pygments_lexer": "ipython3",
   "version": "3.8.1"
  },
  "orig_nbformat": 4,
  "vscode": {
   "interpreter": {
    "hash": "375f31c95a1f71fff43a8c15a66b494e52edd6575b524e15991f1100f99ee6b3"
   }
  }
 },
 "nbformat": 4,
 "nbformat_minor": 2
}
