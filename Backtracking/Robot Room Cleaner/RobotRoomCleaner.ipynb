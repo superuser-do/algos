{
 "cells": [
  {
   "cell_type": "code",
   "execution_count": 1,
   "metadata": {},
   "outputs": [],
   "source": [
    "class Robot:\n",
    "    # returns true if next cell is open and robot moves into the cell.\n",
    "    # returns false if next cell is obstacle and robot stays on the current cell.\n",
    "    def move():\n",
    "        pass\n",
    "    \n",
    "    # Robot will stay on the same cell after calling turnLeft/turnRight.\n",
    "    # Each turn will be 90 degrees.\n",
    "    def turnLeft():\n",
    "        pass\n",
    "    def turnRight():\n",
    "        pass\n",
    "\n",
    "    # Clean the current cell\n",
    "    def clean():\n",
    "        pass"
   ]
  },
  {
   "cell_type": "code",
   "execution_count": 2,
   "metadata": {},
   "outputs": [],
   "source": [
    "def cleanRoom(robot):\n",
    "    # up, right, down, left\n",
    "    directions = [(-1, 0), (0, 1), (1, 0), (0, -1)]\n",
    "    visited = set()\n",
    "\n",
    "    def go_back():\n",
    "        robot.turnRight()\n",
    "        robot.turnRight()\n",
    "        robot.move()\n",
    "        robot.turnRight()\n",
    "        robot.turnRight()\n",
    "\n",
    "    def backtrack(x, y, direction):\n",
    "        visited.add(x, y)\n",
    "        robot.clean()\n",
    "\n",
    "        for i in range(4):\n",
    "            new_direction = (direction + i) % 4\n",
    "            new_x = x + directions[new_direction][0]\n",
    "            new_y = y + directions[new_direction][1]\n",
    "\n",
    "            if (new_x, new_y) not in visited and round.move():\n",
    "                backtrack(new_x, new_y, new_direction)\n",
    "                go_back()\n",
    "\n",
    "            robot.turnRight()\n",
    "    \n",
    "    backtrack(0, 0, 0)"
   ]
  },
  {
   "cell_type": "code",
   "execution_count": null,
   "metadata": {},
   "outputs": [],
   "source": []
  }
 ],
 "metadata": {
  "kernelspec": {
   "display_name": "Python 3.8.1 64-bit ('3.8.1')",
   "language": "python",
   "name": "python3"
  },
  "language_info": {
   "codemirror_mode": {
    "name": "ipython",
    "version": 3
   },
   "file_extension": ".py",
   "mimetype": "text/x-python",
   "name": "python",
   "nbconvert_exporter": "python",
   "pygments_lexer": "ipython3",
   "version": "3.8.1"
  },
  "orig_nbformat": 4,
  "vscode": {
   "interpreter": {
    "hash": "375f31c95a1f71fff43a8c15a66b494e52edd6575b524e15991f1100f99ee6b3"
   }
  }
 },
 "nbformat": 4,
 "nbformat_minor": 2
}
