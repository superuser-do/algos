{
 "cells": [
  {
   "cell_type": "code",
   "execution_count": 33,
   "metadata": {},
   "outputs": [],
   "source": [
    "def grayCode(n):\n",
    "    result = []\n",
    "    used_bits = set()\n",
    "\n",
    "    def backtrack(curr):\n",
    "        if len(result) == 2**n:\n",
    "            return True\n",
    "        for i in range(n):\n",
    "            # Try to change one bit from 0 to n-1\n",
    "            next = curr ^ (1 << i)\n",
    "            # A candidate is not already used\n",
    "            if next not in used_bits:\n",
    "                used_bits.add(next)\n",
    "                result.append(next)\n",
    "                if backtrack(next):\n",
    "                    return True\n",
    "                # Fail to find a solution and backtrack\n",
    "                used_bits.remove(next)\n",
    "                result.pop()\n",
    "        return False\n",
    "\n",
    "    used_bits.add(0)\n",
    "    result.append(0)\n",
    "    backtrack(0)\n",
    "    return result"
   ]
  },
  {
   "cell_type": "code",
   "execution_count": 34,
   "metadata": {},
   "outputs": [
    {
     "data": {
      "text/plain": [
       "[0, 1, 3, 2]"
      ]
     },
     "execution_count": 34,
     "metadata": {},
     "output_type": "execute_result"
    }
   ],
   "source": [
    "grayCode(2)"
   ]
  },
  {
   "cell_type": "code",
   "execution_count": null,
   "metadata": {},
   "outputs": [],
   "source": []
  }
 ],
 "metadata": {
  "kernelspec": {
   "display_name": "Python 3.8.1 64-bit ('3.8.1')",
   "language": "python",
   "name": "python3"
  },
  "language_info": {
   "codemirror_mode": {
    "name": "ipython",
    "version": 3
   },
   "file_extension": ".py",
   "mimetype": "text/x-python",
   "name": "python",
   "nbconvert_exporter": "python",
   "pygments_lexer": "ipython3",
   "version": "3.8.1"
  },
  "orig_nbformat": 4,
  "vscode": {
   "interpreter": {
    "hash": "375f31c95a1f71fff43a8c15a66b494e52edd6575b524e15991f1100f99ee6b3"
   }
  }
 },
 "nbformat": 4,
 "nbformat_minor": 2
}
