{
 "cells": [
  {
   "cell_type": "code",
   "execution_count": 1,
   "metadata": {},
   "outputs": [],
   "source": [
    "def generatePasswords(validCharacters, minLength, maxLength):\n",
    "    passwords = []\n",
    "    letters = []\n",
    "\n",
    "    def helper():\n",
    "        if len(letters) >= minLength and len(letters) <= maxLength:\n",
    "            passwords.append(''.join(letters))\n",
    "        if len(letters) == maxLength:\n",
    "            return\n",
    "        for i in range(len(validCharacters)):\n",
    "            letters.append(validCharacters[i])\n",
    "            helper()\n",
    "            letters.pop()\n",
    "    \n",
    "    helper()\n",
    "    return passwords"
   ]
  },
  {
   "cell_type": "code",
   "execution_count": 2,
   "metadata": {},
   "outputs": [
    {
     "data": {
      "text/plain": [
       "['aa', 'aaa', 'aaaa']"
      ]
     },
     "execution_count": 2,
     "metadata": {},
     "output_type": "execute_result"
    }
   ],
   "source": [
    "generatePasswords([\"a\"], 2, 4)"
   ]
  },
  {
   "cell_type": "code",
   "execution_count": null,
   "metadata": {},
   "outputs": [],
   "source": [
    "def generatePasswords(chars, start, end):\n",
    "    passwords = set([''])\n",
    "    letters = []\n",
    "\n",
    "    for size in range(end):\n",
    "        if size < start:\n",
    "            options = chars\n",
    "        else:\n",
    "            options = chars + ['']\n",
    "\n",
    "        passwords = set([password + char for char in options for password in passwords])\n",
    "\n",
    "    return passwords\n"
   ]
  }
 ],
 "metadata": {
  "kernelspec": {
   "display_name": "Python 3.8.1 64-bit ('3.8.1')",
   "language": "python",
   "name": "python3"
  },
  "language_info": {
   "codemirror_mode": {
    "name": "ipython",
    "version": 3
   },
   "file_extension": ".py",
   "mimetype": "text/x-python",
   "name": "python",
   "nbconvert_exporter": "python",
   "pygments_lexer": "ipython3",
   "version": "3.8.1"
  },
  "orig_nbformat": 4,
  "vscode": {
   "interpreter": {
    "hash": "375f31c95a1f71fff43a8c15a66b494e52edd6575b524e15991f1100f99ee6b3"
   }
  }
 },
 "nbformat": 4,
 "nbformat_minor": 2
}
