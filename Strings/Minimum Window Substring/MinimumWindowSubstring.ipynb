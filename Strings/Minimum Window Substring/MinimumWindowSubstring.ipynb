{
 "cells": [
  {
   "cell_type": "code",
   "execution_count": 1,
   "metadata": {},
   "outputs": [],
   "source": [
    "def minimumWindow(s, t):\n",
    "    if t == \"\": return \"\"\n",
    "\n",
    "    countT, window = {}, {}\n",
    "\n",
    "    for c in t:\n",
    "        if c not in countT:\n",
    "            countT[c] = 0\n",
    "        countT[c] += 1\n",
    "\n",
    "    have, need = 0, len(countT)\n",
    "    res, resLen = [-1, -1], float(\"inf\")\n",
    "    l = 0\n",
    "    for r in range(len(s)):\n",
    "        c = s[r]\n",
    "        \n",
    "        if c not in window:\n",
    "            window[c] = 0\n",
    "        window[c] += 1\n",
    "\n",
    "        if c in countT and window[c] == countT[c]:\n",
    "            have += 1\n",
    "\n",
    "        while have == need:\n",
    "            if (r - l + 1) < resLen:\n",
    "                res = [l, r]\n",
    "                resLen = (r - l + 1)\n",
    "            \n",
    "            # pop from the left of our window\n",
    "            window[s[l]] -= 1\n",
    "            if s[l] in countT and window[s[l]] < countT[s[l]]:\n",
    "                have -= 1\n",
    "            l += 1\n",
    "\n",
    "    l, r = res\n",
    "    return s[l:r+1] if resLen != float(\"inf\") else \"\""
   ]
  },
  {
   "cell_type": "code",
   "execution_count": 2,
   "metadata": {},
   "outputs": [
    {
     "data": {
      "text/plain": [
       "'BANC'"
      ]
     },
     "execution_count": 2,
     "metadata": {},
     "output_type": "execute_result"
    }
   ],
   "source": [
    "minimumWindow(\"ADOBECODEBANC\", \"ABC\")"
   ]
  },
  {
   "cell_type": "code",
   "execution_count": null,
   "metadata": {},
   "outputs": [],
   "source": []
  }
 ],
 "metadata": {
  "kernelspec": {
   "display_name": "Python 3.8.1 64-bit ('3.8.1')",
   "language": "python",
   "name": "python3"
  },
  "language_info": {
   "codemirror_mode": {
    "name": "ipython",
    "version": 3
   },
   "file_extension": ".py",
   "mimetype": "text/x-python",
   "name": "python",
   "nbconvert_exporter": "python",
   "pygments_lexer": "ipython3",
   "version": "3.8.1"
  },
  "orig_nbformat": 4,
  "vscode": {
   "interpreter": {
    "hash": "375f31c95a1f71fff43a8c15a66b494e52edd6575b524e15991f1100f99ee6b3"
   }
  }
 },
 "nbformat": 4,
 "nbformat_minor": 2
}
