{
 "cells": [
  {
   "cell_type": "code",
   "execution_count": 5,
   "metadata": {},
   "outputs": [],
   "source": [
    "def calculate(s):\n",
    "    if not s:\n",
    "        return 0\n",
    "    \n",
    "    # Initialize the stack\n",
    "    stack = []\n",
    "\n",
    "    def append(operator, operand):\n",
    "        if operator == \"+\":\n",
    "            stack.append(operand)\n",
    "        elif operator == \"-\":\n",
    "            stack.append(-operand)\n",
    "        elif operator == \"*\":\n",
    "            stack.append(stack.pop() * operand)\n",
    "        else:\n",
    "            stack.append(int(stack.pop() / operand))\n",
    "\n",
    "     # Valid operators and digits\n",
    "    operators = {'+','-','*','/'}\n",
    "    digits = set(str(x) for x in range(0,10))\n",
    "\n",
    "    # Initialize current operator and operand\n",
    "    operator, operand = \"+\", 0\n",
    "\n",
    "    # Iterate through all characters in s\n",
    "    for char in s:\n",
    "        # If the char is a digit\n",
    "        if char in digits:\n",
    "\n",
    "            # Append it to the current operand\n",
    "            operand = operand * 10 + int(char)\n",
    "\n",
    "        # else if char is an operator:\n",
    "        elif char in operators:\n",
    "            # Append the current operator and operande to the stack\n",
    "            append(operator, operand)\n",
    "\n",
    "            # Update the current operator and operand\n",
    "            operator, operand = char, 0\n",
    "\n",
    "    # Add the last operand to the stack\n",
    "    append(operator, operand)\n",
    "\n",
    "    # Return the sum of all operands as the result\n",
    "    return sum(stack)"
   ]
  },
  {
   "cell_type": "code",
   "execution_count": 6,
   "metadata": {},
   "outputs": [
    {
     "data": {
      "text/plain": [
       "7"
      ]
     },
     "execution_count": 6,
     "metadata": {},
     "output_type": "execute_result"
    }
   ],
   "source": [
    "calculate(\"3+2*2\")"
   ]
  },
  {
   "cell_type": "code",
   "execution_count": null,
   "metadata": {},
   "outputs": [],
   "source": []
  }
 ],
 "metadata": {
  "kernelspec": {
   "display_name": "Python 3.8.1 64-bit ('3.8.1')",
   "language": "python",
   "name": "python3"
  },
  "language_info": {
   "codemirror_mode": {
    "name": "ipython",
    "version": 3
   },
   "file_extension": ".py",
   "mimetype": "text/x-python",
   "name": "python",
   "nbconvert_exporter": "python",
   "pygments_lexer": "ipython3",
   "version": "3.8.1"
  },
  "orig_nbformat": 4,
  "vscode": {
   "interpreter": {
    "hash": "375f31c95a1f71fff43a8c15a66b494e52edd6575b524e15991f1100f99ee6b3"
   }
  }
 },
 "nbformat": 4,
 "nbformat_minor": 2
}
