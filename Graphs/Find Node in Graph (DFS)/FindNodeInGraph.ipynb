{
 "cells": [
  {
   "cell_type": "code",
   "execution_count": 4,
   "metadata": {},
   "outputs": [],
   "source": [
    "class Node:\n",
    "    def __init__(self, val=None, children=[]):\n",
    "        self.val = val\n",
    "        self.children = children\n",
    "\n",
    "    # DFS as a class method\n",
    "    def hasPathTo(self, target: int) -> bool:\n",
    "        visited = set()\n",
    "\n",
    "        def dfs(node: Node) -> bool:\n",
    "            nonlocal target\n",
    "            if node.val == target:\n",
    "                return True\n",
    "            \n",
    "            visited.add(node)\n",
    "            for child in node.children:\n",
    "                if child not in visited and dfs(child):\n",
    "                    return True\n",
    "            return False\n",
    "\n",
    "        return dfs(self)"
   ]
  },
  {
   "cell_type": "code",
   "execution_count": 5,
   "metadata": {},
   "outputs": [],
   "source": [
    "# DFS as a standalone function\n",
    "def hasPathTo(node, target):\n",
    "    visited = set()\n",
    "\n",
    "    def dfs(node):\n",
    "        nonlocal target\n",
    "        \n",
    "        if node.val == target:\n",
    "            return True\n",
    "        \n",
    "        visited.add(node)\n",
    "\n",
    "        for child in node.children:\n",
    "            if child not in visited and dfs(child):\n",
    "                return True\n",
    "        return False\n",
    "\n",
    "    if not node:\n",
    "        return False\n",
    "    return dfs(node)"
   ]
  },
  {
   "cell_type": "code",
   "execution_count": 6,
   "metadata": {},
   "outputs": [],
   "source": [
    "from collections import deque \n",
    "\n",
    "# BFS as a standalone function\n",
    "def hasPathTo(node, target):\n",
    "    if not node:\n",
    "        return False\n",
    "    \n",
    "    visited = set()\n",
    "    q = deque()\n",
    "    q.append(node)\n",
    "\n",
    "    while q:\n",
    "        curr = q.popleft()\n",
    "\n",
    "        if curr.val == target:\n",
    "            return True\n",
    "\n",
    "        visited.add(curr)\n",
    "\n",
    "        for child in curr.children:\n",
    "            if child not in visited:\n",
    "                q.append(child)\n",
    "\n",
    "    return False    "
   ]
  },
  {
   "cell_type": "code",
   "execution_count": null,
   "metadata": {},
   "outputs": [],
   "source": []
  }
 ],
 "metadata": {
  "kernelspec": {
   "display_name": "Python 3.8.1 64-bit ('3.8.1')",
   "language": "python",
   "name": "python3"
  },
  "language_info": {
   "codemirror_mode": {
    "name": "ipython",
    "version": 3
   },
   "file_extension": ".py",
   "mimetype": "text/x-python",
   "name": "python",
   "nbconvert_exporter": "python",
   "pygments_lexer": "ipython3",
   "version": "3.8.1"
  },
  "orig_nbformat": 4,
  "vscode": {
   "interpreter": {
    "hash": "375f31c95a1f71fff43a8c15a66b494e52edd6575b524e15991f1100f99ee6b3"
   }
  }
 },
 "nbformat": 4,
 "nbformat_minor": 2
}
