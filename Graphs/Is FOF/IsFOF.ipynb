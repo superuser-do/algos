{
 "cells": [
  {
   "cell_type": "code",
   "execution_count": 1,
   "metadata": {},
   "outputs": [],
   "source": [
    "from collections import deque"
   ]
  },
  {
   "cell_type": "code",
   "execution_count": 7,
   "metadata": {},
   "outputs": [],
   "source": [
    "def isFOF(vertex_list, edge_list, user1, user2):\n",
    "    if user1 not in vertex_list or user2 not in vertex_list:\n",
    "        return False\n",
    "    \n",
    "    def build_adj_list():\n",
    "        adj_list = {}\n",
    "        for v in vertex_list:\n",
    "            adj_list[v] = []\n",
    "        for v1, v2 in edge_list:\n",
    "            adj_list[v1].append(v2)\n",
    "            adj_list[v2].append(v1)\n",
    "        return adj_list\n",
    "\n",
    "    adj_list = build_adj_list()\n",
    "\n",
    "    q = deque()\n",
    "    q.append((user1, 0))\n",
    "    visited = set(user1)\n",
    "    while q:\n",
    "        curr, dist = q.popleft()\n",
    "\n",
    "        # early exit\n",
    "        if dist > 2:\n",
    "            return False\n",
    "        # happy case: user2 is found\n",
    "        if curr == user2:\n",
    "            return dist == 2\n",
    "\n",
    "        for friend in adj_list[curr]:\n",
    "            if friend not in visited:\n",
    "                visited.add(friend)\n",
    "                q.append((friend, dist + 1))\n",
    "    return False"
   ]
  },
  {
   "cell_type": "code",
   "execution_count": 11,
   "metadata": {},
   "outputs": [
    {
     "data": {
      "text/plain": [
       "False"
      ]
     },
     "execution_count": 11,
     "metadata": {},
     "output_type": "execute_result"
    }
   ],
   "source": [
    "users = [\"Jeff\", \"Susan\", \"Ed\", \"Fred\", \"Jason\", \"Zach\"]\n",
    "friends = [(\"Jeff\", \"Susan\"), (\"Jeff\", \"Fred\"), (\"Susan\", \"Ed\"), (\"Ed\", \"Fred\"), (\"Jason\", \"Zach\")]\n",
    "# isFOF(users, friends, \"Foo\", \"Bar\")\n",
    "isFOF(users, friends, \"Susan\", \"Ed\")"
   ]
  }
 ],
 "metadata": {
  "kernelspec": {
   "display_name": "Python 3.8.1 64-bit ('3.8.1')",
   "language": "python",
   "name": "python3"
  },
  "language_info": {
   "codemirror_mode": {
    "name": "ipython",
    "version": 3
   },
   "file_extension": ".py",
   "mimetype": "text/x-python",
   "name": "python",
   "nbconvert_exporter": "python",
   "pygments_lexer": "ipython3",
   "version": "3.8.1"
  },
  "orig_nbformat": 4,
  "vscode": {
   "interpreter": {
    "hash": "375f31c95a1f71fff43a8c15a66b494e52edd6575b524e15991f1100f99ee6b3"
   }
  }
 },
 "nbformat": 4,
 "nbformat_minor": 2
}
