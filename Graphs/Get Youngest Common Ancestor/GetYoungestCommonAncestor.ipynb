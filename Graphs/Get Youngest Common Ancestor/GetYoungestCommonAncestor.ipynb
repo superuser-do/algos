{
 "cells": [
  {
   "cell_type": "code",
   "execution_count": 1,
   "metadata": {},
   "outputs": [],
   "source": [
    "class AncestralTree:\n",
    "    def __init__(self, name):\n",
    "        self.name = name\n",
    "        self.ancestor = None"
   ]
  },
  {
   "cell_type": "code",
   "execution_count": 2,
   "metadata": {},
   "outputs": [],
   "source": [
    "def getYoungestCommonAncestor(topAncestor, descendantOne, descendantTwo):\n",
    "    visited = set()\n",
    "    stack = [descendantOne, descendantTwo]\n",
    "\n",
    "    while stack:\n",
    "        descendant = stack.pop()\n",
    "\n",
    "        if descendant not in visited:\n",
    "            visited.add(descendant)\n",
    "        else:\n",
    "            return descendant\n",
    "\n",
    "        if descendant == topAncestor or descendant.ancestor == topAncestor:\n",
    "            return topAncestor\n",
    "        else:\n",
    "            stack.append(descendant)"
   ]
  },
  {
   "cell_type": "code",
   "execution_count": null,
   "metadata": {},
   "outputs": [],
   "source": []
  }
 ],
 "metadata": {
  "kernelspec": {
   "display_name": "Python 3.8.1 64-bit ('3.8.1')",
   "language": "python",
   "name": "python3"
  },
  "language_info": {
   "codemirror_mode": {
    "name": "ipython",
    "version": 3
   },
   "file_extension": ".py",
   "mimetype": "text/x-python",
   "name": "python",
   "nbconvert_exporter": "python",
   "pygments_lexer": "ipython3",
   "version": "3.8.1"
  },
  "orig_nbformat": 4,
  "vscode": {
   "interpreter": {
    "hash": "375f31c95a1f71fff43a8c15a66b494e52edd6575b524e15991f1100f99ee6b3"
   }
  }
 },
 "nbformat": 4,
 "nbformat_minor": 2
}
