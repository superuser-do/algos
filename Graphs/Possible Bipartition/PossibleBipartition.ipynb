{
 "cells": [
  {
   "cell_type": "code",
   "execution_count": 1,
   "metadata": {},
   "outputs": [],
   "source": [
    "from collections import deque"
   ]
  },
  {
   "cell_type": "code",
   "execution_count": 6,
   "metadata": {},
   "outputs": [],
   "source": [
    "def possibleBipartition(n, dislikes):\n",
    "    colors = [-1] * (n + 1) # 0: RED; 1: BLUE\n",
    "    adj_list = {}\n",
    "\n",
    "    for v in dislikes:\n",
    "        adj_list[v] = []\n",
    "    for u, v in dislikes:\n",
    "        adj_list[u].append(v)\n",
    "        adj_list[v].append(u)\n",
    "\n",
    "    def bfs(source):\n",
    "        q = deque([source])\n",
    "        colors[source] = 0 # Start with marking source node red\n",
    "        while q:\n",
    "            node = q.popleft()\n",
    "            for neighbor in adj_list[node]:\n",
    "                # If there is a conflict, return false\n",
    "                if colors[neighbor] == colors[node]:\n",
    "                    return False\n",
    "                if colors[neighbor] == -1:\n",
    "                    colors[neighbor] = 1 - colors[node]\n",
    "                    q.append(neighbor)\n",
    "        return True\n",
    "\n",
    "    for i in range(1, n + 1):\n",
    "        if colors[i] == -1:\n",
    "            # For each pending component, run BFS\n",
    "            if not bfs(i):\n",
    "                return False\n",
    "    return True"
   ]
  },
  {
   "cell_type": "code",
   "execution_count": null,
   "metadata": {},
   "outputs": [],
   "source": []
  }
 ],
 "metadata": {
  "kernelspec": {
   "display_name": "Python 3.8.1 64-bit ('3.8.1')",
   "language": "python",
   "name": "python3"
  },
  "language_info": {
   "codemirror_mode": {
    "name": "ipython",
    "version": 3
   },
   "file_extension": ".py",
   "mimetype": "text/x-python",
   "name": "python",
   "nbconvert_exporter": "python",
   "pygments_lexer": "ipython3",
   "version": "3.8.1"
  },
  "orig_nbformat": 4,
  "vscode": {
   "interpreter": {
    "hash": "375f31c95a1f71fff43a8c15a66b494e52edd6575b524e15991f1100f99ee6b3"
   }
  }
 },
 "nbformat": 4,
 "nbformat_minor": 2
}
