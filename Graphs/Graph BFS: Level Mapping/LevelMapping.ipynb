{
 "cells": [
  {
   "cell_type": "code",
   "execution_count": 1,
   "metadata": {},
   "outputs": [],
   "source": [
    "from collections import deque"
   ]
  },
  {
   "cell_type": "code",
   "execution_count": 2,
   "metadata": {},
   "outputs": [],
   "source": [
    "def get_level_mapping(edge_list, start_node):\n",
    "    def build_adj_list():\n",
    "        adj_list = {}\n",
    "        for v1, v2 in edge_list:\n",
    "            adj_list[v1] = []\n",
    "            adj_list[v2] = []\n",
    "        for v1, v2 in edge_list:\n",
    "            adj_list[v1].append(v2)\n",
    "            adj_list[v2].append(v1)\n",
    "        return adj_list\n",
    "\n",
    "    adj_list = build_adj_list()\n",
    "    q = deque()\n",
    "    q.append((start_node, 0))\n",
    "    visited = set()\n",
    "    visited.add(start_node)\n",
    "    output = {}\n",
    "    while q:\n",
    "        node, level = q.popleft()\n",
    "        \n",
    "        if level not in output:\n",
    "            output[level] = []\n",
    "        \n",
    "        output[level].append(node)\n",
    "\n",
    "        for neighbor in adj_list[node]:\n",
    "            if neighbor not in visited:\n",
    "                visited.add(neighbor)\n",
    "                q.append((neighbor, level + 1))\n",
    "    return output\n"
   ]
  },
  {
   "cell_type": "code",
   "execution_count": 3,
   "metadata": {},
   "outputs": [
    {
     "data": {
      "text/plain": [
       "{0: ['A'], 1: ['B', 'C', 'D'], 2: ['E']}"
      ]
     },
     "execution_count": 3,
     "metadata": {},
     "output_type": "execute_result"
    }
   ],
   "source": [
    "get_level_mapping([('A', 'B'), ('A', 'C'), ('A', 'D'), ('D', 'E'), ('C', 'D')], 'A')"
   ]
  },
  {
   "cell_type": "code",
   "execution_count": null,
   "metadata": {},
   "outputs": [],
   "source": []
  }
 ],
 "metadata": {
  "kernelspec": {
   "display_name": "Python 3.8.1 64-bit ('3.8.1')",
   "language": "python",
   "name": "python3"
  },
  "language_info": {
   "codemirror_mode": {
    "name": "ipython",
    "version": 3
   },
   "file_extension": ".py",
   "mimetype": "text/x-python",
   "name": "python",
   "nbconvert_exporter": "python",
   "pygments_lexer": "ipython3",
   "version": "3.8.1"
  },
  "orig_nbformat": 4,
  "vscode": {
   "interpreter": {
    "hash": "375f31c95a1f71fff43a8c15a66b494e52edd6575b524e15991f1100f99ee6b3"
   }
  }
 },
 "nbformat": 4,
 "nbformat_minor": 2
}
