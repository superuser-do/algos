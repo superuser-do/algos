{
 "cells": [
  {
   "cell_type": "code",
   "execution_count": 3,
   "metadata": {},
   "outputs": [],
   "source": [
    "def riverSizes(matrix):\n",
    "    rows, cols = len(matrix), len(matrix[0])\n",
    "    visited = set()\n",
    "    result = []\n",
    "\n",
    "    def dfs(row, col):\n",
    "        if row not in range(len(matrix)) or col not in range(len(matrix[0])) or matrix[row][col] == 0 or (row, col) in visited:\n",
    "            return 0\n",
    "        visited.add((row, col))\n",
    "        size = 0\n",
    "\n",
    "        directions = [(0,1), (1,0), (0,-1), (-1,0)]\n",
    "        for dx, dy in directions:\n",
    "            size += dfs(row + dx, col + dy)\n",
    "        return 1 + size\n",
    "\n",
    "    for row in range(rows):\n",
    "        for col in range(cols):\n",
    "            if (row, col) not in visited and matrix[row][col] == 1:\n",
    "                size = dfs(row, col)\n",
    "                result.append(size)\n",
    "    return result"
   ]
  },
  {
   "cell_type": "code",
   "execution_count": 4,
   "metadata": {},
   "outputs": [
    {
     "data": {
      "text/plain": [
       "[2, 1, 5, 2, 2]"
      ]
     },
     "execution_count": 4,
     "metadata": {},
     "output_type": "execute_result"
    }
   ],
   "source": [
    "matrix = [\n",
    "    [1,0,0,1,0],\n",
    "    [1,0,1,0,0],\n",
    "    [0,0,1,0,1],\n",
    "    [1,0,1,0,1],\n",
    "    [1,0,1,1,0]\n",
    "]\n",
    "riverSizes(matrix)"
   ]
  },
  {
   "cell_type": "code",
   "execution_count": null,
   "metadata": {},
   "outputs": [],
   "source": []
  }
 ],
 "metadata": {
  "kernelspec": {
   "display_name": "Python 3.8.1 64-bit ('3.8.1')",
   "language": "python",
   "name": "python3"
  },
  "language_info": {
   "codemirror_mode": {
    "name": "ipython",
    "version": 3
   },
   "file_extension": ".py",
   "mimetype": "text/x-python",
   "name": "python",
   "nbconvert_exporter": "python",
   "pygments_lexer": "ipython3",
   "version": "3.8.1"
  },
  "orig_nbformat": 4,
  "vscode": {
   "interpreter": {
    "hash": "375f31c95a1f71fff43a8c15a66b494e52edd6575b524e15991f1100f99ee6b3"
   }
  }
 },
 "nbformat": 4,
 "nbformat_minor": 2
}
