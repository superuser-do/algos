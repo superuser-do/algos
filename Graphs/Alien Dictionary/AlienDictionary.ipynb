{
 "cells": [
  {
   "cell_type": "code",
   "execution_count": 7,
   "metadata": {},
   "outputs": [],
   "source": [
    "def alienOrder(words):\n",
    "    adj = { c: set() for w in words for c in w }\n",
    "\n",
    "    for i in range(len(words) - 1):\n",
    "        w1, w2 = words[i], words[i + 1]\n",
    "        minLen = min(len(w1), len(w2))\n",
    "        if len(w1) > len(w2) and w1[:minLen] == w2[:minLen]:\n",
    "            return \"\"\n",
    "        for j in range(minLen):\n",
    "            if w1[j] != w2[j]:\n",
    "                adj[w1[j]].add(w2[j])\n",
    "                break\n",
    "        \n",
    "    visit = {} \n",
    "    res = []\n",
    "    def dfs(c):\n",
    "        if c in visit:\n",
    "            return visit[c]\n",
    "        visit[c] = True\n",
    "\n",
    "        for nei in adj[c]:\n",
    "            if dfs(nei):\n",
    "                return True\n",
    "        visit[c] = False\n",
    "        res.append(c)\n",
    "    \n",
    "    for c in adj:\n",
    "        if dfs(c):\n",
    "            return \"\"\n",
    "    res.reverse()\n",
    "    return \"\".join(res)"
   ]
  },
  {
   "cell_type": "code",
   "execution_count": 9,
   "metadata": {},
   "outputs": [
    {
     "data": {
      "text/plain": [
       "'wertf'"
      ]
     },
     "execution_count": 9,
     "metadata": {},
     "output_type": "execute_result"
    }
   ],
   "source": [
    "words = [\"wrt\",\"wrf\",\"er\",\"ett\",\"rftt\"]\n",
    "alienOrder(words)"
   ]
  },
  {
   "cell_type": "code",
   "execution_count": null,
   "metadata": {},
   "outputs": [],
   "source": []
  }
 ],
 "metadata": {
  "kernelspec": {
   "display_name": "Python 3.8.1 64-bit ('3.8.1')",
   "language": "python",
   "name": "python3"
  },
  "language_info": {
   "codemirror_mode": {
    "name": "ipython",
    "version": 3
   },
   "file_extension": ".py",
   "mimetype": "text/x-python",
   "name": "python",
   "nbconvert_exporter": "python",
   "pygments_lexer": "ipython3",
   "version": "3.8.1"
  },
  "orig_nbformat": 4,
  "vscode": {
   "interpreter": {
    "hash": "375f31c95a1f71fff43a8c15a66b494e52edd6575b524e15991f1100f99ee6b3"
   }
  }
 },
 "nbformat": 4,
 "nbformat_minor": 2
}
