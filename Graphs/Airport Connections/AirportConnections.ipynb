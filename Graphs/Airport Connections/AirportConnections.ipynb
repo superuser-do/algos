{
 "cells": [
  {
   "cell_type": "code",
   "execution_count": 3,
   "metadata": {},
   "outputs": [],
   "source": [
    "# O(a + r) time | O(a + r) space\n",
    "def airportConnections(airports, routes, startingAirport):\n",
    "    edges, airportIndexMap = buildAdjacencyList(airports, routes)\n",
    "\n",
    "    # build strongly connected component (SCC) graph\n",
    "    # O(a + r)\n",
    "    sccEdges, sccMap = buildSCCAdjacencyList(edges)\n",
    "\n",
    "    # We need to add a connection to all roots not reachable by start node\n",
    "    startNode = sccMap[airportIndexMap[startingAirport]]\n",
    "    numComponents = len(sccEdges)\n",
    "    incomingEdges = reverseEdges(sccEdges)\n",
    "    numRoutes = 0\n",
    "    for i in range(numComponents):\n",
    "        if i != startNode and len(incomingEdges[i]) == 0:\n",
    "            numRoutes += 1\n",
    "    return numRoutes\n",
    "\n",
    "def buildAdjacencyList(airports, routes):\n",
    "    n = len(airports)\n",
    "    airportIndexMap = {}\n",
    "    for index, airport in enumerate(airports):\n",
    "        airportIndexMap[airport] = index\n",
    "\n",
    "    edges = [[] for _ in range(n)]\n",
    "    for start, dest in routes:\n",
    "        edges[airportIndexMap[start]].append(airportIndexMap[dest])\n",
    "    \n",
    "    return edges, airportIndexMap\n",
    "\n",
    "def reverseEdges(edges):\n",
    "    n = len(edges)\n",
    "    incomingEdges = [[] for _ in range(n)]\n",
    "    for i in range(n):\n",
    "        for neighbor in edges[i]:\n",
    "            incomingEdges[neighbor].append(i)\n",
    "    return incomingEdges\n",
    "\n",
    "def buildSCCAdjacencyList(edges):\n",
    "    \"\"\"\n",
    "    Compute strongly connected component (SCC) graph with Kosaraju-Sharir algorithm\n",
    "    (https://www.coursera.org/learn/algorithms-part2/lecture/fC5Yw?t=184)\n",
    "    \"\"\"\n",
    "    # compute reversed post order on reversed graph\n",
    "    reversedEdges = reverseEdges(edges)\n",
    "    reversedPostOrderOnReversedGraph = computeReversedPostOrder(reversedEdges)\n",
    "\n",
    "    # compute SCC Map by traversing according to reversedPostOrderOnReversedGraph\n",
    "    sccMap, numSCCs = computeSCCMap(reversedPostOrderOnReversedGraph, edges)\n",
    "\n",
    "    # build SCC adjacency list\n",
    "    n = len(edges)\n",
    "    sccEdges = [set() for _ in range(numSCCs)]\n",
    "    for i in range(n):\n",
    "        for neighbor in edges[i]:\n",
    "            if sccMap[i] != sccMap[neighbor]:\n",
    "                sccEdges[sccMap[i]].add(sccMap[neighbor])\n",
    "    for i in range(numSCCs):\n",
    "        sccEdges[i] = list(sccEdges[i])\n",
    "    \n",
    "    return sccEdges, sccMap\n",
    "\n",
    "def computeSCCMap(reversedPostOrderOnReversedGraph, edges):\n",
    "    n = len(reversedPostOrderOnReversedGraph)\n",
    "    sccMap = [-1] * n\n",
    "    numSCCs = 0\n",
    "    for i in range(n):\n",
    "        node = reversedPostOrderOnReversedGraph[i]\n",
    "        if sccMap[node] == -1:\n",
    "            sccMapDFS(node, edges, numSCCs, sccMap)\n",
    "            numSCCs += 1\n",
    "    return sccMap, numSCCs\n",
    "\n",
    "def sccMapDFS(node, edges, sccNumber, sccMap):\n",
    "    sccMap[node] = sccNumber\n",
    "    for neighbor in edges[node]:\n",
    "        if sccMap[neighbor] == -1:\n",
    "            sccMapDFS(neighbor, edges, sccNumber, sccMap)\n",
    "\n",
    "def computeReversedPostOrder(edges):\n",
    "    n = len(edges)\n",
    "    visited = [False] * n\n",
    "    postOrder = []\n",
    "    for i in range(n):\n",
    "        if not visited[i]:\n",
    "            postOrderDFS(i, edges, visited, postOrder)\n",
    "    return postOrder[::-1]\n",
    "\n",
    "def postOrderDFS(node, edges, visited, postOrder):\n",
    "    visited[node] = True\n",
    "    for neighbor in edges[node]:\n",
    "        if not visited[neighbor]:\n",
    "            postOrderDFS(neighbor, edges, visited, postOrder)\n",
    "    postOrder.append(node)"
   ]
  },
  {
   "cell_type": "code",
   "execution_count": 6,
   "metadata": {},
   "outputs": [
    {
     "data": {
      "text/plain": [
       "3"
      ]
     },
     "execution_count": 6,
     "metadata": {},
     "output_type": "execute_result"
    }
   ],
   "source": [
    "airports = [\"BGI\", \"CDG\", \"DEL\", \"DOH\", \"DSM\", \"EWR\", \"EYW\", \"HND\", \"ICN\", \"JFK\", \"LGA\", \"LHR\", \"ORD\", \"SAN\", \"SFO\", \"SIN\", \"TLV\", \"BUD\"]\n",
    "\n",
    "routes = [\n",
    "    [\"DSM\", \"ORD\"],\n",
    "    [\"ORD\", \"BGI\"],\n",
    "    [\"BGI\", \"LGA\"],\n",
    "    [\"SIN\", \"CDG\"],\n",
    "    [\"CDG\", \"SIN\"],\n",
    "    [\"CDG\", \"BUD\"],\n",
    "    [\"DEL\", \"DOH\"],\n",
    "    [\"DEL\", \"CDG\"],\n",
    "    [\"TLV\", \"DEL\"],\n",
    "    [\"EWR\", \"HND\"],\n",
    "    [\"HND\", \"ICN\"],\n",
    "    [\"HND\", \"JFK\"],\n",
    "    [\"ICN\", \"JFK\"],\n",
    "    [\"JFK\", \"LGA\"],\n",
    "    [\"EYW\", \"LHR\"],\n",
    "    [\"LHR\", \"SFO\"],\n",
    "    [\"SFO\", \"SAN\"],\n",
    "    [\"SFO\", \"DSM\"],\n",
    "    [\"SAN\", \"EYW\"]\n",
    "]\n",
    "\n",
    "startingAirport = \"LGA\"\n",
    "\n",
    "airportConnections(airports, routes, startingAirport)"
   ]
  },
  {
   "cell_type": "code",
   "execution_count": 14,
   "metadata": {},
   "outputs": [
    {
     "data": {
      "text/plain": [
       "([1, 0, 0, 0, 1, 2, 1, 2, 2, 2, 1, 1, 1, 1, 1, 0, 0, 0], 3)"
      ]
     },
     "execution_count": 14,
     "metadata": {},
     "output_type": "execute_result"
    }
   ],
   "source": [
    "edges, airportIndexMap = buildAdjacencyList(airports, routes)\n",
    "reverseEdges(edges)\n",
    "reversedPostOrderOnReversedGraph = computeReversedPostOrder(edges)\n",
    "computeSCCMap(reversedPostOrderOnReversedGraph, edges)"
   ]
  },
  {
   "cell_type": "code",
   "execution_count": null,
   "metadata": {},
   "outputs": [],
   "source": []
  }
 ],
 "metadata": {
  "kernelspec": {
   "display_name": "Python 3.8.1 64-bit ('3.8.1')",
   "language": "python",
   "name": "python3"
  },
  "language_info": {
   "codemirror_mode": {
    "name": "ipython",
    "version": 3
   },
   "file_extension": ".py",
   "mimetype": "text/x-python",
   "name": "python",
   "nbconvert_exporter": "python",
   "pygments_lexer": "ipython3",
   "version": "3.8.1"
  },
  "orig_nbformat": 4,
  "vscode": {
   "interpreter": {
    "hash": "375f31c95a1f71fff43a8c15a66b494e52edd6575b524e15991f1100f99ee6b3"
   }
  }
 },
 "nbformat": 4,
 "nbformat_minor": 2
}
