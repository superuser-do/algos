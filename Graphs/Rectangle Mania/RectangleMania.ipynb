{
 "cells": [
  {
   "cell_type": "code",
   "execution_count": 1,
   "metadata": {},
   "outputs": [],
   "source": [
    "# Rectangles in x, y plane:\n",
    "#  x - - - - - >\n",
    "# y\n",
    "# |    A - B\n",
    "# |    |   |\n",
    "# |    D - C\n",
    "# V\n",
    "# \n",
    "# A = coords[n]\n",
    "# x = A[0]\n",
    "# y = A[1]\n",
    "#\n",
    "\n",
    "\n",
    "def rectangleMania(coords):\n",
    "    n = len(coords)\n",
    "    count =  0\n",
    "    i = 0\n",
    "    while i < n:\n",
    "        j = 0\n",
    "        while j < n:\n",
    "            Ax, Ay = coords[i]\n",
    "            Cx, Cy = coords[j]\n",
    "            if Ax < Cx and Ay < Cy:\n",
    "                B = [Cx, Ay]\n",
    "                D = [Ax, Cy]\n",
    "                if B in coords and D in coords:\n",
    "                    count += 1\n",
    "            j += 1\n",
    "        i += 1\n",
    "    return count"
   ]
  },
  {
   "cell_type": "code",
   "execution_count": 5,
   "metadata": {},
   "outputs": [
    {
     "data": {
      "text/plain": [
       "6"
      ]
     },
     "execution_count": 5,
     "metadata": {},
     "output_type": "execute_result"
    }
   ],
   "source": [
    "coords = [\n",
    "    [0, 0],\n",
    "    [0, 1],\n",
    "    [1, 1],\n",
    "    [1, 0],\n",
    "    [2, 1],\n",
    "    [2, 0],\n",
    "    [3, 1],\n",
    "    [3, 0]\n",
    "  ]\n",
    "\n",
    "rectangleMania(coords)"
   ]
  },
  {
   "cell_type": "code",
   "execution_count": null,
   "metadata": {},
   "outputs": [],
   "source": []
  }
 ],
 "metadata": {
  "kernelspec": {
   "display_name": "Python 3.8.1 64-bit ('3.8.1')",
   "language": "python",
   "name": "python3"
  },
  "language_info": {
   "codemirror_mode": {
    "name": "ipython",
    "version": 3
   },
   "file_extension": ".py",
   "mimetype": "text/x-python",
   "name": "python",
   "nbconvert_exporter": "python",
   "pygments_lexer": "ipython3",
   "version": "3.8.1"
  },
  "orig_nbformat": 4,
  "vscode": {
   "interpreter": {
    "hash": "375f31c95a1f71fff43a8c15a66b494e52edd6575b524e15991f1100f99ee6b3"
   }
  }
 },
 "nbformat": 4,
 "nbformat_minor": 2
}
