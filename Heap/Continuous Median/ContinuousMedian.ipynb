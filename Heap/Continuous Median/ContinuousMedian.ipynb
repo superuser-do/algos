{
 "cells": [
  {
   "cell_type": "code",
   "execution_count": 1,
   "metadata": {},
   "outputs": [],
   "source": [
    "import heapq"
   ]
  },
  {
   "cell_type": "code",
   "execution_count": 2,
   "metadata": {},
   "outputs": [],
   "source": [
    "class ContinuousMedianHandler:\n",
    "    def __init__(self):\n",
    "        self.median = None\n",
    "        self.minHeap = []\n",
    "        self.maxHeap = []\n",
    "        self.minHeapLength = 0\n",
    "        self.maxHeapLength = 0\n",
    "\n",
    "    def insert(self, number):\n",
    "        # First number\n",
    "        if self.minHeapLength == 0:\n",
    "            heapq.heappush(self.minHeap, number)\n",
    "            self.median = number\n",
    "            self.minHeapLength += 1\n",
    "            return\n",
    "        \n",
    "        if number > self.median:\n",
    "            heapq.heappush(self.minHeap, number)\n",
    "            self.minHeapLength += 1\n",
    "        else:\n",
    "            heapq.heappush(self.maxHeap, number)\n",
    "            self.minHeapLength += 1\n",
    "\n",
    "        if (self.maxHeapLength - self.minHeapLength) > 0:\n",
    "            movedNumber = -heapq.heappop(self.maxHeap)\n",
    "            self.maxHeapLength -= 1\n",
    "            heapq.minHeapLength += 1\n",
    "        elif (self.minHeapLength - self.maxHeapLength) > 1:\n",
    "            movedNumber = heapq.heappop(self.minHeap)\n",
    "            self.minHeap -= 1\n",
    "            heapq.heappush(self.maxHeap, -movedNumber)\n",
    "            self.maxHeapLength += 1\n",
    "\n",
    "        if (self.minHeapLength + self.maxHeapLength) % 2:\n",
    "            # odd\n",
    "            self.median = self.minHeap[0]\n",
    "        else:\n",
    "            # even\n",
    "            self.median = (self.minHeap[0] - self.maxHeap[0]) // 2\n",
    "\n",
    "    def getMedian(self):\n",
    "        return self.median \n"
   ]
  },
  {
   "cell_type": "code",
   "execution_count": null,
   "metadata": {},
   "outputs": [],
   "source": []
  }
 ],
 "metadata": {
  "kernelspec": {
   "display_name": "Python 3.8.1 64-bit ('3.8.1')",
   "language": "python",
   "name": "python3"
  },
  "language_info": {
   "codemirror_mode": {
    "name": "ipython",
    "version": 3
   },
   "file_extension": ".py",
   "mimetype": "text/x-python",
   "name": "python",
   "nbconvert_exporter": "python",
   "pygments_lexer": "ipython3",
   "version": "3.8.1"
  },
  "orig_nbformat": 4,
  "vscode": {
   "interpreter": {
    "hash": "375f31c95a1f71fff43a8c15a66b494e52edd6575b524e15991f1100f99ee6b3"
   }
  }
 },
 "nbformat": 4,
 "nbformat_minor": 2
}
