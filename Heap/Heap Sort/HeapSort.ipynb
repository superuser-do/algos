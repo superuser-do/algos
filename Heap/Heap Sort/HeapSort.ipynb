{
 "cells": [
  {
   "cell_type": "code",
   "execution_count": 1,
   "metadata": {},
   "outputs": [],
   "source": [
    "def heapSort(array):\n",
    "    buildMaxHeap(array)\n",
    "    for endIndex in reversed(range(1, len(array))):\n",
    "        swap(0, endIndex, array)\n",
    "        siftDown(0, endIndex - 1, array)\n",
    "    return array"
   ]
  },
  {
   "cell_type": "code",
   "execution_count": 2,
   "metadata": {},
   "outputs": [],
   "source": [
    "def buildMaxHeap(array):\n",
    "    firstParentIndex = (len(array) - 2) // 2\n",
    "    for currentIndex in reversed(range(firstParentIndex + 1)):\n",
    "        siftDown(currentIndex, len(array) - 1, array)"
   ]
  },
  {
   "cell_type": "code",
   "execution_count": 3,
   "metadata": {},
   "outputs": [],
   "source": [
    "def siftDown(currentIndex, endIndex, heap):\n",
    "    childOneIndex = currentIndex * 2 + 1\n",
    "    while childOneIndex <= endIndex:\n",
    "        childTwoIndex = currentIndex * 2 + 2 if currentIndex * 2 + 2 <= endIndex else -1\n",
    "        if childTwoIndex > -1 and heap[childTwoIndex] > heap[childOneIndex]:\n",
    "            indexToSwap = childTwoIndex\n",
    "        else:\n",
    "            indexToSwap = childOneIndex\n",
    "        if heap[indexToSwap] > heap[currentIndex]:\n",
    "            swap(currentIndex, indexToSwap, heap)"
   ]
  },
  {
   "cell_type": "code",
   "execution_count": 4,
   "metadata": {},
   "outputs": [],
   "source": [
    "def swap(i, j, array):\n",
    "    array[i], array[j] = array[j], array[i]"
   ]
  },
  {
   "cell_type": "code",
   "execution_count": null,
   "metadata": {},
   "outputs": [],
   "source": []
  }
 ],
 "metadata": {
  "kernelspec": {
   "display_name": "Python 3.8.1 64-bit ('3.8.1')",
   "language": "python",
   "name": "python3"
  },
  "language_info": {
   "codemirror_mode": {
    "name": "ipython",
    "version": 3
   },
   "file_extension": ".py",
   "mimetype": "text/x-python",
   "name": "python",
   "nbconvert_exporter": "python",
   "pygments_lexer": "ipython3",
   "version": "3.8.1"
  },
  "orig_nbformat": 4,
  "vscode": {
   "interpreter": {
    "hash": "375f31c95a1f71fff43a8c15a66b494e52edd6575b524e15991f1100f99ee6b3"
   }
  }
 },
 "nbformat": 4,
 "nbformat_minor": 2
}
