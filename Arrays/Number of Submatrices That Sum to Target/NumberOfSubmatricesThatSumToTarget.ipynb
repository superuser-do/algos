{
 "cells": [
  {
   "cell_type": "code",
   "execution_count": 13,
   "metadata": {},
   "outputs": [],
   "source": [
    "def numSubmatrixSumTarget(matrix, target):\n",
    "    m,n = len(matrix), len(matrix[0])\n",
    "    for i in range(m):\n",
    "        for j in range(1,n):\n",
    "            matrix[i][j] += matrix[i][j-1]\n",
    "    \n",
    "    # print(matrix)\n",
    "    ans = 0\n",
    "    #submatrix (https://leetcode.com/problems/largest-submatrix-with-rearrangements) column division for each pair of columns\n",
    "    for sc1 in range(n):\n",
    "        for sc2 in range(sc1,n):\n",
    "            d = {}\n",
    "            ## sum 0\n",
    "            d[0] = 1\n",
    "            #submatrix (https://leetcode.com/problems/largest-submatrix-with-rearrangements) sum\n",
    "            s = 0\n",
    "            for i in range(m):\n",
    "                s += matrix[i][sc2]\n",
    "                #remove (https://leetcode.com/problems/remove-nth-node-from-end-of-list) previous column sums\n",
    "                if sc1:\n",
    "                    s -= matrix[i][sc1-1]\n",
    "                if s-target not in d:\n",
    "                    d[s-target] = 0\n",
    "                ans += d[s-target]\n",
    "                d[s] += 1\n",
    "    return ans"
   ]
  },
  {
   "cell_type": "code",
   "execution_count": 14,
   "metadata": {},
   "outputs": [
    {
     "data": {
      "text/plain": [
       "4"
      ]
     },
     "execution_count": 14,
     "metadata": {},
     "output_type": "execute_result"
    }
   ],
   "source": [
    "numSubmatrixSumTarget([[0,1,0],[1,1,1],[0,1,0]], 0)"
   ]
  },
  {
   "cell_type": "code",
   "execution_count": null,
   "metadata": {},
   "outputs": [],
   "source": []
  }
 ],
 "metadata": {
  "kernelspec": {
   "display_name": "Python 3.8.1 64-bit ('3.8.1')",
   "language": "python",
   "name": "python3"
  },
  "language_info": {
   "codemirror_mode": {
    "name": "ipython",
    "version": 3
   },
   "file_extension": ".py",
   "mimetype": "text/x-python",
   "name": "python",
   "nbconvert_exporter": "python",
   "pygments_lexer": "ipython3",
   "version": "3.8.1"
  },
  "orig_nbformat": 4,
  "vscode": {
   "interpreter": {
    "hash": "375f31c95a1f71fff43a8c15a66b494e52edd6575b524e15991f1100f99ee6b3"
   }
  }
 },
 "nbformat": 4,
 "nbformat_minor": 2
}
