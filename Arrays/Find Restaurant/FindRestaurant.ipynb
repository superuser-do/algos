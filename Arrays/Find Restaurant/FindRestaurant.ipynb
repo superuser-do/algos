{
 "cells": [
  {
   "cell_type": "code",
   "execution_count": 1,
   "metadata": {},
   "outputs": [],
   "source": [
    "from typing import List"
   ]
  },
  {
   "cell_type": "code",
   "execution_count": 8,
   "metadata": {},
   "outputs": [],
   "source": [
    "def findCompatibleRestaurantsBetween(ned: List[str], mary: List[str]):\n",
    "    result = []\n",
    "    ned_prefs = dict()\n",
    "    min_index_sum = float(\"inf\")\n",
    "\n",
    "    for i in range(len(ned)):\n",
    "        ned_prefs[ned[i]] = i\n",
    "    \n",
    "    for i in range(len(mary)):\n",
    "        mary_pref = mary[i]\n",
    "\n",
    "        if mary_pref in ned_prefs:\n",
    "            pref_sum = i + ned_prefs[mary_pref]\n",
    "\n",
    "            if pref_sum < min_index_sum:\n",
    "                result = [mary_pref]\n",
    "                min_index_sum = pref_sum\n",
    "            elif pref_sum == min_index_sum:\n",
    "                result.append(mary_pref)\n",
    "    return result"
   ]
  },
  {
   "cell_type": "code",
   "execution_count": 9,
   "metadata": {},
   "outputs": [
    {
     "data": {
      "text/plain": [
       "['Shogun']"
      ]
     },
     "execution_count": 9,
     "metadata": {},
     "output_type": "execute_result"
    }
   ],
   "source": [
    "findCompatibleRestaurantsBetween([\"Shogun\", \"Tapioca Express\", \"Burger King\", \"KFC\"], [\"Piatti\", \"The Grill at Torrey Pines\", \"Hungry Hunter Steakhouse\", \"Shogun\"])"
   ]
  },
  {
   "cell_type": "code",
   "execution_count": null,
   "metadata": {},
   "outputs": [],
   "source": []
  }
 ],
 "metadata": {
  "kernelspec": {
   "display_name": "Python 3.8.1 64-bit ('3.8.1')",
   "language": "python",
   "name": "python3"
  },
  "language_info": {
   "codemirror_mode": {
    "name": "ipython",
    "version": 3
   },
   "file_extension": ".py",
   "mimetype": "text/x-python",
   "name": "python",
   "nbconvert_exporter": "python",
   "pygments_lexer": "ipython3",
   "version": "3.8.1"
  },
  "orig_nbformat": 4,
  "vscode": {
   "interpreter": {
    "hash": "375f31c95a1f71fff43a8c15a66b494e52edd6575b524e15991f1100f99ee6b3"
   }
  }
 },
 "nbformat": 4,
 "nbformat_minor": 2
}
