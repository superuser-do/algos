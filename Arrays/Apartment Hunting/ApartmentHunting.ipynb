{
 "cells": [
  {
   "cell_type": "code",
   "execution_count": 37,
   "metadata": {},
   "outputs": [],
   "source": [
    "def apartmentHunting(blocks, reqs):\n",
    "    data = {}\n",
    "    for req in reqs:\n",
    "        data[req] = [float(\"inf\")] * len(blocks)\n",
    "    \n",
    "    # l -> r\n",
    "    for req in reqs:\n",
    "        for i in range(len(blocks)):\n",
    "            # if block already has the requirement\n",
    "            if blocks[i][req]:\n",
    "                data[req][i] = 0\n",
    "            \n",
    "            # if requirement not in the blcok, sum up distance with left side values\n",
    "            elif i > 0 and not blocks[i][req]:\n",
    "                data[req][i] = data[req][i-1] + 1\n",
    "    \n",
    "    # r -> l\n",
    "    for req in reqs:\n",
    "        for i in range(len(blocks)-1, -1, -1):\n",
    "            if blocks[i][req]:\n",
    "                data[req][i] = 0\n",
    "            \n",
    "            elif i < len(blocks) - 1 and not blocks[i][req]:\n",
    "                data[req][i] = min(data[req][i+1] + 1, data[req][i])\n",
    "\n",
    "    print(data)\n",
    "\n",
    "    result = []\n",
    "    for i in range(len(blocks)):\n",
    "        maxVal = float(\"-inf\")\n",
    "        for req in data:\n",
    "            if maxVal < data[req][i]:\n",
    "                maxVal = data[req][i]\n",
    "        result.append(maxVal)\n",
    "\n",
    "    return result.index(min(result))"
   ]
  },
  {
   "cell_type": "code",
   "execution_count": 38,
   "metadata": {},
   "outputs": [
    {
     "name": "stdout",
     "output_type": "stream",
     "text": [
      "{'gym': [1, 0, 0, 1, 2], 'school': [0, 1, 0, 0, 0], 'store': [4, 3, 2, 1, 0]}\n"
     ]
    },
    {
     "data": {
      "text/plain": [
       "3"
      ]
     },
     "execution_count": 38,
     "metadata": {},
     "output_type": "execute_result"
    }
   ],
   "source": [
    "blocks = [\n",
    "  {\n",
    "    \"gym\": False,\n",
    "    \"school\": True,\n",
    "    \"store\": False,\n",
    "  },\n",
    "  {\n",
    "    \"gym\": True,\n",
    "    \"school\": False,\n",
    "    \"store\": False,\n",
    "  },\n",
    "  {\n",
    "    \"gym\": True,\n",
    "    \"school\": True,\n",
    "    \"store\": False,\n",
    "  },\n",
    "  {\n",
    "    \"gym\": False,\n",
    "    \"school\": True,\n",
    "    \"store\": False,\n",
    "  },\n",
    "  {\n",
    "    \"gym\": False,\n",
    "    \"school\": True,\n",
    "    \"store\": True,\n",
    "  },\n",
    "]\n",
    "\n",
    "reqs = [\"gym\", \"school\", \"store\"]\n",
    "\n",
    "apartmentHunting(blocks, reqs)"
   ]
  },
  {
   "cell_type": "code",
   "execution_count": null,
   "metadata": {},
   "outputs": [],
   "source": []
  }
 ],
 "metadata": {
  "kernelspec": {
   "display_name": "Python 3.8.1 64-bit ('3.8.1')",
   "language": "python",
   "name": "python3"
  },
  "language_info": {
   "codemirror_mode": {
    "name": "ipython",
    "version": 3
   },
   "file_extension": ".py",
   "mimetype": "text/x-python",
   "name": "python",
   "nbconvert_exporter": "python",
   "pygments_lexer": "ipython3",
   "version": "3.8.1"
  },
  "orig_nbformat": 4,
  "vscode": {
   "interpreter": {
    "hash": "375f31c95a1f71fff43a8c15a66b494e52edd6575b524e15991f1100f99ee6b3"
   }
  }
 },
 "nbformat": 4,
 "nbformat_minor": 2
}
