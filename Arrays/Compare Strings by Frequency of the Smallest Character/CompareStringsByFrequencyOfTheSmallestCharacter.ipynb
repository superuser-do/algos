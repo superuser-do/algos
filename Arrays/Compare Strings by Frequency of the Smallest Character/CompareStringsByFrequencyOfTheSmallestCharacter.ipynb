{
 "cells": [
  {
   "cell_type": "code",
   "execution_count": 72,
   "metadata": {},
   "outputs": [],
   "source": [
    "def numSmallerByFrequency(queries, words):\n",
    "    def f(s):\n",
    "        return s.count(min(s))\n",
    "    \n",
    "    def binary_search(f, s):\n",
    "        left, right = 0, len(s)-1\n",
    "        while left <= right:\n",
    "            mid = (left+right)//2\n",
    "            if f < s[mid]:\n",
    "                right = mid-1\n",
    "            else:\n",
    "                left = mid+1\n",
    "        return len(s)-left\n",
    "\n",
    "    queries_frequency = []\n",
    "    words_frequency = []\n",
    "\n",
    "    for w in words:\n",
    "        words_frequency.append(f(w))\n",
    "    words_frequency.sort()\n",
    "    for q in queries:\n",
    "        queries_frequency.append(binary_search(f(q), words_frequency))\n",
    "    return queries_frequency"
   ]
  },
  {
   "cell_type": "code",
   "execution_count": 73,
   "metadata": {},
   "outputs": [
    {
     "name": "stdout",
     "output_type": "stream",
     "text": [
      "0\n"
     ]
    },
    {
     "data": {
      "text/plain": [
       "[1]"
      ]
     },
     "execution_count": 73,
     "metadata": {},
     "output_type": "execute_result"
    }
   ],
   "source": [
    "numSmallerByFrequency([\"cbd\"], [\"zaaaz\"])"
   ]
  },
  {
   "cell_type": "code",
   "execution_count": 74,
   "metadata": {},
   "outputs": [
    {
     "name": "stdout",
     "output_type": "stream",
     "text": [
      "3\n",
      "3\n"
     ]
    },
    {
     "data": {
      "text/plain": [
       "[1, 2]"
      ]
     },
     "execution_count": 74,
     "metadata": {},
     "output_type": "execute_result"
    }
   ],
   "source": [
    "numSmallerByFrequency([\"bbb\",\"cc\"], [\"a\",\"aa\",\"aaa\",\"aaaa\"])"
   ]
  },
  {
   "cell_type": "code",
   "execution_count": null,
   "metadata": {},
   "outputs": [],
   "source": []
  }
 ],
 "metadata": {
  "kernelspec": {
   "display_name": "Python 3.8.1 64-bit ('3.8.1')",
   "language": "python",
   "name": "python3"
  },
  "language_info": {
   "codemirror_mode": {
    "name": "ipython",
    "version": 3
   },
   "file_extension": ".py",
   "mimetype": "text/x-python",
   "name": "python",
   "nbconvert_exporter": "python",
   "pygments_lexer": "ipython3",
   "version": "3.8.1"
  },
  "orig_nbformat": 4,
  "vscode": {
   "interpreter": {
    "hash": "375f31c95a1f71fff43a8c15a66b494e52edd6575b524e15991f1100f99ee6b3"
   }
  }
 },
 "nbformat": 4,
 "nbformat_minor": 2
}
