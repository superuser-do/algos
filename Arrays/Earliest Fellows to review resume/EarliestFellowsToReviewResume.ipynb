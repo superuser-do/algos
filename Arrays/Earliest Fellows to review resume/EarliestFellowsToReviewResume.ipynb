{
 "cells": [
  {
   "cell_type": "code",
   "execution_count": 1,
   "metadata": {},
   "outputs": [],
   "source": [
    "def earliest_fellows(fellow_times):\n",
    "    earliest_time = float(\"inf\")\n",
    "    current_early_fellows = []\n",
    "\n",
    "    for name, time in fellow_times.items():\n",
    "        if time < earliest_time:\n",
    "            earliest_time = time\n",
    "            current_early_fellows = [name]\n",
    "        elif time == earliest_time:\n",
    "            current_early_fellows.append(name)\n",
    "    \n",
    "    return current_early_fellows"
   ]
  },
  {
   "cell_type": "code",
   "execution_count": 2,
   "metadata": {},
   "outputs": [
    {
     "data": {
      "text/plain": [
       "['oliver', 'tobey']"
      ]
     },
     "execution_count": 2,
     "metadata": {},
     "output_type": "execute_result"
    }
   ],
   "source": [
    "earliest_fellows({\"oliver\": 3, \"tobey\": 3})"
   ]
  },
  {
   "cell_type": "code",
   "execution_count": 3,
   "metadata": {},
   "outputs": [
    {
     "data": {
      "text/plain": [
       "['tobey']"
      ]
     },
     "execution_count": 3,
     "metadata": {},
     "output_type": "execute_result"
    }
   ],
   "source": [
    "earliest_fellows({\"oliver\": 3, \"pinky\": 4, \"pixel\": 2, \"tobey\": 1})"
   ]
  },
  {
   "cell_type": "code",
   "execution_count": null,
   "metadata": {},
   "outputs": [],
   "source": []
  }
 ],
 "metadata": {
  "kernelspec": {
   "display_name": "Python 3",
   "language": "python",
   "name": "python3"
  },
  "language_info": {
   "codemirror_mode": {
    "name": "ipython",
    "version": 3
   },
   "file_extension": ".py",
   "mimetype": "text/x-python",
   "name": "python",
   "nbconvert_exporter": "python",
   "pygments_lexer": "ipython3",
   "version": "3.8.1"
  },
  "orig_nbformat": 4,
  "vscode": {
   "interpreter": {
    "hash": "375f31c95a1f71fff43a8c15a66b494e52edd6575b524e15991f1100f99ee6b3"
   }
  }
 },
 "nbformat": 4,
 "nbformat_minor": 2
}
