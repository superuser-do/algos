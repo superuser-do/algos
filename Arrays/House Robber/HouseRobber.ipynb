{
 "cells": [
  {
   "cell_type": "code",
   "execution_count": 8,
   "metadata": {},
   "outputs": [],
   "source": [
    "# recursive\n",
    "def rob(nums):\n",
    "    def helper(i):\n",
    "        if i < 0:\n",
    "            return 0\n",
    "        return max(helper(i - 2) + nums[i], helper(i - 1))\n",
    "    return helper(len(nums)-1)"
   ]
  },
  {
   "cell_type": "code",
   "execution_count": 9,
   "metadata": {},
   "outputs": [
    {
     "data": {
      "text/plain": [
       "4"
      ]
     },
     "execution_count": 9,
     "metadata": {},
     "output_type": "execute_result"
    }
   ],
   "source": [
    "rob([1,2,3,1])"
   ]
  },
  {
   "cell_type": "code",
   "execution_count": 15,
   "metadata": {},
   "outputs": [],
   "source": [
    "# recursive memo\n",
    "def rob(nums):\n",
    "    memo = [-1 for _ in nums]\n",
    "    def helper(i):\n",
    "        if i < 0:\n",
    "            return 0\n",
    "        if memo[i] >= 0:\n",
    "            return memo[i]\n",
    "        result = max(helper(i - 2) + nums[i], helper(i - 1))\n",
    "        memo[i] = result\n",
    "        return result\n",
    "    return helper(len(nums)-1)"
   ]
  },
  {
   "cell_type": "code",
   "execution_count": 16,
   "metadata": {},
   "outputs": [
    {
     "data": {
      "text/plain": [
       "4"
      ]
     },
     "execution_count": 16,
     "metadata": {},
     "output_type": "execute_result"
    }
   ],
   "source": [
    "rob([1,2,3,1])"
   ]
  },
  {
   "cell_type": "code",
   "execution_count": 25,
   "metadata": {},
   "outputs": [],
   "source": [
    "# bottom up memo\n",
    "def rob(nums):\n",
    "    if len(nums) == 0:\n",
    "        return 0\n",
    "    memo = [0 for _ in nums]\n",
    "    memo[0] = 0\n",
    "    memo[1] = nums[0]\n",
    "    for i in range(len(nums)-1):\n",
    "        memo[i + 1] = max(memo[i], memo[i - 1] + nums[i])\n",
    "    return memo[len(nums)-1]"
   ]
  },
  {
   "cell_type": "code",
   "execution_count": 26,
   "metadata": {},
   "outputs": [
    {
     "data": {
      "text/plain": [
       "4"
      ]
     },
     "execution_count": 26,
     "metadata": {},
     "output_type": "execute_result"
    }
   ],
   "source": [
    "rob([1,2,3,1])"
   ]
  },
  {
   "cell_type": "code",
   "execution_count": 27,
   "metadata": {},
   "outputs": [],
   "source": [
    "# order is prev2, prev1, num\n",
    "def rob(nums):\n",
    "    if len(nums) == 0:\n",
    "        return 0\n",
    "    prev1 = 0\n",
    "    prev2 = 0\n",
    "    for num in nums:\n",
    "        temp = prev1\n",
    "        prev1 = max(prev2 + num, prev1)\n",
    "        prev2 = temp\n",
    "    return prev1"
   ]
  },
  {
   "cell_type": "code",
   "execution_count": 28,
   "metadata": {},
   "outputs": [
    {
     "data": {
      "text/plain": [
       "4"
      ]
     },
     "execution_count": 28,
     "metadata": {},
     "output_type": "execute_result"
    }
   ],
   "source": [
    "rob([1,2,3,1])"
   ]
  },
  {
   "cell_type": "code",
   "execution_count": null,
   "metadata": {},
   "outputs": [],
   "source": []
  }
 ],
 "metadata": {
  "kernelspec": {
   "display_name": "Python 3.8.1 64-bit ('3.8.1')",
   "language": "python",
   "name": "python3"
  },
  "language_info": {
   "codemirror_mode": {
    "name": "ipython",
    "version": 3
   },
   "file_extension": ".py",
   "mimetype": "text/x-python",
   "name": "python",
   "nbconvert_exporter": "python",
   "pygments_lexer": "ipython3",
   "version": "3.8.1"
  },
  "orig_nbformat": 4,
  "vscode": {
   "interpreter": {
    "hash": "375f31c95a1f71fff43a8c15a66b494e52edd6575b524e15991f1100f99ee6b3"
   }
  }
 },
 "nbformat": 4,
 "nbformat_minor": 2
}
