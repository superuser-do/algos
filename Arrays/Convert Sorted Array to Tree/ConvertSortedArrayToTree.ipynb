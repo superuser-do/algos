{
 "cells": [
  {
   "cell_type": "code",
   "execution_count": 7,
   "metadata": {},
   "outputs": [],
   "source": [
    "import os, sys\n",
    "sys.path.append(os.path.dirname(os.path.dirname(os.path.abspath(\"\"))))\n",
    "from Helpers import *"
   ]
  },
  {
   "cell_type": "code",
   "execution_count": 8,
   "metadata": {},
   "outputs": [],
   "source": [
    "def arrayToBST(array):\n",
    "    def helper(start, count):\n",
    "        if count == 0:\n",
    "            return None\n",
    "        \n",
    "        middle = start + (count // 2)\n",
    "        root = TreeNode(array[middle])\n",
    "        root.left = helper(start, middle - start)\n",
    "        root.right = helper(middle + 1, count - (middle - start + 1))\n",
    "        return root\n",
    "    \n",
    "    return helper(0, len(array))"
   ]
  },
  {
   "cell_type": "code",
   "execution_count": 11,
   "metadata": {},
   "outputs": [
    {
     "data": {
      "text/plain": [
       "<Helpers.TreeNode at 0x11173c6a0>"
      ]
     },
     "execution_count": 11,
     "metadata": {},
     "output_type": "execute_result"
    }
   ],
   "source": [
    "arrayToBST([1, 2, 3, 4, 5])"
   ]
  }
 ],
 "metadata": {
  "kernelspec": {
   "display_name": "Python 3.8.1 64-bit ('3.8.1')",
   "language": "python",
   "name": "python3"
  },
  "language_info": {
   "codemirror_mode": {
    "name": "ipython",
    "version": 3
   },
   "file_extension": ".py",
   "mimetype": "text/x-python",
   "name": "python",
   "nbconvert_exporter": "python",
   "pygments_lexer": "ipython3",
   "version": "3.8.1"
  },
  "orig_nbformat": 4,
  "vscode": {
   "interpreter": {
    "hash": "375f31c95a1f71fff43a8c15a66b494e52edd6575b524e15991f1100f99ee6b3"
   }
  }
 },
 "nbformat": 4,
 "nbformat_minor": 2
}
