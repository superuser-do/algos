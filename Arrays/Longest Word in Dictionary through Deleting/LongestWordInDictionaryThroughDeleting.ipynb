{
 "cells": [
  {
   "cell_type": "code",
   "execution_count": 21,
   "metadata": {},
   "outputs": [],
   "source": [
    "def findLongestWord(s, dictionary):\n",
    "    dictionary.sort(key = lambda x: (-len(x), x))\n",
    "\n",
    "    def helper(subsequence, entire_string):\n",
    "        n, m = len(subsequence), len(entire_string)\n",
    "        i, j = 0, 0\n",
    "        while i < n and j < m:\n",
    "            if subsequence[i] == entire_string[j]:\n",
    "                i += 1\n",
    "            j += 1\n",
    "        return i == n\n",
    "\n",
    "    output = \"\"\n",
    "    for word in dictionary:\n",
    "        if helper(word, s):\n",
    "            return word\n",
    "    return output\n"
   ]
  },
  {
   "cell_type": "code",
   "execution_count": 22,
   "metadata": {},
   "outputs": [
    {
     "data": {
      "text/plain": [
       "'apple'"
      ]
     },
     "execution_count": 22,
     "metadata": {},
     "output_type": "execute_result"
    }
   ],
   "source": [
    "findLongestWord(\"abpcplea\", [\"ale\",\"apple\",\"monkey\",\"plea\"])"
   ]
  },
  {
   "cell_type": "code",
   "execution_count": null,
   "metadata": {},
   "outputs": [],
   "source": []
  }
 ],
 "metadata": {
  "kernelspec": {
   "display_name": "Python 3.8.1 64-bit ('3.8.1')",
   "language": "python",
   "name": "python3"
  },
  "language_info": {
   "codemirror_mode": {
    "name": "ipython",
    "version": 3
   },
   "file_extension": ".py",
   "mimetype": "text/x-python",
   "name": "python",
   "nbconvert_exporter": "python",
   "pygments_lexer": "ipython3",
   "version": "3.8.1"
  },
  "orig_nbformat": 4,
  "vscode": {
   "interpreter": {
    "hash": "375f31c95a1f71fff43a8c15a66b494e52edd6575b524e15991f1100f99ee6b3"
   }
  }
 },
 "nbformat": 4,
 "nbformat_minor": 2
}
