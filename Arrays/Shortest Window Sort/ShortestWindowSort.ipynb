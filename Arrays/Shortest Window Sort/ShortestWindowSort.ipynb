{
 "cells": [
  {
   "cell_type": "code",
   "execution_count": null,
   "metadata": {},
   "outputs": [],
   "source": [
    "def shortest_window_sort(arr):\n",
    "    if not arr or len(arr) < 2:\n",
    "        return arr\n",
    "    p1 = 0\n",
    "    p2 = 1\n",
    "    while p1 < p2 and p2 < len(arr):\n",
    "        if arr[p1] > arr[p2]:\n",
    "            start = p1\n",
    "        \n",
    "        p1 += 1\n",
    "        p2 += 1"
   ]
  }
 ],
 "metadata": {
  "language_info": {
   "name": "python"
  },
  "orig_nbformat": 4
 },
 "nbformat": 4,
 "nbformat_minor": 2
}
