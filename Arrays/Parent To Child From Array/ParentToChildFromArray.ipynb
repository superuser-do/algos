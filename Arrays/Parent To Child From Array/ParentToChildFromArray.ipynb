{
 "cells": [
  {
   "cell_type": "code",
   "execution_count": 18,
   "metadata": {},
   "outputs": [],
   "source": [
    "def parent_to_child(relations):\n",
    "    if not relations or not relations[0]:\n",
    "        return \"No family relations\"\n",
    "    \n",
    "    parent_to_children = dict()\n",
    "    for relation in relations:\n",
    "        child = relation[0]\n",
    "        map_to_parent(relation[1], child, parent_to_children)\n",
    "        map_to_parent(relation[2], child, parent_to_children)\n",
    "\n",
    "    parent_relationships = []\n",
    "    for parent, child in parent_to_children.items():\n",
    "        parent_relationships.append(parent + \" is the parent of \" + \",\".join(child))\n",
    "    return \"\\n\".join(parent_relationships)\n",
    "    \n",
    "def map_to_parent(parent, child, parent_to_children):\n",
    "    if parent in parent_to_children:\n",
    "        parent_to_children[parent].append(child)\n",
    "    else:\n",
    "        parent_to_children[parent] = [child]\n",
    "    "
   ]
  },
  {
   "cell_type": "code",
   "execution_count": 19,
   "metadata": {},
   "outputs": [
    {
     "data": {
      "text/plain": [
       "'No family relations'"
      ]
     },
     "execution_count": 19,
     "metadata": {},
     "output_type": "execute_result"
    }
   ],
   "source": [
    "parent_to_child([])"
   ]
  },
  {
   "cell_type": "code",
   "execution_count": 20,
   "metadata": {},
   "outputs": [
    {
     "data": {
      "text/plain": [
       "'Ben is the parent of James,Jen\\nLisa is the parent of James\\nTaylor is the parent of George\\nFred is the parent of George\\nGloria is the parent of Jen'"
      ]
     },
     "execution_count": 20,
     "metadata": {},
     "output_type": "execute_result"
    }
   ],
   "source": [
    "parent_to_child([\n",
    "  [\"James\", \"Ben\", \"Lisa\"],\n",
    "  [\"George\", \"Taylor\", \"Fred\"],\n",
    "  [\"Jen\", \"Ben\", \"Gloria\"]\n",
    "])"
   ]
  },
  {
   "cell_type": "code",
   "execution_count": null,
   "metadata": {},
   "outputs": [],
   "source": []
  }
 ],
 "metadata": {
  "kernelspec": {
   "display_name": "Python 3",
   "language": "python",
   "name": "python3"
  },
  "language_info": {
   "codemirror_mode": {
    "name": "ipython",
    "version": 3
   },
   "file_extension": ".py",
   "mimetype": "text/x-python",
   "name": "python",
   "nbconvert_exporter": "python",
   "pygments_lexer": "ipython3",
   "version": "3.8.1"
  },
  "orig_nbformat": 4,
  "vscode": {
   "interpreter": {
    "hash": "375f31c95a1f71fff43a8c15a66b494e52edd6575b524e15991f1100f99ee6b3"
   }
  }
 },
 "nbformat": 4,
 "nbformat_minor": 2
}
