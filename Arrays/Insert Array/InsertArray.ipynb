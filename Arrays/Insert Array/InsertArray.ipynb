{
 "cells": [
  {
   "cell_type": "code",
   "execution_count": 3,
   "metadata": {},
   "outputs": [],
   "source": [
    "def insert(intervals, new_interval):\n",
    "   result = []\n",
    "\n",
    "   for interval in intervals:\n",
    "    # the new interval is after the range of other interval, \n",
    "    # we can leave the current interval baecause the new one does not overlap with it\n",
    "    if interval[1] < new_interval[0]:\n",
    "        result.append(interval)\n",
    "    # the new interval's range is before the other,\n",
    "    # we can add the new interval and update it to the current one\n",
    "    elif interval[0] > new_interval[1]:\n",
    "        result.append(new_interval)\n",
    "        new_interval = interval\n",
    "    # the new interval is in the range of the other interval, \n",
    "    # there is an overlap, so we must choose the min for start and max for end of interval \n",
    "    elif interval[1] >= new_interval[0] or interval[0] <= new_interval[1]:\n",
    "        new_interval[0] = min(interval[0], new_interval[0])\n",
    "        new_interval[1] = max(new_interval[1], interval[1])\n",
    "   result.append(new_interval)\n",
    "   return result "
   ]
  },
  {
   "cell_type": "code",
   "execution_count": 4,
   "metadata": {},
   "outputs": [
    {
     "name": "stdout",
     "output_type": "stream",
     "text": [
      "3\n",
      "9\n"
     ]
    },
    {
     "data": {
      "text/plain": [
       "[[1, 5], [6, 9]]"
      ]
     },
     "execution_count": 4,
     "metadata": {},
     "output_type": "execute_result"
    }
   ],
   "source": [
    "insert([[1,3],[6,9]], [2,5])"
   ]
  },
  {
   "cell_type": "code",
   "execution_count": null,
   "metadata": {},
   "outputs": [],
   "source": []
  }
 ],
 "metadata": {
  "kernelspec": {
   "display_name": "Python 3.8.1 64-bit ('3.8.1')",
   "language": "python",
   "name": "python3"
  },
  "language_info": {
   "codemirror_mode": {
    "name": "ipython",
    "version": 3
   },
   "file_extension": ".py",
   "mimetype": "text/x-python",
   "name": "python",
   "nbconvert_exporter": "python",
   "pygments_lexer": "ipython3",
   "version": "3.8.1"
  },
  "orig_nbformat": 4,
  "vscode": {
   "interpreter": {
    "hash": "375f31c95a1f71fff43a8c15a66b494e52edd6575b524e15991f1100f99ee6b3"
   }
  }
 },
 "nbformat": 4,
 "nbformat_minor": 2
}
