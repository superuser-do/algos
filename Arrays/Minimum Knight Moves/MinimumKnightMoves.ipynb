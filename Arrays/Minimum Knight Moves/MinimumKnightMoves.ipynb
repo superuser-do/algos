{
 "cells": [
  {
   "cell_type": "code",
   "execution_count": 19,
   "metadata": {},
   "outputs": [],
   "source": [
    "from collections import deque\n",
    "\n",
    "def minKnightMoves(x, y):\n",
    "    # the offsets in the eight directions\n",
    "    offsets = [(1, 2), (2, 1), (2, -1), (1, -2),\n",
    "                (-1, -2), (-2, -1), (-2, 1), (-1, 2)]\n",
    "\n",
    "    # data structures needed to move from the origin point\n",
    "    origin_queue = deque([(0, 0, 0)])\n",
    "    origin_distance = {(0, 0): 0}\n",
    "\n",
    "    # data structures needed to move from the target point\n",
    "    target_queue = deque([(x, y, 0)])\n",
    "    target_distance = {(x, y): 0}\n",
    "\n",
    "    while True:\n",
    "        # check if we reach the circle of target\n",
    "        origin_x, origin_y, origin_steps = origin_queue.popleft()\n",
    "        if (origin_x, origin_y) in target_distance:\n",
    "            return origin_steps + target_distance[(origin_x, origin_y)]\n",
    "\n",
    "        # check if we reach the circle of origin\n",
    "        target_x, target_y, target_steps = target_queue.popleft()\n",
    "        if (target_x, target_y) in origin_distance:\n",
    "            return target_steps + origin_distance[(target_x, target_y)]\n",
    "\n",
    "        for offset_x, offset_y in offsets:\n",
    "            # expand the circle of origin\n",
    "            next_origin_x, next_origin_y = origin_x + offset_x, origin_y + offset_y\n",
    "            if (next_origin_x, next_origin_y) not in origin_distance:\n",
    "                origin_queue.append((next_origin_x, next_origin_y, origin_steps + 1))\n",
    "                origin_distance[(next_origin_x, next_origin_y)] = origin_steps + 1\n",
    "\n",
    "            # expand the circle of target\n",
    "            next_target_x, next_target_y = target_x + offset_x, target_y + offset_y\n",
    "            if (next_target_x, next_target_y) not in target_distance:\n",
    "                target_queue.append((next_target_x, next_target_y, target_steps + 1))\n",
    "                target_distance[(next_target_x, next_target_y)] = target_steps + 1"
   ]
  },
  {
   "cell_type": "code",
   "execution_count": 20,
   "metadata": {},
   "outputs": [
    {
     "data": {
      "text/plain": [
       "56"
      ]
     },
     "execution_count": 20,
     "metadata": {},
     "output_type": "execute_result"
    }
   ],
   "source": [
    "minKnightMoves(2, 1)"
   ]
  },
  {
   "cell_type": "code",
   "execution_count": 21,
   "metadata": {},
   "outputs": [
    {
     "data": {
      "text/plain": [
       "4"
      ]
     },
     "execution_count": 21,
     "metadata": {},
     "output_type": "execute_result"
    }
   ],
   "source": [
    "minKnightMoves(5, 5)"
   ]
  },
  {
   "cell_type": "code",
   "execution_count": null,
   "metadata": {},
   "outputs": [],
   "source": []
  }
 ],
 "metadata": {
  "kernelspec": {
   "display_name": "Python 3.8.1 64-bit ('3.8.1')",
   "language": "python",
   "name": "python3"
  },
  "language_info": {
   "codemirror_mode": {
    "name": "ipython",
    "version": 3
   },
   "file_extension": ".py",
   "mimetype": "text/x-python",
   "name": "python",
   "nbconvert_exporter": "python",
   "pygments_lexer": "ipython3",
   "version": "3.8.1"
  },
  "orig_nbformat": 4,
  "vscode": {
   "interpreter": {
    "hash": "375f31c95a1f71fff43a8c15a66b494e52edd6575b524e15991f1100f99ee6b3"
   }
  }
 },
 "nbformat": 4,
 "nbformat_minor": 2
}
