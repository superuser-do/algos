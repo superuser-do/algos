{
 "cells": [
  {
   "cell_type": "code",
   "execution_count": 7,
   "metadata": {},
   "outputs": [],
   "source": [
    "def findAnagrams(s, p):\n",
    "    if len(p) > len(s): return []\n",
    "    pCount, sCount = {}, {}\n",
    "    for i in range(len(p)):\n",
    "        pCount[p[i]] = 1 + pCount.get(p[i], 0)\n",
    "        sCount[s[i]] = 1 + sCount.get(s[i], 0)\n",
    "    \n",
    "    result = [0] if sCount == pCount else []\n",
    "    \n",
    "    left = 0\n",
    "    for right in range(len(p), len(s)):\n",
    "        sCount[s[right]] = 1 + sCount.get(s[right], 0)\n",
    "        sCount[s[left]] -= 1\n",
    "       \n",
    "        if sCount[s[left]] == 0:\n",
    "            sCount.pop(s[left])\n",
    "\n",
    "        left += 1\n",
    "\n",
    "        if sCount == pCount:\n",
    "            result.append(left)\n",
    "    \n",
    "    return result"
   ]
  },
  {
   "cell_type": "code",
   "execution_count": 8,
   "metadata": {},
   "outputs": [
    {
     "data": {
      "text/plain": [
       "[0, 6]"
      ]
     },
     "execution_count": 8,
     "metadata": {},
     "output_type": "execute_result"
    }
   ],
   "source": [
    "findAnagrams(\"cbaebabacd\", \"abc\")"
   ]
  },
  {
   "cell_type": "code",
   "execution_count": 9,
   "metadata": {},
   "outputs": [
    {
     "data": {
      "text/plain": [
       "[0, 1, 2]"
      ]
     },
     "execution_count": 9,
     "metadata": {},
     "output_type": "execute_result"
    }
   ],
   "source": [
    "findAnagrams(\"abab\", \"ab\")"
   ]
  }
 ],
 "metadata": {
  "kernelspec": {
   "display_name": "Python 3.8.1 64-bit ('3.8.1')",
   "language": "python",
   "name": "python3"
  },
  "language_info": {
   "codemirror_mode": {
    "name": "ipython",
    "version": 3
   },
   "file_extension": ".py",
   "mimetype": "text/x-python",
   "name": "python",
   "nbconvert_exporter": "python",
   "pygments_lexer": "ipython3",
   "version": "3.8.1"
  },
  "orig_nbformat": 4,
  "vscode": {
   "interpreter": {
    "hash": "375f31c95a1f71fff43a8c15a66b494e52edd6575b524e15991f1100f99ee6b3"
   }
  }
 },
 "nbformat": 4,
 "nbformat_minor": 2
}
