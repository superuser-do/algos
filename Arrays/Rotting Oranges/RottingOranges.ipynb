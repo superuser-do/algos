{
 "cells": [
  {
   "cell_type": "code",
   "execution_count": 57,
   "metadata": {},
   "outputs": [],
   "source": [
    "def orangesRotting(grid):\n",
    "    rows = len(grid)\n",
    "    cols = len(grid[0])\n",
    "\n",
    "    queue = []\n",
    "    time = 0\n",
    "    fresh_oranges = 0\n",
    "    for r in range(rows):\n",
    "        for c in range(cols):\n",
    "            if grid[r][c] == 1:\n",
    "                fresh_oranges += 1\n",
    "            elif grid[r][c] == 2:\n",
    "                 queue.append([r, c])\n",
    "\n",
    "    while queue and fresh_oranges > 0:\n",
    "        for i in range(len(queue)):\n",
    "            r, c = queue.pop(0)\n",
    "            for x, y in [(-1, 0), (1, 0), (0, 1), (0, -1)]:\n",
    "                row, col = x + r, y + c\n",
    "                if (row < 0 or row == len(grid) or\n",
    "                    col < 0 or col == len(grid[0]) or\n",
    "                    grid[row][col] != 1): \n",
    "                    continue\n",
    "                grid[row][col] = 2\n",
    "                queue.append([row, col])\n",
    "                fresh_oranges -= 1\n",
    "        time += 1\n",
    "    return time if fresh_oranges == 0 else -1\n"
   ]
  },
  {
   "cell_type": "code",
   "execution_count": 58,
   "metadata": {},
   "outputs": [
    {
     "data": {
      "text/plain": [
       "4"
      ]
     },
     "execution_count": 58,
     "metadata": {},
     "output_type": "execute_result"
    }
   ],
   "source": [
    "orangesRotting([[2,1,1],[1,1,0],[0,1,1]])"
   ]
  },
  {
   "cell_type": "code",
   "execution_count": null,
   "metadata": {},
   "outputs": [],
   "source": []
  }
 ],
 "metadata": {
  "kernelspec": {
   "display_name": "Python 3.8.1 64-bit ('3.8.1')",
   "language": "python",
   "name": "python3"
  },
  "language_info": {
   "codemirror_mode": {
    "name": "ipython",
    "version": 3
   },
   "file_extension": ".py",
   "mimetype": "text/x-python",
   "name": "python",
   "nbconvert_exporter": "python",
   "pygments_lexer": "ipython3",
   "version": "3.8.1"
  },
  "orig_nbformat": 4,
  "vscode": {
   "interpreter": {
    "hash": "375f31c95a1f71fff43a8c15a66b494e52edd6575b524e15991f1100f99ee6b3"
   }
  }
 },
 "nbformat": 4,
 "nbformat_minor": 2
}
