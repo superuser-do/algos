{
 "cells": [
  {
   "cell_type": "code",
   "execution_count": 4,
   "metadata": {},
   "outputs": [],
   "source": [
    "import math"
   ]
  },
  {
   "cell_type": "code",
   "execution_count": 5,
   "metadata": {},
   "outputs": [],
   "source": [
    "def max_points(points):\n",
    "    if len(points) <= 2:\n",
    "        return len(points)\n",
    "    \n",
    "    def find_slope(p1, p2):\n",
    "        x1, y1 = p1\n",
    "        x2, y2 = p2\n",
    "        if x1 == x2:\n",
    "            return math.inf\n",
    "        elif y1 == y2:\n",
    "            return 0\n",
    "        else:\n",
    "            return (y1-y2) / (x1-x2)\n",
    "\n",
    "    ans = 1\n",
    "    for i, p1 in enumerate(points):\n",
    "        slopes = {}\n",
    "        for j, p2 in enumerate(points[i+1:]):\n",
    "            slope = find_slope(p1, p2)\n",
    "            if slope not in slopes:\n",
    "                slopes[slope] = 1\n",
    "            else:\n",
    "                slopes[slope] += 1\n",
    "            ans = max(slopes[slope], ans)\n",
    "    return ans+1\n"
   ]
  },
  {
   "cell_type": "code",
   "execution_count": 6,
   "metadata": {},
   "outputs": [
    {
     "data": {
      "text/plain": [
       "5"
      ]
     },
     "execution_count": 6,
     "metadata": {},
     "output_type": "execute_result"
    }
   ],
   "source": [
    "points = [(3, 8), (4, 3), (5, 7), (6, 1), (9, 5), (10, 9), (11, 4), (14, 7), (15, 2), (15, 6), (16, 9), (19, 4)]\n",
    "max_points(points)"
   ]
  }
 ],
 "metadata": {
  "kernelspec": {
   "display_name": "Python 3.9.13 64-bit",
   "language": "python",
   "name": "python3"
  },
  "language_info": {
   "codemirror_mode": {
    "name": "ipython",
    "version": 3
   },
   "file_extension": ".py",
   "mimetype": "text/x-python",
   "name": "python",
   "nbconvert_exporter": "python",
   "pygments_lexer": "ipython3",
   "version": "3.9.13"
  },
  "orig_nbformat": 4,
  "vscode": {
   "interpreter": {
    "hash": "aee8b7b246df8f9039afb4144a1f6fd8d2ca17a180786b69acc140d282b71a49"
   }
  }
 },
 "nbformat": 4,
 "nbformat_minor": 2
}
