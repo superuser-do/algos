{
 "cells": [
  {
   "cell_type": "code",
   "execution_count": 3,
   "metadata": {},
   "outputs": [],
   "source": [
    "def waterArea(heights):\n",
    "    water_level = [ 0 for x in heights]\n",
    "\n",
    "    left_max = 0\n",
    "    for i in range(len(heights)):\n",
    "        height = heights[i]\n",
    "        water_level[i] = left_max\n",
    "        left_max = max(left_max, height)\n",
    "\n",
    "    right_max = 0\n",
    "    for i in reversed(range(len(heights))):\n",
    "        height = heights[i]\n",
    "        min_height = min(right_max, water_level[i])\n",
    "        if height < min_height:\n",
    "            water_level[i] = min_height - height\n",
    "        else:\n",
    "            water_level[i] = 0\n",
    "        right_max = max(right_max, height)\n",
    "        \n",
    "    return sum(water_level)\n",
    "\n"
   ]
  },
  {
   "cell_type": "code",
   "execution_count": 4,
   "metadata": {},
   "outputs": [
    {
     "data": {
      "text/plain": [
       "48"
      ]
     },
     "execution_count": 4,
     "metadata": {},
     "output_type": "execute_result"
    }
   ],
   "source": [
    "waterArea([0, 8, 0, 0, 5, 0, 0, 10, 0, 0, 1, 1, 0, 3])"
   ]
  }
 ],
 "metadata": {
  "kernelspec": {
   "display_name": "Python 3.9.13 64-bit",
   "language": "python",
   "name": "python3"
  },
  "language_info": {
   "codemirror_mode": {
    "name": "ipython",
    "version": 3
   },
   "file_extension": ".py",
   "mimetype": "text/x-python",
   "name": "python",
   "nbconvert_exporter": "python",
   "pygments_lexer": "ipython3",
   "version": "3.9.13"
  },
  "orig_nbformat": 4,
  "vscode": {
   "interpreter": {
    "hash": "aee8b7b246df8f9039afb4144a1f6fd8d2ca17a180786b69acc140d282b71a49"
   }
  }
 },
 "nbformat": 4,
 "nbformat_minor": 2
}
