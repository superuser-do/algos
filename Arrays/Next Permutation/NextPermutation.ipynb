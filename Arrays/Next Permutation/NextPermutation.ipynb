{
 "cells": [
  {
   "cell_type": "code",
   "execution_count": 11,
   "metadata": {},
   "outputs": [],
   "source": [
    "def nextPermutation(nums):\n",
    "    n = len(nums)\n",
    "    if n <= 2:\n",
    "        return nums.reverse()\n",
    "    pointer = n - 2\n",
    "    while pointer >= 0 and nums[pointer] >= nums[pointer + 1]:\n",
    "        pointer -= 1\n",
    "    \n",
    "    if pointer == -1:\n",
    "        return nums.reverse()\n",
    "\n",
    "    for i in range(n - 1, pointer, -1):\n",
    "        if nums[pointer] < nums[i]:\n",
    "            nums[pointer], nums[i] = nums[i], nums[pointer]\n",
    "            break\n",
    "\n",
    "    nums[pointer + 1:] = reversed(nums[pointer + 1:])\n",
    "    return nums"
   ]
  },
  {
   "cell_type": "code",
   "execution_count": 12,
   "metadata": {},
   "outputs": [
    {
     "data": {
      "text/plain": [
       "[1, 3, 2]"
      ]
     },
     "execution_count": 12,
     "metadata": {},
     "output_type": "execute_result"
    }
   ],
   "source": [
    "nextPermutation([1,2,3])"
   ]
  },
  {
   "cell_type": "code",
   "execution_count": null,
   "metadata": {},
   "outputs": [],
   "source": [
    "\n",
    "\n"
   ]
  }
 ],
 "metadata": {
  "kernelspec": {
   "display_name": "Python 3.8.1 64-bit ('3.8.1')",
   "language": "python",
   "name": "python3"
  },
  "language_info": {
   "codemirror_mode": {
    "name": "ipython",
    "version": 3
   },
   "file_extension": ".py",
   "mimetype": "text/x-python",
   "name": "python",
   "nbconvert_exporter": "python",
   "pygments_lexer": "ipython3",
   "version": "3.8.1"
  },
  "orig_nbformat": 4,
  "vscode": {
   "interpreter": {
    "hash": "375f31c95a1f71fff43a8c15a66b494e52edd6575b524e15991f1100f99ee6b3"
   }
  }
 },
 "nbformat": 4,
 "nbformat_minor": 2
}
