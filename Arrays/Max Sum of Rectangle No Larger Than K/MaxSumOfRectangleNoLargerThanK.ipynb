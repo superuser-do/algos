{
 "cells": [
  {
   "cell_type": "code",
   "execution_count": 28,
   "metadata": {},
   "outputs": [],
   "source": [
    "def maxSumSubmatrix(matrix, k):\n",
    "    m = len(matrix)\n",
    "    n = len(matrix[0])\n",
    "    ans = float('-inf')\n",
    "    \n",
    "    matrix_prefix = [[0 for _ in range(n + 1)] for _ in range(m + 1)]\n",
    "    \n",
    "    for row in range(1, m + 1):\n",
    "        for col in range(1, n + 1):\n",
    "            matrix_prefix[row][col] = matrix[row - 1][col - 1] + matrix_prefix[row-1][col] + matrix_prefix[row][col-1] - matrix_prefix[row-1][col-1]\n",
    "    \n",
    "    for y1 in range(m):\n",
    "        for y2 in range(y1, m):\n",
    "            x_sums = []\n",
    "            for x in range(n):\n",
    "                rec_sum = matrix_prefix[y2 + 1][x + 1] - matrix_prefix[y1][x+1] - matrix_prefix[y2+1][0] + matrix_prefix[y1][0]\n",
    "                comp = rec_sum - k\n",
    "                \n",
    "                if rec_sum <= k:\n",
    "                    ans = max(ans, rec_sum)\n",
    "\n",
    "                import bisect\n",
    "                i = bisect.bisect_left(x_sums, comp)    \n",
    "                if x_sums and i < len(x_sums):\n",
    "                    if rec_sum - x_sums[i] <= k:\n",
    "                        ans = max(ans, rec_sum - x_sums[i])\n",
    "                \n",
    "                bisect.insort(x_sums, rec_sum)\n",
    "                \n",
    "    return ans"
   ]
  },
  {
   "cell_type": "code",
   "execution_count": 29,
   "metadata": {},
   "outputs": [
    {
     "data": {
      "text/plain": [
       "2"
      ]
     },
     "execution_count": 29,
     "metadata": {},
     "output_type": "execute_result"
    }
   ],
   "source": [
    "maxSumSubmatrix([[1,0,1],[0,-2,3]], 2)"
   ]
  },
  {
   "cell_type": "code",
   "execution_count": 18,
   "metadata": {},
   "outputs": [
    {
     "data": {
      "text/plain": [
       "3"
      ]
     },
     "execution_count": 18,
     "metadata": {},
     "output_type": "execute_result"
    }
   ],
   "source": [
    "maxSumSubmatrix([[2,2,-1]], 3)"
   ]
  },
  {
   "cell_type": "code",
   "execution_count": null,
   "metadata": {},
   "outputs": [],
   "source": []
  }
 ],
 "metadata": {
  "kernelspec": {
   "display_name": "Python 3.8.1 64-bit ('3.8.1')",
   "language": "python",
   "name": "python3"
  },
  "language_info": {
   "codemirror_mode": {
    "name": "ipython",
    "version": 3
   },
   "file_extension": ".py",
   "mimetype": "text/x-python",
   "name": "python",
   "nbconvert_exporter": "python",
   "pygments_lexer": "ipython3",
   "version": "3.8.1"
  },
  "orig_nbformat": 4,
  "vscode": {
   "interpreter": {
    "hash": "375f31c95a1f71fff43a8c15a66b494e52edd6575b524e15991f1100f99ee6b3"
   }
  }
 },
 "nbformat": 4,
 "nbformat_minor": 2
}
