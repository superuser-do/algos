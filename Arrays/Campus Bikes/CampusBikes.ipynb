{
 "cells": [
  {
   "cell_type": "code",
   "execution_count": 28,
   "metadata": {},
   "outputs": [],
   "source": [
    "def assign_bikes(workers, bikes):\n",
    "    distances = []\n",
    "    for i, worker in enumerate(workers):\n",
    "        for j, bike in enumerate(bikes):\n",
    "            distance = abs(worker[0] - bike[0]) + abs(worker[1] - bike[1])\n",
    "            distances.append((distance, i, j))\n",
    "    \n",
    "    distances.sort()\n",
    "\n",
    "    result = [-1 for i in workers]\n",
    "    bikes_taken = set()\n",
    "    for distance, i, j in distances:\n",
    "        if len(bikes_taken) == len(workers):\n",
    "            break\n",
    "        if result[i] == -1 and j not in bikes_taken:\n",
    "            result[i] = j\n",
    "            bikes_taken.add(j)\n",
    "    return result\n"
   ]
  },
  {
   "cell_type": "code",
   "execution_count": 29,
   "metadata": {},
   "outputs": [
    {
     "data": {
      "text/plain": [
       "[1, 0]"
      ]
     },
     "execution_count": 29,
     "metadata": {},
     "output_type": "execute_result"
    }
   ],
   "source": [
    "workers = [[0,0],[2,1]]\n",
    "bikes = [[1,2],[3,3]]\n",
    "assign_bikes(workers, bikes)"
   ]
  },
  {
   "cell_type": "code",
   "execution_count": 30,
   "metadata": {},
   "outputs": [
    {
     "data": {
      "text/plain": [
       "[0, 2, 1]"
      ]
     },
     "execution_count": 30,
     "metadata": {},
     "output_type": "execute_result"
    }
   ],
   "source": [
    "workers = [[0,0],[1,1],[2,0]]\n",
    "bikes = [[1,0],[2,2],[2,1]]\n",
    "assign_bikes(workers, bikes)"
   ]
  },
  {
   "cell_type": "code",
   "execution_count": null,
   "metadata": {},
   "outputs": [],
   "source": []
  }
 ],
 "metadata": {
  "kernelspec": {
   "display_name": "Python 3.8.1 64-bit ('3.8.1')",
   "language": "python",
   "name": "python3"
  },
  "language_info": {
   "codemirror_mode": {
    "name": "ipython",
    "version": 3
   },
   "file_extension": ".py",
   "mimetype": "text/x-python",
   "name": "python",
   "nbconvert_exporter": "python",
   "pygments_lexer": "ipython3",
   "version": "3.8.1"
  },
  "orig_nbformat": 4,
  "vscode": {
   "interpreter": {
    "hash": "375f31c95a1f71fff43a8c15a66b494e52edd6575b524e15991f1100f99ee6b3"
   }
  }
 },
 "nbformat": 4,
 "nbformat_minor": 2
}
