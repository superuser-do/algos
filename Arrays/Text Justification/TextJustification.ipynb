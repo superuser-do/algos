{
 "cells": [
  {
   "cell_type": "code",
   "execution_count": 5,
   "metadata": {},
   "outputs": [],
   "source": [
    "def fullJustify(words, max_width):\n",
    "    \"\"\"\n",
    "    Time complexity: O(m*n)\n",
    "    Space complexity: O(m*n)\n",
    "    \"\"\"\n",
    "\n",
    "    def justify(line, width, max_width):\n",
    "        \"\"\"\n",
    "        :param line: the actual words\n",
    "        :param width: sum of length of all words (without overall_spaces_count)\n",
    "        :param max_width: maximum allowed width\n",
    "        :return: String\n",
    "        \"\"\"\n",
    "        overall_spaces_count = max_width + width\n",
    "        word_count = len(line)\n",
    "        if len(line) == 1:\n",
    "            # if there is only one word in line\n",
    "            # just fill line with whitespace of length overall_spaces_count\n",
    "            return line[0] + ' ' * overall_spaces_count\n",
    "        else:\n",
    "            spaces_to_insert_between_words = word_count - 1\n",
    "            # num_spaces_between_word_list dictates insert num_spaces_between_words after word for line\n",
    "            num_spaces_between_word_list = spaces_to_insert_between_words * [overall_spaces_count // spaces_to_insert_between_words]\n",
    "            spaces_count_in_locations = overall_spaces_count % spaces_to_insert_between_words\n",
    "            # distribute spaces via round robin to the left words\n",
    "            for i in range(spaces_count_in_locations):\n",
    "                num_spaces_between_word_list[i] += 1\n",
    "            aligned_word_list = []\n",
    "            for i in range(spaces_to_insert_between_words):\n",
    "                # add the word\n",
    "                aligned_word_list.append(line[i])\n",
    "                # add the spaces to insert\n",
    "                aligned_word_list.append(num_spaces_between_word_list[i] * ' ')\n",
    "            # just add the last word to the sentence\n",
    "            aligned_word_list.append(line[-1])\n",
    "            # join the aligned word list to for a justified line\n",
    "            return ''.join(aligned_word_list)\n",
    "    \n",
    "    result = []\n",
    "    line, width = [], 0\n",
    "    for word in words:\n",
    "        if width + len(word) + len(line) <= max_width:\n",
    "            # keep adding words until we can fill out maxWidth\n",
    "            # width = sum of length of all words (without overall_spaces_count)\n",
    "            # len(word) = lenght of current word\n",
    "            # len(line) = number of overall_spaces_count to insert between words\n",
    "            line.append(word)\n",
    "            width += len(word)\n",
    "        else:\n",
    "            # justify th eline and add it to result\n",
    "            result.append(justify(line, width, max_width))\n",
    "            # reset new line and new width\n",
    "            line, width = [word], len(word)\n",
    "    remaining_spaces = max_width - width - len(line)\n",
    "    result.append(' '.join(line) + (remaining_spaces + 1) * ' ')\n",
    "    return result"
   ]
  },
  {
   "cell_type": "code",
   "execution_count": 6,
   "metadata": {},
   "outputs": [
    {
     "data": {
      "text/plain": [
       "['This            is            an',\n",
       " 'example               of              text',\n",
       " 'justification.  ']"
      ]
     },
     "execution_count": 6,
     "metadata": {},
     "output_type": "execute_result"
    }
   ],
   "source": [
    "words = [\"This\", \"is\", \"an\", \"example\", \"of\", \"text\", \"justification.\"]\n",
    "max_width = 16\n",
    "fullJustify(words, max_width)"
   ]
  },
  {
   "cell_type": "code",
   "execution_count": 7,
   "metadata": {},
   "outputs": [
    {
     "data": {
      "text/plain": [
       "['What             must             be',\n",
       " 'acknowledgment                              ',\n",
       " 'shall be        ']"
      ]
     },
     "execution_count": 7,
     "metadata": {},
     "output_type": "execute_result"
    }
   ],
   "source": [
    "words = [\"What\",\"must\",\"be\",\"acknowledgment\",\"shall\",\"be\"]\n",
    "max_width = 16\n",
    "fullJustify(words, max_width) "
   ]
  },
  {
   "cell_type": "code",
   "execution_count": 8,
   "metadata": {},
   "outputs": [
    {
     "data": {
      "text/plain": [
       "['Science            is            what           we',\n",
       " 'understand                                  well',\n",
       " 'enough             to            explain            to',\n",
       " 'a            computer.            Art           is',\n",
       " 'everything                  else                  we',\n",
       " 'do                  ']"
      ]
     },
     "execution_count": 8,
     "metadata": {},
     "output_type": "execute_result"
    }
   ],
   "source": [
    "words = [\"Science\",\"is\",\"what\",\"we\",\"understand\",\"well\",\"enough\",\"to\",\"explain\",\"to\",\"a\",\"computer.\",\"Art\",\"is\",\"everything\",\"else\",\"we\",\"do\"]\n",
    "max_width = 20\n",
    "fullJustify(words, max_width)"
   ]
  },
  {
   "cell_type": "code",
   "execution_count": null,
   "metadata": {},
   "outputs": [],
   "source": []
  }
 ],
 "metadata": {
  "kernelspec": {
   "display_name": "Python 3.9.13 64-bit",
   "language": "python",
   "name": "python3"
  },
  "language_info": {
   "codemirror_mode": {
    "name": "ipython",
    "version": 3
   },
   "file_extension": ".py",
   "mimetype": "text/x-python",
   "name": "python",
   "nbconvert_exporter": "python",
   "pygments_lexer": "ipython3",
   "version": "3.9.13"
  },
  "orig_nbformat": 4,
  "vscode": {
   "interpreter": {
    "hash": "aee8b7b246df8f9039afb4144a1f6fd8d2ca17a180786b69acc140d282b71a49"
   }
  }
 },
 "nbformat": 4,
 "nbformat_minor": 2
}
