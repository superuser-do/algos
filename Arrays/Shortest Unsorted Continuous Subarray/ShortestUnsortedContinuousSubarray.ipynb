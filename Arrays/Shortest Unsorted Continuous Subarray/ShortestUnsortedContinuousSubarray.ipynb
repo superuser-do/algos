{
 "cells": [
  {
   "cell_type": "code",
   "execution_count": 1,
   "metadata": {},
   "outputs": [],
   "source": [
    "def findUnsortedSubarray(nums):\n",
    "    isSorted = True\n",
    "    start, end = float(\"-inf\"), float(\"inf\")\n",
    "    for i in range(1, len(nums)):\n",
    "        if nums[i] < nums[i-1]:\n",
    "            isSorted = False\n",
    "            end = min(nums[i], end)\n",
    "    isSorted = True\n",
    "    for i in range(len(nums)-2, 0, -1):\n",
    "        if nums[i] > nums[i+1]:\n",
    "            isSorted = False\n",
    "        if not isSorted:\n",
    "            start = max(start, nums[i])\n",
    "    \n",
    "    for l in range(len(nums)):\n",
    "        if end < nums[l]:\n",
    "            break\n",
    "    for r in range(len(nums)-1, 0, -1):\n",
    "        if start > nums[r]:\n",
    "            break\n",
    "    return r - l if r - l < 0 else r - l + 1"
   ]
  },
  {
   "cell_type": "code",
   "execution_count": 2,
   "metadata": {},
   "outputs": [
    {
     "data": {
      "text/plain": [
       "5"
      ]
     },
     "execution_count": 2,
     "metadata": {},
     "output_type": "execute_result"
    }
   ],
   "source": [
    "findUnsortedSubarray([2,6,4,8,10,9,15])"
   ]
  },
  {
   "cell_type": "code",
   "execution_count": null,
   "metadata": {},
   "outputs": [],
   "source": []
  }
 ],
 "metadata": {
  "kernelspec": {
   "display_name": "Python 3.8.1 64-bit ('3.8.1')",
   "language": "python",
   "name": "python3"
  },
  "language_info": {
   "codemirror_mode": {
    "name": "ipython",
    "version": 3
   },
   "file_extension": ".py",
   "mimetype": "text/x-python",
   "name": "python",
   "nbconvert_exporter": "python",
   "pygments_lexer": "ipython3",
   "version": "3.8.1"
  },
  "orig_nbformat": 4,
  "vscode": {
   "interpreter": {
    "hash": "375f31c95a1f71fff43a8c15a66b494e52edd6575b524e15991f1100f99ee6b3"
   }
  }
 },
 "nbformat": 4,
 "nbformat_minor": 2
}
