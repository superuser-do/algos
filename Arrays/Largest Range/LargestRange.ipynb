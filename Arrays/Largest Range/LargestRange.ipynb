{
 "cells": [
  {
   "cell_type": "code",
   "execution_count": 3,
   "metadata": {},
   "outputs": [],
   "source": [
    "def largestRange(array):\n",
    "    best_range = []\n",
    "    longest_lenghth = 0\n",
    "    seen = {}\n",
    "    for num in array:\n",
    "        seen[num] = True\n",
    "    for num in array:\n",
    "        if not seen[num]:\n",
    "            continue\n",
    "        seen[num] = False\n",
    "        current_length = 1\n",
    "        left = num - 1\n",
    "        right = num + 1\n",
    "        while left in seen:\n",
    "            seen[left] = False\n",
    "            current_length += 1\n",
    "            left -= 1\n",
    "        while right in seen:\n",
    "            seen[right] = False\n",
    "            current_length += 1\n",
    "            right += 1\n",
    "        if current_length > longest_lenghth:\n",
    "            longest_lenghth = current_length\n",
    "            best_range = [left+1, right-1]\n",
    "    return best_range"
   ]
  },
  {
   "cell_type": "code",
   "execution_count": 4,
   "metadata": {},
   "outputs": [
    {
     "data": {
      "text/plain": [
       "[2, 6]"
      ]
     },
     "execution_count": 4,
     "metadata": {},
     "output_type": "execute_result"
    }
   ],
   "source": [
    "largestRange([2, 3, 4, 5, 6])"
   ]
  },
  {
   "cell_type": "code",
   "execution_count": null,
   "metadata": {},
   "outputs": [],
   "source": []
  }
 ],
 "metadata": {
  "kernelspec": {
   "display_name": "Python 3.9.13 64-bit",
   "language": "python",
   "name": "python3"
  },
  "language_info": {
   "codemirror_mode": {
    "name": "ipython",
    "version": 3
   },
   "file_extension": ".py",
   "mimetype": "text/x-python",
   "name": "python",
   "nbconvert_exporter": "python",
   "pygments_lexer": "ipython3",
   "version": "3.9.13"
  },
  "orig_nbformat": 4,
  "vscode": {
   "interpreter": {
    "hash": "aee8b7b246df8f9039afb4144a1f6fd8d2ca17a180786b69acc140d282b71a49"
   }
  }
 },
 "nbformat": 4,
 "nbformat_minor": 2
}
