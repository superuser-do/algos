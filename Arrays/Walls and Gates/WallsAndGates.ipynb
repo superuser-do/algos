{
 "cells": [
  {
   "cell_type": "code",
   "execution_count": 29,
   "metadata": {},
   "outputs": [],
   "source": [
    "from collections import deque\n",
    "\n",
    "def wallsAndGates(rooms):\n",
    "    if not rooms:\n",
    "        return\n",
    "    \n",
    "    rows = len(rooms)\n",
    "    cols = len(rooms[0])\n",
    "\n",
    "    queue = []\n",
    "    for r in range(rows):\n",
    "        for c in range(cols):\n",
    "            if rooms[r][c] == 0:\n",
    "                queue.append((r, c))\n",
    "    while queue:\n",
    "        r, c = queue.pop(0)\n",
    "        print(r, c)\n",
    "        for x, y in [(-1, 0), (1, 0), (0, 1), (0, -1)]:\n",
    "            if 0 <= r+x < rows and 0 <= c+y < cols and rooms[r+x][c+y] > rooms[r][c]:\n",
    "                rooms[r+x][c+y] = rooms[r][c] + 1\n",
    "                queue.append((r+x, c+y))\n"
   ]
  },
  {
   "cell_type": "code",
   "execution_count": 30,
   "metadata": {},
   "outputs": [
    {
     "name": "stdout",
     "output_type": "stream",
     "text": [
      "0 2\n",
      "3 0\n",
      "1 2\n",
      "0 3\n",
      "2 0\n",
      "2 2\n",
      "1 1\n",
      "1 0\n",
      "3 2\n",
      "0 0\n",
      "3 3\n"
     ]
    }
   ],
   "source": [
    "wallsAndGates([[2147483647,-1,0,2147483647],[2147483647,2147483647,2147483647,-1],[2147483647,-1,2147483647,-1],[0,-1,2147483647,2147483647]])"
   ]
  },
  {
   "cell_type": "code",
   "execution_count": null,
   "metadata": {},
   "outputs": [],
   "source": []
  }
 ],
 "metadata": {
  "kernelspec": {
   "display_name": "Python 3.8.1 64-bit ('3.8.1')",
   "language": "python",
   "name": "python3"
  },
  "language_info": {
   "codemirror_mode": {
    "name": "ipython",
    "version": 3
   },
   "file_extension": ".py",
   "mimetype": "text/x-python",
   "name": "python",
   "nbconvert_exporter": "python",
   "pygments_lexer": "ipython3",
   "version": "3.8.1"
  },
  "orig_nbformat": 4,
  "vscode": {
   "interpreter": {
    "hash": "375f31c95a1f71fff43a8c15a66b494e52edd6575b524e15991f1100f99ee6b3"
   }
  }
 },
 "nbformat": 4,
 "nbformat_minor": 2
}
