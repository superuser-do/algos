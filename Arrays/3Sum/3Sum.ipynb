{
 "cells": [
  {
   "cell_type": "code",
   "execution_count": 41,
   "metadata": {},
   "outputs": [],
   "source": [
    "def threeSum(nums):\n",
    "    if len(nums) < 3:\n",
    "        return []\n",
    "\n",
    "    nums.sort()\n",
    "    triplets = list()\n",
    "\n",
    "    # len - 2 because first number has to be 3rd from end of array because we'll have two other numbers to sum with\n",
    "    for i in range(len(nums)-2):\n",
    "        left = i + 1\n",
    "        right = len(nums) - 1\n",
    "        while left < right:\n",
    "            currentSum = nums[i] + nums[right] + nums[left]\n",
    "            if currentSum == 0:\n",
    "                triplet = [nums[i], nums[right], nums[left]]\n",
    "                if triplet not in triplets:\n",
    "                    triplets.append(triplet)\n",
    "                left += 1\n",
    "            elif currentSum < 0:\n",
    "                left += 1\n",
    "            else:\n",
    "                right -= 1\n",
    "            \n",
    "    return triplets"
   ]
  },
  {
   "cell_type": "code",
   "execution_count": 42,
   "metadata": {},
   "outputs": [
    {
     "data": {
      "text/plain": [
       "[[-1, 2, -1], [-1, 1, 0]]"
      ]
     },
     "execution_count": 42,
     "metadata": {},
     "output_type": "execute_result"
    }
   ],
   "source": [
    "threeSum([-1,0,1,2,-1,-4])"
   ]
  },
  {
   "cell_type": "code",
   "execution_count": null,
   "metadata": {},
   "outputs": [],
   "source": []
  }
 ],
 "metadata": {
  "kernelspec": {
   "display_name": "Python 3.9.13 64-bit",
   "language": "python",
   "name": "python3"
  },
  "language_info": {
   "codemirror_mode": {
    "name": "ipython",
    "version": 3
   },
   "file_extension": ".py",
   "mimetype": "text/x-python",
   "name": "python",
   "nbconvert_exporter": "python",
   "pygments_lexer": "ipython3",
   "version": "3.9.13"
  },
  "orig_nbformat": 4,
  "vscode": {
   "interpreter": {
    "hash": "aee8b7b246df8f9039afb4144a1f6fd8d2ca17a180786b69acc140d282b71a49"
   }
  }
 },
 "nbformat": 4,
 "nbformat_minor": 2
}
