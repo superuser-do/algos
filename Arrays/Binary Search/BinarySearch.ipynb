{
 "cells": [
  {
   "cell_type": "code",
   "execution_count": 3,
   "metadata": {},
   "outputs": [],
   "source": [
    "def binary_search(array, target):\n",
    "    low = 0\n",
    "    high = len(array)-1\n",
    "\n",
    "    while low <= high:\n",
    "        mid = (high+low) // 2\n",
    "        if array[mid] < target:\n",
    "            low = mid + 1\n",
    "        elif array[mid] > target:\n",
    "            high = mid - 1\n",
    "        else:\n",
    "            return mid\n",
    "    \n",
    "    return -1"
   ]
  },
  {
   "cell_type": "code",
   "execution_count": 4,
   "metadata": {},
   "outputs": [
    {
     "name": "stdout",
     "output_type": "stream",
     "text": [
      "0\n",
      "8\n",
      "4\n",
      "-1\n"
     ]
    }
   ],
   "source": [
    "array = [1, 2, 3, 6, 8, 13, 113, 153, 200]\n",
    "print(binary_search(array, 1)) # 0\n",
    "print(binary_search(array, 200)) # 8\n",
    "print(binary_search(array, 8)) # 4\n",
    "print(binary_search(array, 154)) # -1"
   ]
  },
  {
   "cell_type": "code",
   "execution_count": null,
   "metadata": {},
   "outputs": [],
   "source": []
  }
 ],
 "metadata": {
  "kernelspec": {
   "display_name": "Python 3.9.13 64-bit",
   "language": "python",
   "name": "python3"
  },
  "language_info": {
   "codemirror_mode": {
    "name": "ipython",
    "version": 3
   },
   "file_extension": ".py",
   "mimetype": "text/x-python",
   "name": "python",
   "nbconvert_exporter": "python",
   "pygments_lexer": "ipython3",
   "version": "3.9.13"
  },
  "orig_nbformat": 4,
  "vscode": {
   "interpreter": {
    "hash": "aee8b7b246df8f9039afb4144a1f6fd8d2ca17a180786b69acc140d282b71a49"
   }
  }
 },
 "nbformat": 4,
 "nbformat_minor": 2
}
