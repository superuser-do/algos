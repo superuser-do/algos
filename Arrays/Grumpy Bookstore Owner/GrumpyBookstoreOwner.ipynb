{
 "cells": [
  {
   "cell_type": "code",
   "execution_count": 37,
   "metadata": {},
   "outputs": [],
   "source": [
    "def maxSatisfied(customers, grumpy, minutes):\n",
    "    rolling_sum = 0\n",
    "    for customer, is_grumpy in zip(customers, grumpy):\n",
    "        if is_grumpy == 0:\n",
    "            rolling_sum += customer\n",
    "    \n",
    "    for min in range(minutes):\n",
    "        if grumpy[min] != 0:\n",
    "            rolling_sum += customers[min]\n",
    "\n",
    "    max_customers = rolling_sum\n",
    "    print(max_customers)\n",
    "    i, j = 0, minutes\n",
    "    while j < len(customers):\n",
    "        if grumpy[j] != 0:\n",
    "            rolling_sum += customers[j]\n",
    "        if grumpy[i] != 0:\n",
    "            rolling_sum -= customers[i]\n",
    "\n",
    "        max_customers = max(max_customers, rolling_sum)\n",
    "        i += 1\n",
    "        j += 1\n",
    "    return max_customers"
   ]
  },
  {
   "cell_type": "code",
   "execution_count": 38,
   "metadata": {},
   "outputs": [
    {
     "name": "stdout",
     "output_type": "stream",
     "text": [
      "10\n"
     ]
    },
    {
     "data": {
      "text/plain": [
       "16"
      ]
     },
     "execution_count": 38,
     "metadata": {},
     "output_type": "execute_result"
    }
   ],
   "source": [
    "maxSatisfied([1,0,1,2,1,1,7,5], [0,1,0,1,0,1,0,1], 3)"
   ]
  },
  {
   "cell_type": "code",
   "execution_count": 35,
   "metadata": {},
   "outputs": [],
   "source": [
    "from typing import *\n",
    "def maxSatisfied( customers: List[int], grumpy: List[int], X: int) -> int:\n",
    "    # a sliding window approach\n",
    "    currsum = 0\n",
    "    # first store the sum as if the owner has no super power\n",
    "    for i in range(len(grumpy)):\n",
    "        if not grumpy[i]:\n",
    "            currsum += customers[i]\n",
    "    \n",
    "    # now assuming he has the power, take the first window \n",
    "    # and add to the previous sum\n",
    "    for i in range(X):\n",
    "        if grumpy[i]:\n",
    "            currsum += customers[i]\n",
    "    \n",
    "    maxsum = currsum\n",
    "    \n",
    "    # Now the sliding window starts\n",
    "    # i and j are the two opposite ends of the window\n",
    "    i = 0\n",
    "    j = X\n",
    "    while j < len(customers):\n",
    "        if grumpy[j]:\n",
    "            currsum += customers[j]\n",
    "        if grumpy[i]:\n",
    "            currsum -= customers[i]\n",
    "        # we subtract above as the window has already passed over that customer\n",
    "        if currsum > maxsum:\n",
    "            maxsum = currsum\n",
    "        i += 1\n",
    "        j += 1\n",
    "    return maxsum"
   ]
  },
  {
   "cell_type": "code",
   "execution_count": 36,
   "metadata": {},
   "outputs": [
    {
     "data": {
      "text/plain": [
       "16"
      ]
     },
     "execution_count": 36,
     "metadata": {},
     "output_type": "execute_result"
    }
   ],
   "source": [
    "maxSatisfied([1,0,1,2,1,1,7,5], [0,1,0,1,0,1,0,1], 3)"
   ]
  },
  {
   "cell_type": "code",
   "execution_count": null,
   "metadata": {},
   "outputs": [],
   "source": []
  }
 ],
 "metadata": {
  "kernelspec": {
   "display_name": "Python 3.8.1 64-bit ('3.8.1')",
   "language": "python",
   "name": "python3"
  },
  "language_info": {
   "codemirror_mode": {
    "name": "ipython",
    "version": 3
   },
   "file_extension": ".py",
   "mimetype": "text/x-python",
   "name": "python",
   "nbconvert_exporter": "python",
   "pygments_lexer": "ipython3",
   "version": "3.8.1"
  },
  "orig_nbformat": 4,
  "vscode": {
   "interpreter": {
    "hash": "375f31c95a1f71fff43a8c15a66b494e52edd6575b524e15991f1100f99ee6b3"
   }
  }
 },
 "nbformat": 4,
 "nbformat_minor": 2
}
