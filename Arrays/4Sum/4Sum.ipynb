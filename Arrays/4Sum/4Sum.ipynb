{
 "cells": [
  {
   "cell_type": "code",
   "execution_count": 35,
   "metadata": {},
   "outputs": [],
   "source": [
    "def fourSum(nums, target):\n",
    "    def ksum(k, start, target):\n",
    "        if k != 2:\n",
    "            for i in range(start, len(nums) - k + 1):         # must leave k+1 vals to set in quad\n",
    "                if i > start and nums[i] == nums[i-1]:       # avoid duplicates\n",
    "                    continue \n",
    "                \n",
    "                quad.append(nums[i])\n",
    "                ksum(k-1, i+1, target - nums[i])\n",
    "                quad.pop()\n",
    "            return \n",
    "        \n",
    "        l, r = start, len(nums)-1       # Base Case..... 2 sum problem\n",
    "        while l < r:\n",
    "            s = nums[l] + nums[r]\n",
    "            if s < target:\n",
    "                l += 1\n",
    "            elif s > target:\n",
    "                r -= 1\n",
    "            else:\n",
    "                res.append(quad + [nums[l], nums[r]])\n",
    "                l += 1\n",
    "                while l < r and nums[l] == nums[l-1]:\n",
    "                    l += 1\n",
    "                    \n",
    "    nums.sort()         \n",
    "    res, quad = [], []\n",
    "    ksum(4, 0, target)\n",
    "    return res"
   ]
  },
  {
   "cell_type": "code",
   "execution_count": 36,
   "metadata": {},
   "outputs": [
    {
     "data": {
      "text/plain": [
       "[[-3, -1, 1, 4], [-3, 1, 1, 2]]"
      ]
     },
     "execution_count": 36,
     "metadata": {},
     "output_type": "execute_result"
    }
   ],
   "source": [
    "fourSum([4, 1, 2, -1, 1, -3], 1)"
   ]
  },
  {
   "cell_type": "code",
   "execution_count": 37,
   "metadata": {},
   "outputs": [
    {
     "data": {
      "text/plain": [
       "[[-2, 0, 2, 2], [-1, 0, 1, 2]]"
      ]
     },
     "execution_count": 37,
     "metadata": {},
     "output_type": "execute_result"
    }
   ],
   "source": [
    "fourSum([2, 0, -1, 1, -2, 2], 2)"
   ]
  },
  {
   "cell_type": "code",
   "execution_count": null,
   "metadata": {},
   "outputs": [],
   "source": []
  }
 ],
 "metadata": {
  "kernelspec": {
   "display_name": "Python 3.8.1 64-bit ('3.8.1')",
   "language": "python",
   "name": "python3"
  },
  "language_info": {
   "codemirror_mode": {
    "name": "ipython",
    "version": 3
   },
   "file_extension": ".py",
   "mimetype": "text/x-python",
   "name": "python",
   "nbconvert_exporter": "python",
   "pygments_lexer": "ipython3",
   "version": "3.8.1"
  },
  "orig_nbformat": 4,
  "vscode": {
   "interpreter": {
    "hash": "375f31c95a1f71fff43a8c15a66b494e52edd6575b524e15991f1100f99ee6b3"
   }
  }
 },
 "nbformat": 4,
 "nbformat_minor": 2
}
