{
 "cells": [
  {
   "cell_type": "code",
   "execution_count": 1,
   "metadata": {},
   "outputs": [],
   "source": [
    "# A continuation byte is a byte that follows the starting byte of an n-byte sequence. \n",
    "# A continuation byte must start with 10. A non-continuation byte must start with either 0, 110, 1110, or 11110. \n",
    "# If a byte starts with 110 it means there must be 1 continuation byte that follows, 1110 -> 2 continuation bytes, \n",
    "# and 11110 -> 3 continuation bytes.\n",
    "def validUtf8(data):\n",
    "    # Keep track of how many continuation bytes are left\n",
    "    # Start at 0 since we are not expecting any continuation bytes at the beginning.\n",
    "    cont_bytes_left = 0\n",
    "    for byte in data:\n",
    "        if cont_bytes_left == 0:\n",
    "            # If we don't expect any continuation bytes\n",
    "            # then there are 4 valid case for the current byte\n",
    "            # byte >> 5 gives us the first 3 bits (8 bits - 5 = 3).\n",
    "            if byte >> 5 == 0b110:\n",
    "                # After seeing a byte that starts with 110,\n",
    "                # we expect to see one continuation byte\n",
    "                cont_bytes_left = 1\n",
    "            elif byte >> 4 == 0b1110:\n",
    "                cont_bytes_left = 2\n",
    "            elif byte >> 3 == 0b11110:\n",
    "                cont_bytes_left = 3\n",
    "            # finally if the first bit isn't 0 then it's invalid\n",
    "            elif byte >> 7 != 0:\n",
    "                return False\n",
    "        else:\n",
    "            # If we are expecting a continuation byte there is only one valid case.\n",
    "            # It's invalid if the continuation byte doesn't start with 10\n",
    "            if byte >> 6 != 0b10:\n",
    "                return False\n",
    "            cont_bytes_left -= 1\n",
    "    \n",
    "    # Only valid if we aren't expecting any more continuation bytes\n",
    "    return cont_bytes_left == 0"
   ]
  },
  {
   "cell_type": "code",
   "execution_count": 2,
   "metadata": {},
   "outputs": [
    {
     "data": {
      "text/plain": [
       "True"
      ]
     },
     "execution_count": 2,
     "metadata": {},
     "output_type": "execute_result"
    }
   ],
   "source": [
    "validUtf8([197, 130, 1])"
   ]
  },
  {
   "cell_type": "code",
   "execution_count": 3,
   "metadata": {},
   "outputs": [
    {
     "data": {
      "text/plain": [
       "False"
      ]
     },
     "execution_count": 3,
     "metadata": {},
     "output_type": "execute_result"
    }
   ],
   "source": [
    "validUtf8([235, 140, 4])"
   ]
  }
 ],
 "metadata": {
  "kernelspec": {
   "display_name": "Python 3.8.1 64-bit ('3.8.1')",
   "language": "python",
   "name": "python3"
  },
  "language_info": {
   "codemirror_mode": {
    "name": "ipython",
    "version": 3
   },
   "file_extension": ".py",
   "mimetype": "text/x-python",
   "name": "python",
   "nbconvert_exporter": "python",
   "pygments_lexer": "ipython3",
   "version": "3.8.1"
  },
  "orig_nbformat": 4,
  "vscode": {
   "interpreter": {
    "hash": "375f31c95a1f71fff43a8c15a66b494e52edd6575b524e15991f1100f99ee6b3"
   }
  }
 },
 "nbformat": 4,
 "nbformat_minor": 2
}
