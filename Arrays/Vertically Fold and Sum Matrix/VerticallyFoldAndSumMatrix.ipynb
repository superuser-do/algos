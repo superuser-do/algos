{
 "cells": [
  {
   "cell_type": "code",
   "execution_count": 37,
   "metadata": {},
   "outputs": [],
   "source": [
    "import math"
   ]
  },
  {
   "cell_type": "code",
   "execution_count": 35,
   "metadata": {},
   "outputs": [],
   "source": [
    "def compute_cell_distance(towers, customers):\n",
    "    index_tower, index_customer = 0, 0\n",
    "    cell_distance = 0\n",
    "\n",
    "    while index_customer < len(customers):\n",
    "        distance = math.inf\n",
    "        while index_tower < len(towers):\n",
    "            if towers[index_tower] <= customers[index_customer]:\n",
    "                distance = min(distance, customers[index_customer] - towers[index_tower])\n",
    "                index_tower += 1\n",
    "            else:\n",
    "                distance = min(distance, towers[index_tower] - customers[index_customer])\n",
    "                break\n",
    "        \n",
    "        cell_distance = max(cell_distance, distance)\n",
    "        index_customer += 1\n",
    "\n",
    "    return cell_distance"
   ]
  },
  {
   "cell_type": "code",
   "execution_count": 36,
   "metadata": {},
   "outputs": [
    {
     "data": {
      "text/plain": [
       "9"
      ]
     },
     "execution_count": 36,
     "metadata": {},
     "output_type": "execute_result"
    }
   ],
   "source": [
    "search([0,2,6,10], [0,5,11])"
   ]
  },
  {
   "cell_type": "code",
   "execution_count": null,
   "metadata": {},
   "outputs": [],
   "source": []
  }
 ],
 "metadata": {
  "kernelspec": {
   "display_name": "Python 3.9.13 64-bit",
   "language": "python",
   "name": "python3"
  },
  "language_info": {
   "codemirror_mode": {
    "name": "ipython",
    "version": 3
   },
   "file_extension": ".py",
   "mimetype": "text/x-python",
   "name": "python",
   "nbconvert_exporter": "python",
   "pygments_lexer": "ipython3",
   "version": "3.9.13"
  },
  "orig_nbformat": 4,
  "vscode": {
   "interpreter": {
    "hash": "aee8b7b246df8f9039afb4144a1f6fd8d2ca17a180786b69acc140d282b71a49"
   }
  }
 },
 "nbformat": 4,
 "nbformat_minor": 2
}
