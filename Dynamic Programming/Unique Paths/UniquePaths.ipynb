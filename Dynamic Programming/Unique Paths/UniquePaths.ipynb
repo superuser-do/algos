{
 "cells": [
  {
   "cell_type": "code",
   "execution_count": null,
   "metadata": {},
   "outputs": [],
   "source": [
    "def uniquePaths(m, n):\n",
    "    row = [1] * n\n",
    "\n",
    "    for i in range(m - 1):\n",
    "        newRow = [1] * n\n",
    "        for j in range(n - 2, -1, -1):\n",
    "            newRow[j] = newRow[j + 1] + row[j]\n",
    "        row = newRow\n",
    "    return row[0]"
   ]
  }
 ],
 "metadata": {
  "language_info": {
   "name": "python"
  },
  "orig_nbformat": 4
 },
 "nbformat": 4,
 "nbformat_minor": 2
}
