{
 "cells": [
  {
   "cell_type": "code",
   "execution_count": 24,
   "metadata": {},
   "outputs": [],
   "source": [
    "def interleavingString(s1, s2, s3):\n",
    "    if len(s1) + len(s2) != len(s3):\n",
    "        return False\n",
    "    \n",
    "    dp = [ [False] * (len(s2) + 1) for _ in range(len(s1) + 1)]\n",
    "    dp[len(s1)][len(s2)] = True\n",
    "\n",
    "    for i in range(len(s1), -1, -1):\n",
    "        for j in range(len(s2), -1, -1):\n",
    "            \n",
    "            if i < len(s1) and s1[i] == s3[i + j] and dp[i + 1][j]:\n",
    "                dp[i][j] = True\n",
    "            if j < len(s2) and s2[j] == s3[i + j] and dp[i][j + 1]:\n",
    "                dp[i][j] = True\n",
    "    \n",
    "    return dp[0][0]"
   ]
  },
  {
   "cell_type": "code",
   "execution_count": 25,
   "metadata": {},
   "outputs": [
    {
     "data": {
      "text/plain": [
       "True"
      ]
     },
     "execution_count": 25,
     "metadata": {},
     "output_type": "execute_result"
    }
   ],
   "source": [
    "interleavingString(\"algoexpert\", \"your-dream-job\", \"your-algodream-expertjob\")"
   ]
  },
  {
   "cell_type": "code",
   "execution_count": null,
   "metadata": {},
   "outputs": [],
   "source": []
  }
 ],
 "metadata": {
  "kernelspec": {
   "display_name": "Python 3.8.1 64-bit ('3.8.1')",
   "language": "python",
   "name": "python3"
  },
  "language_info": {
   "codemirror_mode": {
    "name": "ipython",
    "version": 3
   },
   "file_extension": ".py",
   "mimetype": "text/x-python",
   "name": "python",
   "nbconvert_exporter": "python",
   "pygments_lexer": "ipython3",
   "version": "3.8.1"
  },
  "orig_nbformat": 4,
  "vscode": {
   "interpreter": {
    "hash": "375f31c95a1f71fff43a8c15a66b494e52edd6575b524e15991f1100f99ee6b3"
   }
  }
 },
 "nbformat": 4,
 "nbformat_minor": 2
}
