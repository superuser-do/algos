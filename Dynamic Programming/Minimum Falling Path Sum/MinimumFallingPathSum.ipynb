{
 "cells": [
  {
   "cell_type": "code",
   "execution_count": 17,
   "metadata": {},
   "outputs": [],
   "source": [
    "def minFallingPathSum(matrix):\n",
    "    # bottom up dynamic programming\n",
    "    rows, cols = len(matrix), len(matrix[0])\n",
    "    dp = [[float('inf') for _ in range(cols)] for _ in range(rows)]\n",
    "    \n",
    "    for j in range(cols):\n",
    "        dp[0][j] = matrix[0][j]\n",
    "    print(dp)\n",
    "    for i in range(1, rows):\n",
    "        for j in range(cols):\n",
    "            \n",
    "            dp[i][j] = matrix[i][j] + dp[i-1][j]\n",
    "\n",
    "            if j-1 >= 0:\n",
    "                dp[i][j] = min((matrix[i][j] + dp[i-1][j-1]), dp[i][j])\n",
    "            \n",
    "            if j+1 < cols:\n",
    "                dp[i][j] = min((matrix[i][j] + dp[i-1][j+1]), dp[i][j])\n",
    "    return min(dp[-1])"
   ]
  },
  {
   "cell_type": "code",
   "execution_count": 18,
   "metadata": {},
   "outputs": [
    {
     "name": "stdout",
     "output_type": "stream",
     "text": [
      "[[2, 1, 3], [inf, inf, inf], [inf, inf, inf]]\n",
      "[[2, 1, 3], [inf, inf, inf], [inf, inf, inf]]\n",
      "[[2, 1, 3], [7, inf, inf], [inf, inf, inf]]\n",
      "[[2, 1, 3], [7, 6, inf], [inf, inf, inf]]\n",
      "[[2, 1, 3], [7, 6, 5], [inf, inf, inf]]\n",
      "[[2, 1, 3], [7, 6, 5], [13, inf, inf]]\n",
      "[[2, 1, 3], [7, 6, 5], [13, 13, inf]]\n"
     ]
    },
    {
     "data": {
      "text/plain": [
       "13"
      ]
     },
     "execution_count": 18,
     "metadata": {},
     "output_type": "execute_result"
    }
   ],
   "source": [
    "minFallingPathSum([[2,1,3],[6,5,4],[7,8,9]])"
   ]
  },
  {
   "cell_type": "code",
   "execution_count": null,
   "metadata": {},
   "outputs": [],
   "source": []
  }
 ],
 "metadata": {
  "kernelspec": {
   "display_name": "Python 3.8.1 64-bit ('3.8.1')",
   "language": "python",
   "name": "python3"
  },
  "language_info": {
   "codemirror_mode": {
    "name": "ipython",
    "version": 3
   },
   "file_extension": ".py",
   "mimetype": "text/x-python",
   "name": "python",
   "nbconvert_exporter": "python",
   "pygments_lexer": "ipython3",
   "version": "3.8.1"
  },
  "orig_nbformat": 4,
  "vscode": {
   "interpreter": {
    "hash": "375f31c95a1f71fff43a8c15a66b494e52edd6575b524e15991f1100f99ee6b3"
   }
  }
 },
 "nbformat": 4,
 "nbformat_minor": 2
}
