{
 "cells": [
  {
   "cell_type": "code",
   "execution_count": 3,
   "metadata": {},
   "outputs": [],
   "source": [
    "def combinationSum4(nums, target):\n",
    "    dp = {0: 1}\n",
    "\n",
    "    for total in range(1, target + 1):\n",
    "        dp[total] = 0\n",
    "        for n in nums:\n",
    "            dp[total] += dp.get(total - n, 0)\n",
    "    \n",
    "    return dp[target]"
   ]
  },
  {
   "cell_type": "code",
   "execution_count": 4,
   "metadata": {},
   "outputs": [
    {
     "data": {
      "text/plain": [
       "7"
      ]
     },
     "execution_count": 4,
     "metadata": {},
     "output_type": "execute_result"
    }
   ],
   "source": [
    "combinationSum4([1,2,3], 4)"
   ]
  },
  {
   "cell_type": "code",
   "execution_count": null,
   "metadata": {},
   "outputs": [],
   "source": []
  }
 ],
 "metadata": {
  "kernelspec": {
   "display_name": "Python 3.8.1 64-bit ('3.8.1')",
   "language": "python",
   "name": "python3"
  },
  "language_info": {
   "codemirror_mode": {
    "name": "ipython",
    "version": 3
   },
   "file_extension": ".py",
   "mimetype": "text/x-python",
   "name": "python",
   "nbconvert_exporter": "python",
   "pygments_lexer": "ipython3",
   "version": "3.8.1"
  },
  "orig_nbformat": 4,
  "vscode": {
   "interpreter": {
    "hash": "375f31c95a1f71fff43a8c15a66b494e52edd6575b524e15991f1100f99ee6b3"
   }
  }
 },
 "nbformat": 4,
 "nbformat_minor": 2
}
