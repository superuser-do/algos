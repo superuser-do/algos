{
 "cells": [
  {
   "cell_type": "code",
   "execution_count": 39,
   "metadata": {},
   "outputs": [],
   "source": [
    "def maximumSumIncreasingSubsequence(array):\n",
    "    memo = {}\n",
    "    def dfs(i):\n",
    "        if i == len(array) - 1:\n",
    "            return array[i], [array[i]]\n",
    "        if i in memo:\n",
    "            return memo[i]\n",
    "        num = array[i]\n",
    "        current_sum = num\n",
    "        items = [num]\n",
    "        for idx in range(i + 1, len(array)):\n",
    "            if num < array[idx]:\n",
    "                print(dfs(idx))\n",
    "                candidate_sum, candidate_items = dfs(idx)\n",
    "                if current_sum < candidate_sum + num:\n",
    "                    current_sum = candidate_sum + num\n",
    "                    items = [num] + candidate_items\n",
    "        memo[i] = current_sum, items\n",
    "        return memo[i]\n",
    "\n",
    "    max_value = float(\"-inf\")\n",
    "    result = None\n",
    "    for i in range(len(array)):\n",
    "        temp = dfs(i)\n",
    "        if temp[0] > max_value:\n",
    "            max_value = temp[0]\n",
    "            result = temp\n",
    "    return result"
   ]
  },
  {
   "cell_type": "code",
   "execution_count": 40,
   "metadata": {},
   "outputs": [
    {
     "name": "stdout",
     "output_type": "stream",
     "text": [
      "[10, 70, 20, 30, 50, 11, 30]\n",
      "(70, [70])\n",
      "(50, [50])\n",
      "(80, [30, 50])\n",
      "(50, [50])\n",
      "(30, [30])\n",
      "(100, [20, 30, 50])\n",
      "(80, [30, 50])\n",
      "(50, [50])\n",
      "(30, [30])\n",
      "(41, [11, 30])\n",
      "(30, [30])\n"
     ]
    },
    {
     "data": {
      "text/plain": [
       "(110, [10, 20, 30, 50])"
      ]
     },
     "execution_count": 40,
     "metadata": {},
     "output_type": "execute_result"
    }
   ],
   "source": [
    "maximumSumIncreasingSubsequence([10, 70, 20, 30, 50, 11, 30])"
   ]
  },
  {
   "cell_type": "code",
   "execution_count": null,
   "metadata": {},
   "outputs": [],
   "source": []
  }
 ],
 "metadata": {
  "kernelspec": {
   "display_name": "Python 3.8.1 64-bit ('3.8.1')",
   "language": "python",
   "name": "python3"
  },
  "language_info": {
   "codemirror_mode": {
    "name": "ipython",
    "version": 3
   },
   "file_extension": ".py",
   "mimetype": "text/x-python",
   "name": "python",
   "nbconvert_exporter": "python",
   "pygments_lexer": "ipython3",
   "version": "3.8.1"
  },
  "orig_nbformat": 4,
  "vscode": {
   "interpreter": {
    "hash": "375f31c95a1f71fff43a8c15a66b494e52edd6575b524e15991f1100f99ee6b3"
   }
  }
 },
 "nbformat": 4,
 "nbformat_minor": 2
}
