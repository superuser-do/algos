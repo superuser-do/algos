{
 "cells": [
  {
   "cell_type": "code",
   "execution_count": 1,
   "metadata": {},
   "outputs": [],
   "source": [
    "def maxProfit(k, prices):\n",
    "    if not prices:\n",
    "        return 0\n",
    "    dp = [0]*len(prices)\n",
    "\n",
    "    for t in range(k):\n",
    "        position = - prices[0]\n",
    "        profit = 0\n",
    "        for i in len(1, len(prices)):\n",
    "            posision = max(postion, dp[i]-prices[i])\n",
    "            profit = max(profit, position+prices[i])\n",
    "            dp[i] = profit\n",
    "    return dp[-1]"
   ]
  },
  {
   "cell_type": "code",
   "execution_count": 5,
   "metadata": {},
   "outputs": [],
   "source": [
    "def maxProfit(k, prices):\n",
    "    if k == 0: return 0\n",
    "    dp = [[float('inf'), 0] for _ in range(k+1)] # [(cost, profit)]\n",
    "    for price in prices:\n",
    "        for i in range(1, k+1):\n",
    "            # minimize the cost when buying - reinvest profit from previous transaction\n",
    "            dp[i][0] = min(dp[i][0], price-dp[i-1][1])\n",
    "            # maximize the profit when selling - use the minimum cost you incurred in the past\n",
    "            dp[i][1] = max(dp[i][1], price-dp[i][0])\n",
    "    return dp[-1][1]"
   ]
  },
  {
   "cell_type": "code",
   "execution_count": 6,
   "metadata": {},
   "outputs": [
    {
     "data": {
      "text/plain": [
       "2"
      ]
     },
     "execution_count": 6,
     "metadata": {},
     "output_type": "execute_result"
    }
   ],
   "source": [
    "maxProfit(2, [2,4,1])"
   ]
  },
  {
   "cell_type": "code",
   "execution_count": 7,
   "metadata": {},
   "outputs": [
    {
     "data": {
      "text/plain": [
       "7"
      ]
     },
     "execution_count": 7,
     "metadata": {},
     "output_type": "execute_result"
    }
   ],
   "source": [
    "maxProfit(2, [3,2,6,5,0,3])"
   ]
  },
  {
   "cell_type": "code",
   "execution_count": null,
   "metadata": {},
   "outputs": [],
   "source": []
  }
 ],
 "metadata": {
  "kernelspec": {
   "display_name": "Python 3.8.1 64-bit ('3.8.1')",
   "language": "python",
   "name": "python3"
  },
  "language_info": {
   "codemirror_mode": {
    "name": "ipython",
    "version": 3
   },
   "file_extension": ".py",
   "mimetype": "text/x-python",
   "name": "python",
   "nbconvert_exporter": "python",
   "pygments_lexer": "ipython3",
   "version": "3.8.1"
  },
  "orig_nbformat": 4,
  "vscode": {
   "interpreter": {
    "hash": "375f31c95a1f71fff43a8c15a66b494e52edd6575b524e15991f1100f99ee6b3"
   }
  }
 },
 "nbformat": 4,
 "nbformat_minor": 2
}
