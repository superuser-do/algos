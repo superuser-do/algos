{
 "cells": [
  {
   "cell_type": "code",
   "execution_count": 26,
   "metadata": {},
   "outputs": [],
   "source": [
    "# O(n + m) time | O(m) space\n",
    "def knuthMorrisPratt(string, substring):\n",
    "    pattern = buildPattern(substring)\n",
    "    return doesMatch(string, substring, pattern)\n",
    "\n",
    "def buildPattern(substring):\n",
    "    pattern = [-1 for _ in substring]\n",
    "    j = 0\n",
    "    i = 1\n",
    "    while i < len(substring):\n",
    "        if substring[i] == substring[j]:\n",
    "            pattern[i] = j\n",
    "            i += 1\n",
    "            j += 1\n",
    "        elif j > 0:\n",
    "            j = pattern[j - 1] + 1\n",
    "        else:\n",
    "            i += 1\n",
    "    return pattern\n",
    "\n",
    "def doesMatch(string, substring, pattern):\n",
    "    i = 0\n",
    "    j = 0\n",
    "    while i + len(substring) - j <= len(string):\n",
    "        if string[i] == substring[j]:\n",
    "            if j == len(substring) - 1:\n",
    "                return True\n",
    "            i += 1\n",
    "            j += 1\n",
    "        elif j > 0:\n",
    "            j = pattern[j - 1] + 1\n",
    "        else:\n",
    "            i += 1\n",
    "    return False\n"
   ]
  },
  {
   "cell_type": "code",
   "execution_count": 27,
   "metadata": {},
   "outputs": [
    {
     "data": {
      "text/plain": [
       "True"
      ]
     },
     "execution_count": 27,
     "metadata": {},
     "output_type": "execute_result"
    }
   ],
   "source": [
    "knuthMorrisPratt(\"aefoaefcdaefcdaed\", \"aefcdaed\")"
   ]
  },
  {
   "cell_type": "code",
   "execution_count": null,
   "metadata": {},
   "outputs": [],
   "source": []
  }
 ],
 "metadata": {
  "kernelspec": {
   "display_name": "Python 3.8.1 64-bit ('3.8.1')",
   "language": "python",
   "name": "python3"
  },
  "language_info": {
   "codemirror_mode": {
    "name": "ipython",
    "version": 3
   },
   "file_extension": ".py",
   "mimetype": "text/x-python",
   "name": "python",
   "nbconvert_exporter": "python",
   "pygments_lexer": "ipython3",
   "version": "3.8.1"
  },
  "orig_nbformat": 4,
  "vscode": {
   "interpreter": {
    "hash": "375f31c95a1f71fff43a8c15a66b494e52edd6575b524e15991f1100f99ee6b3"
   }
  }
 },
 "nbformat": 4,
 "nbformat_minor": 2
}
