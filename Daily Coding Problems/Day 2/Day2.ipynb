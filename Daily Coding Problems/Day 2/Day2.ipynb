{
 "cells": [
  {
   "cell_type": "code",
   "execution_count": 12,
   "metadata": {},
   "outputs": [],
   "source": [
    "def day2(nums):\n",
    "    prefix_products = []\n",
    "    for num in nums:\n",
    "        if prefix_products:\n",
    "            prefix_products.append(prefix_products[-1] * num)\n",
    "        else:\n",
    "            prefix_products.append(num)\n",
    "    \n",
    "    suffix_products = []\n",
    "    for num in reversed(nums):\n",
    "        if suffix_products:\n",
    "            suffix_products.append(suffix_products[-1] * num)\n",
    "        else:\n",
    "            suffix_products.append(num)\n",
    "    suffix_products = list(reversed(suffix_products))\n",
    "\n",
    "    result = []\n",
    "    for i in range(len(nums)):\n",
    "        if i == 0:\n",
    "            result.append(suffix_products[i + 1])\n",
    "        elif i == len(nums) - 1:\n",
    "            result.append(prefix_products[i - 1])\n",
    "        else:\n",
    "            result.append(prefix_products[i - 1] * suffix_products[i + 1])\n",
    "\n",
    "    return result"
   ]
  },
  {
   "cell_type": "code",
   "execution_count": 13,
   "metadata": {},
   "outputs": [
    {
     "data": {
      "text/plain": [
       "[120, 60, 40, 30, 24]"
      ]
     },
     "execution_count": 13,
     "metadata": {},
     "output_type": "execute_result"
    }
   ],
   "source": [
    "day2([1, 2, 3, 4, 5])"
   ]
  },
  {
   "cell_type": "code",
   "execution_count": 14,
   "metadata": {},
   "outputs": [
    {
     "data": {
      "text/plain": [
       "[2, 3, 6]"
      ]
     },
     "execution_count": 14,
     "metadata": {},
     "output_type": "execute_result"
    }
   ],
   "source": [
    "day2([3, 2, 1])"
   ]
  },
  {
   "cell_type": "code",
   "execution_count": null,
   "metadata": {},
   "outputs": [],
   "source": []
  }
 ],
 "metadata": {
  "kernelspec": {
   "display_name": "Python 3.9.13 64-bit",
   "language": "python",
   "name": "python3"
  },
  "language_info": {
   "codemirror_mode": {
    "name": "ipython",
    "version": 3
   },
   "file_extension": ".py",
   "mimetype": "text/x-python",
   "name": "python",
   "nbconvert_exporter": "python",
   "pygments_lexer": "ipython3",
   "version": "3.9.13"
  },
  "orig_nbformat": 4,
  "vscode": {
   "interpreter": {
    "hash": "aee8b7b246df8f9039afb4144a1f6fd8d2ca17a180786b69acc140d282b71a49"
   }
  }
 },
 "nbformat": 4,
 "nbformat_minor": 2
}
