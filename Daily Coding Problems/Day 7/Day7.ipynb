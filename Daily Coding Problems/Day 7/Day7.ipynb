{
 "cells": [
  {
   "cell_type": "code",
   "execution_count": 37,
   "metadata": {},
   "outputs": [],
   "source": [
    "from collections import defaultdict"
   ]
  },
  {
   "cell_type": "code",
   "execution_count": 42,
   "metadata": {},
   "outputs": [],
   "source": [
    "def day7(s):\n",
    "    # If the key doesn't exist, the defulatdict returns a value 0 on lookup\n",
    "    # cache[i] is the number of ways to encode substring s[i:]\n",
    "    cache = defaultdict(int)\n",
    "    cache[len(s)] = 1 # Empty string has 1 valid substring\n",
    "\n",
    "    for i in reversed(range(len(s))):\n",
    "        if s[i].startswith('0'):\n",
    "            cache[i] = 0\n",
    "        elif i == len(s) - 1:\n",
    "            cache[i] = 1\n",
    "        else:\n",
    "            if int(s[i:i + 2]) <= 26:\n",
    "                cache[i] = cache[i + 2]\n",
    "            cache[i] += cache[i + 1]\n",
    "    return cache[0]        "
   ]
  },
  {
   "cell_type": "code",
   "execution_count": 48,
   "metadata": {},
   "outputs": [
    {
     "data": {
      "text/plain": [
       "3"
      ]
     },
     "execution_count": 48,
     "metadata": {},
     "output_type": "execute_result"
    }
   ],
   "source": [
    "day7('111')"
   ]
  },
  {
   "cell_type": "code",
   "execution_count": null,
   "metadata": {},
   "outputs": [],
   "source": []
  }
 ],
 "metadata": {
  "kernelspec": {
   "display_name": "Python 3.9.13 64-bit",
   "language": "python",
   "name": "python3"
  },
  "language_info": {
   "codemirror_mode": {
    "name": "ipython",
    "version": 3
   },
   "file_extension": ".py",
   "mimetype": "text/x-python",
   "name": "python",
   "nbconvert_exporter": "python",
   "pygments_lexer": "ipython3",
   "version": "3.9.13"
  },
  "orig_nbformat": 4,
  "vscode": {
   "interpreter": {
    "hash": "aee8b7b246df8f9039afb4144a1f6fd8d2ca17a180786b69acc140d282b71a49"
   }
  }
 },
 "nbformat": 4,
 "nbformat_minor": 2
}
