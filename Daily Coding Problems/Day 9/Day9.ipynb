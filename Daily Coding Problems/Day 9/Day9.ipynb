{
 "cells": [
  {
   "cell_type": "code",
   "execution_count": 1,
   "metadata": {},
   "outputs": [],
   "source": [
    "def day9(arr):\n",
    "    if len(arr) <= 2:\n",
    "        return max(0, max(arr))\n",
    "\n",
    "    cache = [0 for i in arr]\n",
    "    cache[0] = max(0, arr[0])\n",
    "    cache[1] = max(cache[0], arr[1])\n",
    "\n",
    "    for i in range(2, len(arr)):\n",
    "        num = arr[i]\n",
    "        cache[i] = max(num + cache[i - 2], cache[i - 1])\n",
    "    return cache[-1]\n"
   ]
  },
  {
   "cell_type": "code",
   "execution_count": 2,
   "metadata": {},
   "outputs": [
    {
     "data": {
      "text/plain": [
       "13"
      ]
     },
     "execution_count": 2,
     "metadata": {},
     "output_type": "execute_result"
    }
   ],
   "source": [
    "day9([2, 4, 6, 2, 5])"
   ]
  },
  {
   "cell_type": "code",
   "execution_count": 3,
   "metadata": {},
   "outputs": [
    {
     "data": {
      "text/plain": [
       "10"
      ]
     },
     "execution_count": 3,
     "metadata": {},
     "output_type": "execute_result"
    }
   ],
   "source": [
    "day9([5, 1, 1, 5])"
   ]
  },
  {
   "cell_type": "code",
   "execution_count": 8,
   "metadata": {},
   "outputs": [],
   "source": [
    "# only the last two elements of cache are used when iterating through arr\n",
    "\n",
    "def day9(arr):\n",
    "    if len(arr) <= 2:\n",
    "        return max(0, max(arr))\n",
    "    \n",
    "    max_excluding_last = max(0, arr[0])\n",
    "    max_including_last = max(max_excluding_last, arr[1])\n",
    "\n",
    "    for num in arr[2:]:\n",
    "        prev_max_including_last = max_including_last\n",
    "\n",
    "        max_including_last = max(max_including_last, max_excluding_last + num)\n",
    "        max_excluding_last = prev_max_including_last\n",
    "\n",
    "    return max(max_including_last, max_excluding_last)"
   ]
  },
  {
   "cell_type": "code",
   "execution_count": 9,
   "metadata": {},
   "outputs": [
    {
     "data": {
      "text/plain": [
       "13"
      ]
     },
     "execution_count": 9,
     "metadata": {},
     "output_type": "execute_result"
    }
   ],
   "source": [
    "day9([2, 4, 6, 2, 5])"
   ]
  },
  {
   "cell_type": "code",
   "execution_count": 10,
   "metadata": {},
   "outputs": [
    {
     "data": {
      "text/plain": [
       "10"
      ]
     },
     "execution_count": 10,
     "metadata": {},
     "output_type": "execute_result"
    }
   ],
   "source": [
    "day9([5, 1, 1, 5])"
   ]
  },
  {
   "cell_type": "code",
   "execution_count": null,
   "metadata": {},
   "outputs": [],
   "source": []
  }
 ],
 "metadata": {
  "kernelspec": {
   "display_name": "Python 3.9.13 64-bit",
   "language": "python",
   "name": "python3"
  },
  "language_info": {
   "codemirror_mode": {
    "name": "ipython",
    "version": 3
   },
   "file_extension": ".py",
   "mimetype": "text/x-python",
   "name": "python",
   "nbconvert_exporter": "python",
   "pygments_lexer": "ipython3",
   "version": "3.9.13"
  },
  "orig_nbformat": 4,
  "vscode": {
   "interpreter": {
    "hash": "aee8b7b246df8f9039afb4144a1f6fd8d2ca17a180786b69acc140d282b71a49"
   }
  }
 },
 "nbformat": 4,
 "nbformat_minor": 2
}
