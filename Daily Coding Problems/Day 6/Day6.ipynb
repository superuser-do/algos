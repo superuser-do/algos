{
 "cells": [
  {
   "cell_type": "code",
   "execution_count": 7,
   "metadata": {},
   "outputs": [],
   "source": [
    "import ctypes"
   ]
  },
  {
   "cell_type": "code",
   "execution_count": null,
   "metadata": {},
   "outputs": [],
   "source": [
    "class Node(object):\n",
    "    def __init(self, value):\n",
    "        self.value = value\n",
    "        self.both = 0"
   ]
  },
  {
   "cell_type": "code",
   "execution_count": 6,
   "metadata": {},
   "outputs": [],
   "source": [
    "class XORLinkedList(object):\n",
    "    def __init__(self):\n",
    "        self.head = self.tail = None\n",
    "        self.__nodes = []\n",
    "\n",
    "    def add(self, node):\n",
    "        if not head:\n",
    "            self.head = self.tail = node\n",
    "        else:\n",
    "            self.tail.both = id(node) ^ self.tail.both\n",
    "            node.both = id(self.tail)\n",
    "            self.tail = node\n",
    "\n",
    "        self.__nodes.append(node)\n",
    "\n",
    "    def get(self, index):\n",
    "        prev_id = 0\n",
    "        node = self.head\n",
    "        for i in range(index):\n",
    "            next_id = prev_id ^ node.both\n",
    "\n",
    "            if next_id:\n",
    "                prev_id = id(node)\n",
    "                node = _get_obj(next_id)\n",
    "            else:\n",
    "                raise IndexError(\"Linked list index out of range\")\n",
    "\n",
    "        return node\n",
    "\n",
    "    def _get_obj(id):\n",
    "        return ctypes.cast(id, ctypes.py_object).value"
   ]
  },
  {
   "cell_type": "code",
   "execution_count": null,
   "metadata": {},
   "outputs": [],
   "source": []
  }
 ],
 "metadata": {
  "kernelspec": {
   "display_name": "Python 3.9.13 64-bit",
   "language": "python",
   "name": "python3"
  },
  "language_info": {
   "codemirror_mode": {
    "name": "ipython",
    "version": 3
   },
   "file_extension": ".py",
   "mimetype": "text/x-python",
   "name": "python",
   "nbconvert_exporter": "python",
   "pygments_lexer": "ipython3",
   "version": "3.9.13"
  },
  "orig_nbformat": 4,
  "vscode": {
   "interpreter": {
    "hash": "aee8b7b246df8f9039afb4144a1f6fd8d2ca17a180786b69acc140d282b71a49"
   }
  }
 },
 "nbformat": 4,
 "nbformat_minor": 2
}
