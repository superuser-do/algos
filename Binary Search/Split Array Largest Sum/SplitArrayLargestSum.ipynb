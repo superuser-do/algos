{
 "cells": [
  {
   "cell_type": "code",
   "execution_count": 6,
   "metadata": {},
   "outputs": [],
   "source": [
    "def splitArray(nums, m):\n",
    "    def canSplit(largest):\n",
    "        subarray = 0\n",
    "        currentSum = 0\n",
    "        for num in nums:\n",
    "            currentSum += num\n",
    "            if currentSum > largest:\n",
    "                subarray += 1\n",
    "                currentSum = num\n",
    "        return subarray + 1 <= m\n",
    "    \n",
    "    left, right = max(nums), sum(nums)\n",
    "    result = right\n",
    "    while left <= right:\n",
    "        mid = left + ((right - left) // 2)\n",
    "        if canSplit(mid):\n",
    "            result = mid\n",
    "            right = mid - 1\n",
    "        else:\n",
    "            left = mid + 1\n",
    "    return result"
   ]
  },
  {
   "cell_type": "code",
   "execution_count": 7,
   "metadata": {},
   "outputs": [
    {
     "data": {
      "text/plain": [
       "18"
      ]
     },
     "execution_count": 7,
     "metadata": {},
     "output_type": "execute_result"
    }
   ],
   "source": [
    "splitArray([7,2,5,10,8], 2)"
   ]
  },
  {
   "cell_type": "code",
   "execution_count": 8,
   "metadata": {},
   "outputs": [],
   "source": [
    "def splitArray(nums, m):\n",
    "    dp = {}\n",
    "\n",
    "    def dfs(i, m):\n",
    "        if m == 1:\n",
    "            return sum(nums[i:])\n",
    "        if (i, m) in dp:\n",
    "            return dp[(i, m)]\n",
    "        result, currentSum = float(\"inf\"), 0\n",
    "        for j in range(i, len(nums) - m + 1):\n",
    "            currentSum += nums[j]\n",
    "            maxSum = max(currentSum, dfs(j+1, m-1))\n",
    "            result = min(result, maxSum)\n",
    "            if currentSum > result:\n",
    "                break\n",
    "\n",
    "        dp[(i, m)] = result\n",
    "        return result\n",
    "    \n",
    "    return dfs(0, m)\n"
   ]
  },
  {
   "cell_type": "code",
   "execution_count": 9,
   "metadata": {},
   "outputs": [
    {
     "data": {
      "text/plain": [
       "18"
      ]
     },
     "execution_count": 9,
     "metadata": {},
     "output_type": "execute_result"
    }
   ],
   "source": [
    "splitArray([7,2,5,10,8], 2)"
   ]
  },
  {
   "cell_type": "code",
   "execution_count": null,
   "metadata": {},
   "outputs": [],
   "source": []
  }
 ],
 "metadata": {
  "kernelspec": {
   "display_name": "Python 3.8.1 64-bit ('3.8.1')",
   "language": "python",
   "name": "python3"
  },
  "language_info": {
   "codemirror_mode": {
    "name": "ipython",
    "version": 3
   },
   "file_extension": ".py",
   "mimetype": "text/x-python",
   "name": "python",
   "nbconvert_exporter": "python",
   "pygments_lexer": "ipython3",
   "version": "3.8.1"
  },
  "orig_nbformat": 4,
  "vscode": {
   "interpreter": {
    "hash": "375f31c95a1f71fff43a8c15a66b494e52edd6575b524e15991f1100f99ee6b3"
   }
  }
 },
 "nbformat": 4,
 "nbformat_minor": 2
}
