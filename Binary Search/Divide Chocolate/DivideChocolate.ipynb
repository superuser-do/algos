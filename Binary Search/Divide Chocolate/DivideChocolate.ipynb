{
 "cells": [
  {
   "cell_type": "code",
   "execution_count": 1,
   "metadata": {},
   "outputs": [],
   "source": [
    "def maximizeSweetness(sweetness, k):\n",
    "    number_of_people = k + 1\n",
    "    left = min(sweetness)\n",
    "    right = sum(sweetness) // number_of_people\n",
    "    \n",
    "    while left < right:\n",
    "        # Get the middle index between left and right boundary indexes.\n",
    "        # cur_sweetness stands for the total sweetness for the current person.\n",
    "        # people_with_chocolate stands for the number of people that have \n",
    "        # a piece of chocolate of sweetness greater than or equal to mid.\n",
    "        mid = (left + right + 1) // 2\n",
    "        cur_sweetness = 0\n",
    "        people_with_chocolate = 0\n",
    "\n",
    "        # Start assigning chunks to the current person\n",
    "        for s in sweetness:\n",
    "            cur_sweetness += s\n",
    "\n",
    "            # If the total sweetness is no less than mid, this means we can break off\n",
    "            # the current piece and move on to assigning chunks to the next person.\n",
    "            if cur_sweetness >= mid:\n",
    "                people_with_chocolate += 1\n",
    "                cur_sweetness = 0\n",
    "\n",
    "        if people_with_chocolate >= k + 1:\n",
    "            left = mid\n",
    "        else:\n",
    "            right = mid - 1\n",
    "\n",
    "    return right"
   ]
  },
  {
   "cell_type": "code",
   "execution_count": 2,
   "metadata": {},
   "outputs": [
    {
     "data": {
      "text/plain": [
       "6"
      ]
     },
     "execution_count": 2,
     "metadata": {},
     "output_type": "execute_result"
    }
   ],
   "source": [
    "maximizeSweetness([1,2,3,4,5,6,7,8,9], 5)"
   ]
  },
  {
   "cell_type": "code",
   "execution_count": 3,
   "metadata": {},
   "outputs": [
    {
     "data": {
      "text/plain": [
       "1"
      ]
     },
     "execution_count": 3,
     "metadata": {},
     "output_type": "execute_result"
    }
   ],
   "source": [
    "maximizeSweetness([5,6,7,8,9,1,2,3,4], 8)"
   ]
  },
  {
   "cell_type": "code",
   "execution_count": 4,
   "metadata": {},
   "outputs": [
    {
     "data": {
      "text/plain": [
       "5"
      ]
     },
     "execution_count": 4,
     "metadata": {},
     "output_type": "execute_result"
    }
   ],
   "source": [
    "maximizeSweetness([1,2,2,1,2,2,1,2,2], 2)"
   ]
  },
  {
   "cell_type": "code",
   "execution_count": null,
   "metadata": {},
   "outputs": [],
   "source": []
  }
 ],
 "metadata": {
  "kernelspec": {
   "display_name": "Python 3.8.1 64-bit ('3.8.1')",
   "language": "python",
   "name": "python3"
  },
  "language_info": {
   "codemirror_mode": {
    "name": "ipython",
    "version": 3
   },
   "file_extension": ".py",
   "mimetype": "text/x-python",
   "name": "python",
   "nbconvert_exporter": "python",
   "pygments_lexer": "ipython3",
   "version": "3.8.1"
  },
  "orig_nbformat": 4,
  "vscode": {
   "interpreter": {
    "hash": "375f31c95a1f71fff43a8c15a66b494e52edd6575b524e15991f1100f99ee6b3"
   }
  }
 },
 "nbformat": 4,
 "nbformat_minor": 2
}
