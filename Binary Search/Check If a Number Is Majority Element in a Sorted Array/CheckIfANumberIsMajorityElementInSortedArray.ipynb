{
 "cells": [
  {
   "cell_type": "code",
   "execution_count": 27,
   "metadata": {},
   "outputs": [],
   "source": [
    "def isMajorityElement(nums, target):\n",
    "    # LC: [#34](https://leetcode.com/problems/find-first-and-last-position-of-element-in-sorted-array) Find First and Last Position of Element in Sorted Array\n",
    "    def findFirstAndLastOccurrence(nums, target):\n",
    "        left, right = -1, -1\n",
    "        start, end = 0, len(nums)-1\n",
    "        while start + 1 < end:\n",
    "            mid = (start + end) // 2\n",
    "            if nums[mid] == target:\n",
    "                start = mid\n",
    "            else:\n",
    "                end = mid\n",
    "        if nums[start] == target:\n",
    "            right = start\n",
    "        if nums[end] == target:\n",
    "            right = end\n",
    "        \n",
    "        start, end = 0, len(nums)-1\n",
    "        while start + 1 < end:\n",
    "            mid = (start + end) // 2\n",
    "            if nums[mid] >= target:\n",
    "                end = mid\n",
    "            else:\n",
    "                start = mid\n",
    "        print(nums[end], nums[start])\n",
    "        if nums[end] == target:\n",
    "            left = end\n",
    "        if nums[start] == target:\n",
    "            left = start\n",
    "        return [left, right]\n",
    "\n",
    "    N = len(nums)\n",
    "    if nums[N//2] != target:\n",
    "        return False\n",
    "    first, last = findFirstAndLastOccurrence(nums, target)\n",
    "    return (last - first + 1) > len(nums) // 2\n"
   ]
  },
  {
   "cell_type": "code",
   "execution_count": 26,
   "metadata": {},
   "outputs": [
    {
     "name": "stdout",
     "output_type": "stream",
     "text": [
      "5 4\n",
      "2 6\n"
     ]
    },
    {
     "data": {
      "text/plain": [
       "True"
      ]
     },
     "execution_count": 26,
     "metadata": {},
     "output_type": "execute_result"
    }
   ],
   "source": [
    "isMajorityElement([2,4,5,5,5,5,5,6,6], 5)"
   ]
  },
  {
   "cell_type": "code",
   "execution_count": 8,
   "metadata": {},
   "outputs": [
    {
     "data": {
      "text/plain": [
       "False"
      ]
     },
     "execution_count": 8,
     "metadata": {},
     "output_type": "execute_result"
    }
   ],
   "source": [
    "isMajorityElement([10,100,101,101], 101)"
   ]
  },
  {
   "cell_type": "code",
   "execution_count": null,
   "metadata": {},
   "outputs": [],
   "source": []
  }
 ],
 "metadata": {
  "kernelspec": {
   "display_name": "Python 3.8.1 64-bit ('3.8.1')",
   "language": "python",
   "name": "python3"
  },
  "language_info": {
   "codemirror_mode": {
    "name": "ipython",
    "version": 3
   },
   "file_extension": ".py",
   "mimetype": "text/x-python",
   "name": "python",
   "nbconvert_exporter": "python",
   "pygments_lexer": "ipython3",
   "version": "3.8.1"
  },
  "orig_nbformat": 4,
  "vscode": {
   "interpreter": {
    "hash": "375f31c95a1f71fff43a8c15a66b494e52edd6575b524e15991f1100f99ee6b3"
   }
  }
 },
 "nbformat": 4,
 "nbformat_minor": 2
}
