{
 "cells": [
  {
   "cell_type": "code",
   "execution_count": 23,
   "metadata": {},
   "outputs": [],
   "source": [
    "def countSmaller(nums):\n",
    "    sorted_nums = []\n",
    "    result = []\n",
    "    def find_index(target):\n",
    "        if len(sorted_nums) == 0: return 0\n",
    "        if sorted_nums[-1] < target: return len(sorted_nums)\n",
    "        left, right = 0, len(sorted_nums) - 1\n",
    "        while left+1 <= right:\n",
    "            mid = left + ((right-left)//2)\n",
    "            if sorted_nums[mid] < target:\n",
    "                left = mid + 1\n",
    "            else:\n",
    "                right = mid - 1\n",
    "        if sorted_nums[left] >= target: return left\n",
    "        return left + 1\n",
    "\n",
    "    for num in reversed(nums):\n",
    "        index = find_index(num)\n",
    "        sorted_nums.insert(index, num)\n",
    "        result.append(index)\n",
    "    return list(reversed(result))\n"
   ]
  },
  {
   "cell_type": "code",
   "execution_count": 24,
   "metadata": {},
   "outputs": [
    {
     "data": {
      "text/plain": [
       "[2, 1, 1, 0]"
      ]
     },
     "execution_count": 24,
     "metadata": {},
     "output_type": "execute_result"
    }
   ],
   "source": [
    "countSmaller([5,2,6,1])"
   ]
  },
  {
   "cell_type": "code",
   "execution_count": null,
   "metadata": {},
   "outputs": [],
   "source": []
  }
 ],
 "metadata": {
  "kernelspec": {
   "display_name": "Python 3.8.1 64-bit ('3.8.1')",
   "language": "python",
   "name": "python3"
  },
  "language_info": {
   "codemirror_mode": {
    "name": "ipython",
    "version": 3
   },
   "file_extension": ".py",
   "mimetype": "text/x-python",
   "name": "python",
   "nbconvert_exporter": "python",
   "pygments_lexer": "ipython3",
   "version": "3.8.1"
  },
  "orig_nbformat": 4,
  "vscode": {
   "interpreter": {
    "hash": "375f31c95a1f71fff43a8c15a66b494e52edd6575b524e15991f1100f99ee6b3"
   }
  }
 },
 "nbformat": 4,
 "nbformat_minor": 2
}
