{
 "cells": [
  {
   "cell_type": "code",
   "execution_count": 2,
   "metadata": {},
   "outputs": [],
   "source": [
    "import os, sys\n",
    "sys.path.append(os.path.dirname(os.path.dirname(os.path.abspath(\"\"))))\n",
    "from Helpers import *\n",
    "import math"
   ]
  },
  {
   "cell_type": "code",
   "execution_count": 23,
   "metadata": {},
   "outputs": [],
   "source": [
    "def chunkSegments(head, k):\n",
    "    result = []\n",
    "    \n",
    "    while head:\n",
    "        result.append(head.value)\n",
    "        head = head.next\n",
    "\n",
    "    n = len(result)\n",
    "    output = []\n",
    "    idx = 0\n",
    "\n",
    "    while k:\n",
    "        length = math.ceil(n/k)\n",
    "        n -= length\n",
    "        k -= 1\n",
    "        newHead = ListNode(None)\n",
    "        ll = newHead\n",
    "        for j in range(length):\n",
    "            ll.next = ListNode(result[idx])\n",
    "            ll = ll.next\n",
    "            idx += 1\n",
    "        output.append(newHead.next)\n",
    "    for i in output:\n",
    "        if i:\n",
    "            if type(i) == list:\n",
    "                for j in i:\n",
    "                    print(j.value)\n",
    "            print(i.value)\n",
    "        else:\n",
    "            print(i)\n",
    "    return output\n"
   ]
  },
  {
   "cell_type": "code",
   "execution_count": 24,
   "metadata": {},
   "outputs": [
    {
     "name": "stdout",
     "output_type": "stream",
     "text": [
      "1\n",
      "2\n",
      "3\n",
      "4\n",
      "5\n"
     ]
    },
    {
     "data": {
      "text/plain": [
       "[<Helpers.ListNode at 0x10a217f10>,\n",
       " <Helpers.ListNode at 0x10a2178e0>,\n",
       " <Helpers.ListNode at 0x10a217f40>,\n",
       " <Helpers.ListNode at 0x10a217070>,\n",
       " <Helpers.ListNode at 0x10a217be0>]"
      ]
     },
     "execution_count": 24,
     "metadata": {},
     "output_type": "execute_result"
    }
   ],
   "source": [
    "ll = ListNode(1, ListNode(2, ListNode(3, ListNode(4, ListNode(5)))))\n",
    "chunkSegments(ll, 5)"
   ]
  },
  {
   "cell_type": "code",
   "execution_count": 25,
   "metadata": {},
   "outputs": [
    {
     "name": "stdout",
     "output_type": "stream",
     "text": [
      "1\n",
      "2\n",
      "3\n",
      "None\n",
      "None\n"
     ]
    },
    {
     "data": {
      "text/plain": [
       "[<Helpers.ListNode at 0x10a2170d0>,\n",
       " <Helpers.ListNode at 0x10a217520>,\n",
       " <Helpers.ListNode at 0x10a217b20>,\n",
       " None,\n",
       " None]"
      ]
     },
     "execution_count": 25,
     "metadata": {},
     "output_type": "execute_result"
    }
   ],
   "source": [
    "ll = ListNode(1, ListNode(2, ListNode(3)))\n",
    "chunkSegments(ll, 5)"
   ]
  },
  {
   "cell_type": "code",
   "execution_count": 26,
   "metadata": {},
   "outputs": [
    {
     "name": "stdout",
     "output_type": "stream",
     "text": [
      "2\n",
      "5\n",
      "8\n"
     ]
    },
    {
     "data": {
      "text/plain": [
       "[<Helpers.ListNode at 0x10a217760>,\n",
       " <Helpers.ListNode at 0x10a203550>,\n",
       " <Helpers.ListNode at 0x10a2175b0>]"
      ]
     },
     "execution_count": 26,
     "metadata": {},
     "output_type": "execute_result"
    }
   ],
   "source": [
    "ll = ListNode(2, ListNode(2, ListNode(3, ListNode(4, ListNode(5, ListNode(6, ListNode(4, ListNode(8, ListNode(9, ListNode(10))))))))))\n",
    "chunkSegments(ll, 3)"
   ]
  },
  {
   "cell_type": "code",
   "execution_count": null,
   "metadata": {},
   "outputs": [],
   "source": []
  }
 ],
 "metadata": {
  "kernelspec": {
   "display_name": "Python 3.8.1 64-bit ('3.8.1')",
   "language": "python",
   "name": "python3"
  },
  "language_info": {
   "codemirror_mode": {
    "name": "ipython",
    "version": 3
   },
   "file_extension": ".py",
   "mimetype": "text/x-python",
   "name": "python",
   "nbconvert_exporter": "python",
   "pygments_lexer": "ipython3",
   "version": "3.8.1"
  },
  "orig_nbformat": 4,
  "vscode": {
   "interpreter": {
    "hash": "375f31c95a1f71fff43a8c15a66b494e52edd6575b524e15991f1100f99ee6b3"
   }
  }
 },
 "nbformat": 4,
 "nbformat_minor": 2
}
