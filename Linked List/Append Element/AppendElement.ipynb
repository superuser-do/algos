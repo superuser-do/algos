{
 "cells": [
  {
   "cell_type": "code",
   "execution_count": 12,
   "metadata": {},
   "outputs": [],
   "source": [
    "import os, sys\n",
    "sys.path.append(os.path.dirname(os.path.dirname(os.path.abspath(\"\"))))\n",
    "from ListNode import *\n",
    "from arrayify import *\n"
   ]
  },
  {
   "cell_type": "code",
   "execution_count": 13,
   "metadata": {},
   "outputs": [],
   "source": [
    "def append_iterative(head, target):\n",
    "    if not head:\n",
    "        return ListNode(target)\n",
    "    current = head\n",
    "    while current.next:\n",
    "        current = current.next\n",
    "    current.next = ListNode(target)\n",
    "    return head"
   ]
  },
  {
   "cell_type": "code",
   "execution_count": 15,
   "metadata": {},
   "outputs": [
    {
     "name": "stdout",
     "output_type": "stream",
     "text": [
      "[1]\n",
      "[1, 4, 5, 7]\n",
      "[0, 7]\n"
     ]
    }
   ],
   "source": [
    "LL1 = ListNode(1, ListNode(4, ListNode(5)))\n",
    "print(arrayify(append_iterative(None, 1)))\n",
    "print(arrayify(append_iterative(LL1, 7)))\n",
    "print(arrayify(append_iterative(ListNode(), 7)))"
   ]
  },
  {
   "cell_type": "code",
   "execution_count": 16,
   "metadata": {},
   "outputs": [],
   "source": [
    "def append_recursive(head, target):\n",
    "    current = head\n",
    "    if not current:\n",
    "        current = ListNode(target)\n",
    "    else:\n",
    "        current.next = append_recursive(current.next, target)\n",
    "    return current"
   ]
  },
  {
   "cell_type": "code",
   "execution_count": 17,
   "metadata": {},
   "outputs": [
    {
     "name": "stdout",
     "output_type": "stream",
     "text": [
      "[1]\n",
      "[1, 4, 5, 7]\n",
      "[0, 7]\n"
     ]
    }
   ],
   "source": [
    "LL1 = ListNode(1, ListNode(4, ListNode(5)))\n",
    "print(arrayify(append_recursive(None, 1)))\n",
    "print(arrayify(append_recursive(LL1, 7)))\n",
    "print(arrayify(append_recursive(ListNode(), 7)))"
   ]
  },
  {
   "cell_type": "code",
   "execution_count": null,
   "metadata": {},
   "outputs": [],
   "source": []
  }
 ],
 "metadata": {
  "kernelspec": {
   "display_name": "Python 3.9.13 64-bit",
   "language": "python",
   "name": "python3"
  },
  "language_info": {
   "codemirror_mode": {
    "name": "ipython",
    "version": 3
   },
   "file_extension": ".py",
   "mimetype": "text/x-python",
   "name": "python",
   "nbconvert_exporter": "python",
   "pygments_lexer": "ipython3",
   "version": "3.9.13"
  },
  "orig_nbformat": 4,
  "vscode": {
   "interpreter": {
    "hash": "aee8b7b246df8f9039afb4144a1f6fd8d2ca17a180786b69acc140d282b71a49"
   }
  }
 },
 "nbformat": 4,
 "nbformat_minor": 2
}
