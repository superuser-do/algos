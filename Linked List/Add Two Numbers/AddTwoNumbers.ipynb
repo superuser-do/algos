{
 "cells": [
  {
   "cell_type": "code",
   "execution_count": 16,
   "metadata": {},
   "outputs": [],
   "source": [
    "import os, sys\n",
    "sys.path.append(os.path.dirname(os.path.dirname(os.path.abspath(\"\"))))\n",
    "from Helpers import *"
   ]
  },
  {
   "cell_type": "code",
   "execution_count": 31,
   "metadata": {},
   "outputs": [],
   "source": [
    "def addTwoNumbers(l1, l2):\n",
    "    dummy = ListNode(None)\n",
    "    curr = dummy\n",
    "    carry = 0\n",
    "    while l1 != None or l2 != None or carry != 0:\n",
    "        l1Val = l1.value if l1 else 0\n",
    "        l2Val = l2.value if l2 else 0\n",
    "        columnSum = l1Val + l2Val + carry\n",
    "        carry = columnSum // 10\n",
    "        newNode = ListNode(columnSum % 10)\n",
    "        curr.next = newNode\n",
    "        curr = newNode\n",
    "        l1 = l1.next if l1 else None\n",
    "        l2 = l2.next if l2 else None\n",
    "    return dummy.next "
   ]
  },
  {
   "cell_type": "code",
   "execution_count": 32,
   "metadata": {},
   "outputs": [
    {
     "data": {
      "text/plain": [
       "[7, 0, 8]"
      ]
     },
     "execution_count": 32,
     "metadata": {},
     "output_type": "execute_result"
    }
   ],
   "source": [
    "ll1 = ListNode(2, ListNode(4, ListNode(3)))\n",
    "ll2 = ListNode(5, ListNode(6, ListNode(4)))\n",
    "listToArray(addTwoNumbers(ll1, ll2))"
   ]
  },
  {
   "cell_type": "code",
   "execution_count": null,
   "metadata": {},
   "outputs": [],
   "source": []
  }
 ],
 "metadata": {
  "kernelspec": {
   "display_name": "Python 3.8.1 64-bit ('3.8.1')",
   "language": "python",
   "name": "python3"
  },
  "language_info": {
   "codemirror_mode": {
    "name": "ipython",
    "version": 3
   },
   "file_extension": ".py",
   "mimetype": "text/x-python",
   "name": "python",
   "nbconvert_exporter": "python",
   "pygments_lexer": "ipython3",
   "version": "3.8.1"
  },
  "orig_nbformat": 4,
  "vscode": {
   "interpreter": {
    "hash": "375f31c95a1f71fff43a8c15a66b494e52edd6575b524e15991f1100f99ee6b3"
   }
  }
 },
 "nbformat": 4,
 "nbformat_minor": 2
}
