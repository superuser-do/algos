{
 "cells": [
  {
   "cell_type": "code",
   "execution_count": 1,
   "metadata": {},
   "outputs": [],
   "source": [
    "import os, sys\n",
    "sys.path.append(os.path.dirname(os.path.dirname(os.path.abspath(\"\"))))\n",
    "from Helpers import *"
   ]
  },
  {
   "cell_type": "code",
   "execution_count": 9,
   "metadata": {},
   "outputs": [],
   "source": [
    "def reorderList(head):\n",
    "    if not head:\n",
    "        return\n",
    "    \n",
    "    # find the middle of linked list [Problem 876]\n",
    "    # in 1->2->3->4->5->6 find 4 \n",
    "    slow = fast = head\n",
    "    while fast and fast.next:\n",
    "        slow = slow.next\n",
    "        fast = fast.next.next\n",
    "    \n",
    "    # reverse the second part of the list [Problem 206]\n",
    "    # convert 1->2->3->4->5->6 into 1->2->3->4 and 6->5->4\n",
    "    # reverse the second half in-place\n",
    "    prev, curr = None, slow\n",
    "    while curr:\n",
    "        curr.next, prev, curr = prev, curr, curr.next\n",
    "\n",
    "    # merge two sorted linked lists [Problem 21]\n",
    "    # merge 1->2->3->4 and 6->5->4 into 1->6->2->5->3->4\n",
    "    first, second = head, prev\n",
    "    while second.next:\n",
    "        first.next, first = second, first.next\n",
    "        second.next, second= first, second.next\n",
    "    \n",
    "    while head:\n",
    "        print(head.value, end=\"\")\n",
    "        head = head.next"
   ]
  },
  {
   "cell_type": "code",
   "execution_count": 10,
   "metadata": {},
   "outputs": [
    {
     "name": "stdout",
     "output_type": "stream",
     "text": [
      "1423"
     ]
    }
   ],
   "source": [
    "head = ListNode(1, ListNode(2, ListNode(3, ListNode(4))))\n",
    "reorderList(head)"
   ]
  },
  {
   "cell_type": "code",
   "execution_count": null,
   "metadata": {},
   "outputs": [],
   "source": []
  }
 ],
 "metadata": {
  "kernelspec": {
   "display_name": "Python 3.8.1 64-bit ('3.8.1')",
   "language": "python",
   "name": "python3"
  },
  "language_info": {
   "codemirror_mode": {
    "name": "ipython",
    "version": 3
   },
   "file_extension": ".py",
   "mimetype": "text/x-python",
   "name": "python",
   "nbconvert_exporter": "python",
   "pygments_lexer": "ipython3",
   "version": "3.8.1"
  },
  "orig_nbformat": 4,
  "vscode": {
   "interpreter": {
    "hash": "375f31c95a1f71fff43a8c15a66b494e52edd6575b524e15991f1100f99ee6b3"
   }
  }
 },
 "nbformat": 4,
 "nbformat_minor": 2
}
