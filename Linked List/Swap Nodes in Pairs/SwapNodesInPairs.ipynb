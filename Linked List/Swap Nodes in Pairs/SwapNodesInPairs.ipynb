{
 "cells": [
  {
   "cell_type": "code",
   "execution_count": 1,
   "metadata": {},
   "outputs": [],
   "source": [
    "import os, sys\n",
    "sys.path.append(os.path.dirname(os.path.dirname(os.path.abspath(\"\"))))\n",
    "from Helpers import *"
   ]
  },
  {
   "cell_type": "code",
   "execution_count": 30,
   "metadata": {},
   "outputs": [],
   "source": [
    "def swapNodes(head, k):\n",
    "    listLength = 0\n",
    "    frontNode = None\n",
    "    endNode = None\n",
    "    currentNode = head\n",
    "\n",
    "    while currentNode:\n",
    "        listLength += 1\n",
    "        \n",
    "        if endNode:\n",
    "            endNode = endNode.next\n",
    "\n",
    "        if listLength == k:\n",
    "            frontNode = currentNode\n",
    "            endNode = head\n",
    "\n",
    "        currentNode = currentNode.next\n",
    "    \n",
    "    frontNode.value, endNode.value = endNode.value, frontNode.value\n",
    "    return head\n",
    "    "
   ]
  },
  {
   "cell_type": "code",
   "execution_count": 31,
   "metadata": {},
   "outputs": [
    {
     "data": {
      "text/plain": [
       "[1, 4, 3, 2, 5]"
      ]
     },
     "execution_count": 31,
     "metadata": {},
     "output_type": "execute_result"
    }
   ],
   "source": [
    "ll = ListNode(1, ListNode(2, ListNode(3, ListNode(4, ListNode(5)))))\n",
    "listToArray(swapNodes(ll, 2))"
   ]
  },
  {
   "cell_type": "code",
   "execution_count": null,
   "metadata": {},
   "outputs": [],
   "source": []
  }
 ],
 "metadata": {
  "kernelspec": {
   "display_name": "Python 3.8.1 64-bit ('3.8.1')",
   "language": "python",
   "name": "python3"
  },
  "language_info": {
   "codemirror_mode": {
    "name": "ipython",
    "version": 3
   },
   "file_extension": ".py",
   "mimetype": "text/x-python",
   "name": "python",
   "nbconvert_exporter": "python",
   "pygments_lexer": "ipython3",
   "version": "3.8.1"
  },
  "orig_nbformat": 4,
  "vscode": {
   "interpreter": {
    "hash": "375f31c95a1f71fff43a8c15a66b494e52edd6575b524e15991f1100f99ee6b3"
   }
  }
 },
 "nbformat": 4,
 "nbformat_minor": 2
}
